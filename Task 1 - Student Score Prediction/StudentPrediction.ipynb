{
 "cells": [
  {
   "cell_type": "markdown",
   "id": "9b3d88d7",
   "metadata": {
    "papermill": {
     "duration": 0.011128,
     "end_time": "2025-07-20T13:20:54.869910",
     "exception": false,
     "start_time": "2025-07-20T13:20:54.858782",
     "status": "completed"
    },
    "tags": []
   },
   "source": [
    "# 📝 Project Overview\n",
    "\n",
    "## 🎯 Task Description\n",
    "\n",
    "The goal of this project is to **predict students' final exam scores** based on various academic, behavioral, social, and demographic factors. This is a **supervised regression task** where the target variable is **`Exam_Score`** (a continuous numerical value).\n",
    "\n",
    "---\n",
    "\n",
    "## 📊 Dataset Overview\n",
    "\n",
    "This dataset contains information on various factors influencing student performance. The target variable is **`Exam_Score`**.\n",
    "\n",
    "| **Feature**                   | **Description**                                                                 |\n",
    "|------------------------------|---------------------------------------------------------------------------------|\n",
    "| `Hours_Studied`              | Number of hours spent studying per week.                                       |\n",
    "| `Attendance`                 | Percentage of classes attended.                                                |\n",
    "| `Parental_Involvement`       | Level of parental involvement in the student's education (`Low`, `Medium`, `High`). |\n",
    "| `Access_to_Resources`        | Availability of educational resources (`Low`, `Medium`, `High`).              |\n",
    "| `Extracurricular_Activities` | Participation in extracurricular activities (`Yes`, `No`).                    |\n",
    "| `Sleep_Hours`                | Average number of hours of sleep per night.                                    |\n",
    "| `Previous_Scores`            | Scores from previous exams.                                                    |\n",
    "| `Motivation_Level`           | Student's level of motivation (`Low`, `Medium`, `High`).                       |\n",
    "| `Internet_Access`            | Availability of internet access (`Yes`, `No`).                                 |\n",
    "| `Tutoring_Sessions`          | Number of tutoring sessions attended per month.                                |\n",
    "| `Family_Income`              | Family income level (`Low`, `Medium`, `High`).                                 |\n",
    "| `Teacher_Quality`            | Quality of the teachers (`Low`, `Medium`, `High`).                             |\n",
    "| `School_Type`                | Type of school attended (`Public`, `Private`).                                 |\n",
    "| `Peer_Influence`             | Influence of peers on academic performance (`Positive`, `Neutral`, `Negative`).|\n",
    "| `Physical_Activity`          | Average number of hours of physical activity per week.                         |\n",
    "| `Learning_Disabilities`      | Presence of learning disabilities (`Yes`, `No`).                               |\n",
    "| `Parental_Education_Level`   | Highest education level of parents (`High School`, `College`, `Postgraduate`). |\n",
    "| `Distance_from_Home`         | Distance from home to school (`Near`, `Moderate`, `Far`).                      |\n",
    "| `Gender`                     | Gender of the student (`Male`, `Female`).                                      |\n",
    "| `Exam_Score`                 | **Final exam score (Target variable).**                                        |\n",
    "\n",
    "---\n",
    "\n",
    "## 🔍 Steps Performed\n",
    "\n",
    "1. **Data Cleaning & Preprocessing**\n",
    "   - Handled missing values.\n",
    "   - Converted categorical features using encoding techniques (One-Hot Encoding,ordinal encoding).\n",
    "   - Normalized or scaled numerical features to standardize the dataset.\n",
    "\n",
    "2. **Exploratory Data Analysis (EDA)**\n",
    "   - Visualized feature distributions and correlations.\n",
    "   - Identified potential outliers or unusual trends.\n",
    "   - Examined the relationship between features and the target variable.\n",
    "\n",
    "3. **Model Building**\n",
    "   - Split the dataset into training and testing sets.\n",
    "   - Applied various regression models (Linear Regression,PolynomialRegression).\n",
    "\n",
    "4. **Model Evaluation**\n",
    "   - Evaluated model performance using metrics such as MAE, MSE, RMSE, and R² score.\n",
    "   - Interpreted model performance through evaluation metrics and cross-validation results.\n",
    "\n",
    "---\n",
    "\n",
    "> ✅ The insights gained from this project can help educators and policymakers better understand the key drivers of academic performance and implement strategies to improve student outcomes."
   ]
  },
  {
   "cell_type": "markdown",
   "id": "9ec3953a",
   "metadata": {
    "papermill": {
     "duration": 0.008897,
     "end_time": "2025-07-20T13:20:54.889027",
     "exception": false,
     "start_time": "2025-07-20T13:20:54.880130",
     "status": "completed"
    },
    "tags": []
   },
   "source": [
    "# 1. Importing libraries"
   ]
  },
  {
   "cell_type": "code",
   "id": "2f470558",
   "metadata": {
    "_cell_guid": "b1076dfc-b9ad-4769-8c92-a6c4dae69d19",
    "_uuid": "8f2839f25d086af736a60e9eeb907d3b93b6e0e5",
    "execution": {
     "iopub.execute_input": "2025-07-20T13:20:54.909788Z",
     "iopub.status.busy": "2025-07-20T13:20:54.908929Z",
     "iopub.status.idle": "2025-07-20T13:21:00.279532Z",
     "shell.execute_reply": "2025-07-20T13:21:00.278586Z"
    },
    "papermill": {
     "duration": 5.383405,
     "end_time": "2025-07-20T13:21:00.281473",
     "exception": false,
     "start_time": "2025-07-20T13:20:54.898068",
     "status": "completed"
    },
    "tags": [],
    "ExecuteTime": {
     "end_time": "2025-10-05T19:58:54.235385Z",
     "start_time": "2025-10-05T19:58:52.363756Z"
    }
   },
   "source": [
    "import numpy as np \n",
    "import pandas as pd\n",
    "import matplotlib.pyplot as plt\n",
    "import seaborn as sns\n",
    "import plotly.express as px\n",
    "import plotly.graph_objects as go\n",
    "import plotly.subplots as sp\n",
    "import plotly.io as pio\n",
    "import kagglehub\n",
    "\n",
    "from sklearn.preprocessing import StandardScaler , PolynomialFeatures\n",
    "from sklearn.impute import SimpleImputer\n",
    "from sklearn.model_selection import train_test_split , cross_val_score\n",
    "from sklearn.linear_model import LinearRegression\n",
    "from sklearn.metrics import mean_absolute_error, mean_squared_error, r2_score , make_scorer\n",
    "\n",
    "import warnings\n",
    "warnings.filterwarnings('ignore')\n",
    "\n",
    "import plotly.io as pio\n",
    "pio.renderers.default = 'iframe_connected'"
   ],
   "outputs": [],
   "execution_count": 1
  },
  {
   "cell_type": "code",
   "id": "37d034f6",
   "metadata": {
    "execution": {
     "iopub.execute_input": "2025-07-20T13:21:00.301763Z",
     "iopub.status.busy": "2025-07-20T13:21:00.300778Z",
     "iopub.status.idle": "2025-07-20T13:21:00.353078Z",
     "shell.execute_reply": "2025-07-20T13:21:00.352226Z"
    },
    "papermill": {
     "duration": 0.063902,
     "end_time": "2025-07-20T13:21:00.354760",
     "exception": false,
     "start_time": "2025-07-20T13:21:00.290858",
     "status": "completed"
    },
    "tags": [],
    "ExecuteTime": {
     "end_time": "2025-10-05T19:58:55.488595Z",
     "start_time": "2025-10-05T19:58:54.244048Z"
    }
   },
   "source": [
    "file_path = f\"{kagglehub.dataset_download('lainguyn123/student-performance-factors')}/StudentPerformanceFactors.csv\"\n",
    "\n",
    "df = pd.read_csv(file_path)"
   ],
   "outputs": [],
   "execution_count": 2
  },
  {
   "cell_type": "markdown",
   "id": "08e09746",
   "metadata": {
    "papermill": {
     "duration": 0.008871,
     "end_time": "2025-07-20T13:21:00.372999",
     "exception": false,
     "start_time": "2025-07-20T13:21:00.364128",
     "status": "completed"
    },
    "tags": []
   },
   "source": [
    "# 2. Data Exploration"
   ]
  },
  {
   "cell_type": "code",
   "id": "e37c4c87",
   "metadata": {
    "execution": {
     "iopub.execute_input": "2025-07-20T13:21:00.392570Z",
     "iopub.status.busy": "2025-07-20T13:21:00.392237Z",
     "iopub.status.idle": "2025-07-20T13:21:00.423560Z",
     "shell.execute_reply": "2025-07-20T13:21:00.422478Z"
    },
    "papermill": {
     "duration": 0.043248,
     "end_time": "2025-07-20T13:21:00.425182",
     "exception": false,
     "start_time": "2025-07-20T13:21:00.381934",
     "status": "completed"
    },
    "tags": [],
    "ExecuteTime": {
     "end_time": "2025-10-05T19:58:55.600961Z",
     "start_time": "2025-10-05T19:58:55.586697Z"
    }
   },
   "source": [
    "df.head()"
   ],
   "outputs": [
    {
     "data": {
      "text/plain": [
       "   Hours_Studied  Attendance Parental_Involvement Access_to_Resources  \\\n",
       "0             23          84                  Low                High   \n",
       "1             19          64                  Low              Medium   \n",
       "2             24          98               Medium              Medium   \n",
       "3             29          89                  Low              Medium   \n",
       "4             19          92               Medium              Medium   \n",
       "\n",
       "  Extracurricular_Activities  Sleep_Hours  Previous_Scores Motivation_Level  \\\n",
       "0                         No            7               73              Low   \n",
       "1                         No            8               59              Low   \n",
       "2                        Yes            7               91           Medium   \n",
       "3                        Yes            8               98           Medium   \n",
       "4                        Yes            6               65           Medium   \n",
       "\n",
       "  Internet_Access  Tutoring_Sessions Family_Income Teacher_Quality  \\\n",
       "0             Yes                  0           Low          Medium   \n",
       "1             Yes                  2        Medium          Medium   \n",
       "2             Yes                  2        Medium          Medium   \n",
       "3             Yes                  1        Medium          Medium   \n",
       "4             Yes                  3        Medium            High   \n",
       "\n",
       "  School_Type Peer_Influence  Physical_Activity Learning_Disabilities  \\\n",
       "0      Public       Positive                  3                    No   \n",
       "1      Public       Negative                  4                    No   \n",
       "2      Public        Neutral                  4                    No   \n",
       "3      Public       Negative                  4                    No   \n",
       "4      Public        Neutral                  4                    No   \n",
       "\n",
       "  Parental_Education_Level Distance_from_Home  Gender  Exam_Score  \n",
       "0              High School               Near    Male          67  \n",
       "1                  College           Moderate  Female          61  \n",
       "2             Postgraduate               Near    Male          74  \n",
       "3              High School           Moderate    Male          71  \n",
       "4                  College               Near  Female          70  "
      ],
      "text/html": [
       "<div>\n",
       "<style scoped>\n",
       "    .dataframe tbody tr th:only-of-type {\n",
       "        vertical-align: middle;\n",
       "    }\n",
       "\n",
       "    .dataframe tbody tr th {\n",
       "        vertical-align: top;\n",
       "    }\n",
       "\n",
       "    .dataframe thead th {\n",
       "        text-align: right;\n",
       "    }\n",
       "</style>\n",
       "<table border=\"1\" class=\"dataframe\">\n",
       "  <thead>\n",
       "    <tr style=\"text-align: right;\">\n",
       "      <th></th>\n",
       "      <th>Hours_Studied</th>\n",
       "      <th>Attendance</th>\n",
       "      <th>Parental_Involvement</th>\n",
       "      <th>Access_to_Resources</th>\n",
       "      <th>Extracurricular_Activities</th>\n",
       "      <th>Sleep_Hours</th>\n",
       "      <th>Previous_Scores</th>\n",
       "      <th>Motivation_Level</th>\n",
       "      <th>Internet_Access</th>\n",
       "      <th>Tutoring_Sessions</th>\n",
       "      <th>Family_Income</th>\n",
       "      <th>Teacher_Quality</th>\n",
       "      <th>School_Type</th>\n",
       "      <th>Peer_Influence</th>\n",
       "      <th>Physical_Activity</th>\n",
       "      <th>Learning_Disabilities</th>\n",
       "      <th>Parental_Education_Level</th>\n",
       "      <th>Distance_from_Home</th>\n",
       "      <th>Gender</th>\n",
       "      <th>Exam_Score</th>\n",
       "    </tr>\n",
       "  </thead>\n",
       "  <tbody>\n",
       "    <tr>\n",
       "      <th>0</th>\n",
       "      <td>23</td>\n",
       "      <td>84</td>\n",
       "      <td>Low</td>\n",
       "      <td>High</td>\n",
       "      <td>No</td>\n",
       "      <td>7</td>\n",
       "      <td>73</td>\n",
       "      <td>Low</td>\n",
       "      <td>Yes</td>\n",
       "      <td>0</td>\n",
       "      <td>Low</td>\n",
       "      <td>Medium</td>\n",
       "      <td>Public</td>\n",
       "      <td>Positive</td>\n",
       "      <td>3</td>\n",
       "      <td>No</td>\n",
       "      <td>High School</td>\n",
       "      <td>Near</td>\n",
       "      <td>Male</td>\n",
       "      <td>67</td>\n",
       "    </tr>\n",
       "    <tr>\n",
       "      <th>1</th>\n",
       "      <td>19</td>\n",
       "      <td>64</td>\n",
       "      <td>Low</td>\n",
       "      <td>Medium</td>\n",
       "      <td>No</td>\n",
       "      <td>8</td>\n",
       "      <td>59</td>\n",
       "      <td>Low</td>\n",
       "      <td>Yes</td>\n",
       "      <td>2</td>\n",
       "      <td>Medium</td>\n",
       "      <td>Medium</td>\n",
       "      <td>Public</td>\n",
       "      <td>Negative</td>\n",
       "      <td>4</td>\n",
       "      <td>No</td>\n",
       "      <td>College</td>\n",
       "      <td>Moderate</td>\n",
       "      <td>Female</td>\n",
       "      <td>61</td>\n",
       "    </tr>\n",
       "    <tr>\n",
       "      <th>2</th>\n",
       "      <td>24</td>\n",
       "      <td>98</td>\n",
       "      <td>Medium</td>\n",
       "      <td>Medium</td>\n",
       "      <td>Yes</td>\n",
       "      <td>7</td>\n",
       "      <td>91</td>\n",
       "      <td>Medium</td>\n",
       "      <td>Yes</td>\n",
       "      <td>2</td>\n",
       "      <td>Medium</td>\n",
       "      <td>Medium</td>\n",
       "      <td>Public</td>\n",
       "      <td>Neutral</td>\n",
       "      <td>4</td>\n",
       "      <td>No</td>\n",
       "      <td>Postgraduate</td>\n",
       "      <td>Near</td>\n",
       "      <td>Male</td>\n",
       "      <td>74</td>\n",
       "    </tr>\n",
       "    <tr>\n",
       "      <th>3</th>\n",
       "      <td>29</td>\n",
       "      <td>89</td>\n",
       "      <td>Low</td>\n",
       "      <td>Medium</td>\n",
       "      <td>Yes</td>\n",
       "      <td>8</td>\n",
       "      <td>98</td>\n",
       "      <td>Medium</td>\n",
       "      <td>Yes</td>\n",
       "      <td>1</td>\n",
       "      <td>Medium</td>\n",
       "      <td>Medium</td>\n",
       "      <td>Public</td>\n",
       "      <td>Negative</td>\n",
       "      <td>4</td>\n",
       "      <td>No</td>\n",
       "      <td>High School</td>\n",
       "      <td>Moderate</td>\n",
       "      <td>Male</td>\n",
       "      <td>71</td>\n",
       "    </tr>\n",
       "    <tr>\n",
       "      <th>4</th>\n",
       "      <td>19</td>\n",
       "      <td>92</td>\n",
       "      <td>Medium</td>\n",
       "      <td>Medium</td>\n",
       "      <td>Yes</td>\n",
       "      <td>6</td>\n",
       "      <td>65</td>\n",
       "      <td>Medium</td>\n",
       "      <td>Yes</td>\n",
       "      <td>3</td>\n",
       "      <td>Medium</td>\n",
       "      <td>High</td>\n",
       "      <td>Public</td>\n",
       "      <td>Neutral</td>\n",
       "      <td>4</td>\n",
       "      <td>No</td>\n",
       "      <td>College</td>\n",
       "      <td>Near</td>\n",
       "      <td>Female</td>\n",
       "      <td>70</td>\n",
       "    </tr>\n",
       "  </tbody>\n",
       "</table>\n",
       "</div>"
      ]
     },
     "execution_count": 3,
     "metadata": {},
     "output_type": "execute_result"
    }
   ],
   "execution_count": 3
  },
  {
   "cell_type": "code",
   "id": "4902cd59",
   "metadata": {
    "execution": {
     "iopub.execute_input": "2025-07-20T13:21:00.446438Z",
     "iopub.status.busy": "2025-07-20T13:21:00.446089Z",
     "iopub.status.idle": "2025-07-20T13:21:00.471856Z",
     "shell.execute_reply": "2025-07-20T13:21:00.470716Z"
    },
    "papermill": {
     "duration": 0.038391,
     "end_time": "2025-07-20T13:21:00.473360",
     "exception": false,
     "start_time": "2025-07-20T13:21:00.434969",
     "status": "completed"
    },
    "tags": [],
    "ExecuteTime": {
     "end_time": "2025-10-05T19:58:55.630111Z",
     "start_time": "2025-10-05T19:58:55.617910Z"
    }
   },
   "source": [
    "df.info()"
   ],
   "outputs": [
    {
     "name": "stdout",
     "output_type": "stream",
     "text": [
      "<class 'pandas.core.frame.DataFrame'>\n",
      "RangeIndex: 6607 entries, 0 to 6606\n",
      "Data columns (total 20 columns):\n",
      " #   Column                      Non-Null Count  Dtype \n",
      "---  ------                      --------------  ----- \n",
      " 0   Hours_Studied               6607 non-null   int64 \n",
      " 1   Attendance                  6607 non-null   int64 \n",
      " 2   Parental_Involvement        6607 non-null   object\n",
      " 3   Access_to_Resources         6607 non-null   object\n",
      " 4   Extracurricular_Activities  6607 non-null   object\n",
      " 5   Sleep_Hours                 6607 non-null   int64 \n",
      " 6   Previous_Scores             6607 non-null   int64 \n",
      " 7   Motivation_Level            6607 non-null   object\n",
      " 8   Internet_Access             6607 non-null   object\n",
      " 9   Tutoring_Sessions           6607 non-null   int64 \n",
      " 10  Family_Income               6607 non-null   object\n",
      " 11  Teacher_Quality             6529 non-null   object\n",
      " 12  School_Type                 6607 non-null   object\n",
      " 13  Peer_Influence              6607 non-null   object\n",
      " 14  Physical_Activity           6607 non-null   int64 \n",
      " 15  Learning_Disabilities       6607 non-null   object\n",
      " 16  Parental_Education_Level    6517 non-null   object\n",
      " 17  Distance_from_Home          6540 non-null   object\n",
      " 18  Gender                      6607 non-null   object\n",
      " 19  Exam_Score                  6607 non-null   int64 \n",
      "dtypes: int64(7), object(13)\n",
      "memory usage: 1.0+ MB\n"
     ]
    }
   ],
   "execution_count": 4
  },
  {
   "cell_type": "code",
   "id": "2f985a4a",
   "metadata": {
    "execution": {
     "iopub.execute_input": "2025-07-20T13:21:00.494223Z",
     "iopub.status.busy": "2025-07-20T13:21:00.493833Z",
     "iopub.status.idle": "2025-07-20T13:21:00.524322Z",
     "shell.execute_reply": "2025-07-20T13:21:00.523392Z"
    },
    "papermill": {
     "duration": 0.042579,
     "end_time": "2025-07-20T13:21:00.525792",
     "exception": false,
     "start_time": "2025-07-20T13:21:00.483213",
     "status": "completed"
    },
    "tags": [],
    "ExecuteTime": {
     "end_time": "2025-10-05T19:58:55.693923Z",
     "start_time": "2025-10-05T19:58:55.675166Z"
    }
   },
   "source": [
    "df.describe()"
   ],
   "outputs": [
    {
     "data": {
      "text/plain": [
       "       Hours_Studied   Attendance  Sleep_Hours  Previous_Scores  \\\n",
       "count    6607.000000  6607.000000   6607.00000      6607.000000   \n",
       "mean       19.975329    79.977448      7.02906        75.070531   \n",
       "std         5.990594    11.547475      1.46812        14.399784   \n",
       "min         1.000000    60.000000      4.00000        50.000000   \n",
       "25%        16.000000    70.000000      6.00000        63.000000   \n",
       "50%        20.000000    80.000000      7.00000        75.000000   \n",
       "75%        24.000000    90.000000      8.00000        88.000000   \n",
       "max        44.000000   100.000000     10.00000       100.000000   \n",
       "\n",
       "       Tutoring_Sessions  Physical_Activity   Exam_Score  \n",
       "count        6607.000000        6607.000000  6607.000000  \n",
       "mean            1.493719           2.967610    67.235659  \n",
       "std             1.230570           1.031231     3.890456  \n",
       "min             0.000000           0.000000    55.000000  \n",
       "25%             1.000000           2.000000    65.000000  \n",
       "50%             1.000000           3.000000    67.000000  \n",
       "75%             2.000000           4.000000    69.000000  \n",
       "max             8.000000           6.000000   101.000000  "
      ],
      "text/html": [
       "<div>\n",
       "<style scoped>\n",
       "    .dataframe tbody tr th:only-of-type {\n",
       "        vertical-align: middle;\n",
       "    }\n",
       "\n",
       "    .dataframe tbody tr th {\n",
       "        vertical-align: top;\n",
       "    }\n",
       "\n",
       "    .dataframe thead th {\n",
       "        text-align: right;\n",
       "    }\n",
       "</style>\n",
       "<table border=\"1\" class=\"dataframe\">\n",
       "  <thead>\n",
       "    <tr style=\"text-align: right;\">\n",
       "      <th></th>\n",
       "      <th>Hours_Studied</th>\n",
       "      <th>Attendance</th>\n",
       "      <th>Sleep_Hours</th>\n",
       "      <th>Previous_Scores</th>\n",
       "      <th>Tutoring_Sessions</th>\n",
       "      <th>Physical_Activity</th>\n",
       "      <th>Exam_Score</th>\n",
       "    </tr>\n",
       "  </thead>\n",
       "  <tbody>\n",
       "    <tr>\n",
       "      <th>count</th>\n",
       "      <td>6607.000000</td>\n",
       "      <td>6607.000000</td>\n",
       "      <td>6607.00000</td>\n",
       "      <td>6607.000000</td>\n",
       "      <td>6607.000000</td>\n",
       "      <td>6607.000000</td>\n",
       "      <td>6607.000000</td>\n",
       "    </tr>\n",
       "    <tr>\n",
       "      <th>mean</th>\n",
       "      <td>19.975329</td>\n",
       "      <td>79.977448</td>\n",
       "      <td>7.02906</td>\n",
       "      <td>75.070531</td>\n",
       "      <td>1.493719</td>\n",
       "      <td>2.967610</td>\n",
       "      <td>67.235659</td>\n",
       "    </tr>\n",
       "    <tr>\n",
       "      <th>std</th>\n",
       "      <td>5.990594</td>\n",
       "      <td>11.547475</td>\n",
       "      <td>1.46812</td>\n",
       "      <td>14.399784</td>\n",
       "      <td>1.230570</td>\n",
       "      <td>1.031231</td>\n",
       "      <td>3.890456</td>\n",
       "    </tr>\n",
       "    <tr>\n",
       "      <th>min</th>\n",
       "      <td>1.000000</td>\n",
       "      <td>60.000000</td>\n",
       "      <td>4.00000</td>\n",
       "      <td>50.000000</td>\n",
       "      <td>0.000000</td>\n",
       "      <td>0.000000</td>\n",
       "      <td>55.000000</td>\n",
       "    </tr>\n",
       "    <tr>\n",
       "      <th>25%</th>\n",
       "      <td>16.000000</td>\n",
       "      <td>70.000000</td>\n",
       "      <td>6.00000</td>\n",
       "      <td>63.000000</td>\n",
       "      <td>1.000000</td>\n",
       "      <td>2.000000</td>\n",
       "      <td>65.000000</td>\n",
       "    </tr>\n",
       "    <tr>\n",
       "      <th>50%</th>\n",
       "      <td>20.000000</td>\n",
       "      <td>80.000000</td>\n",
       "      <td>7.00000</td>\n",
       "      <td>75.000000</td>\n",
       "      <td>1.000000</td>\n",
       "      <td>3.000000</td>\n",
       "      <td>67.000000</td>\n",
       "    </tr>\n",
       "    <tr>\n",
       "      <th>75%</th>\n",
       "      <td>24.000000</td>\n",
       "      <td>90.000000</td>\n",
       "      <td>8.00000</td>\n",
       "      <td>88.000000</td>\n",
       "      <td>2.000000</td>\n",
       "      <td>4.000000</td>\n",
       "      <td>69.000000</td>\n",
       "    </tr>\n",
       "    <tr>\n",
       "      <th>max</th>\n",
       "      <td>44.000000</td>\n",
       "      <td>100.000000</td>\n",
       "      <td>10.00000</td>\n",
       "      <td>100.000000</td>\n",
       "      <td>8.000000</td>\n",
       "      <td>6.000000</td>\n",
       "      <td>101.000000</td>\n",
       "    </tr>\n",
       "  </tbody>\n",
       "</table>\n",
       "</div>"
      ]
     },
     "execution_count": 5,
     "metadata": {},
     "output_type": "execute_result"
    }
   ],
   "execution_count": 5
  },
  {
   "cell_type": "code",
   "id": "ecb47ee3",
   "metadata": {
    "execution": {
     "iopub.execute_input": "2025-07-20T13:21:00.546779Z",
     "iopub.status.busy": "2025-07-20T13:21:00.546474Z",
     "iopub.status.idle": "2025-07-20T13:21:00.559356Z",
     "shell.execute_reply": "2025-07-20T13:21:00.558341Z"
    },
    "papermill": {
     "duration": 0.025174,
     "end_time": "2025-07-20T13:21:00.561033",
     "exception": false,
     "start_time": "2025-07-20T13:21:00.535859",
     "status": "completed"
    },
    "tags": [],
    "ExecuteTime": {
     "end_time": "2025-10-05T19:58:55.868306Z",
     "start_time": "2025-10-05T19:58:55.859044Z"
    }
   },
   "source": [
    "df.isnull().sum()"
   ],
   "outputs": [
    {
     "data": {
      "text/plain": [
       "Hours_Studied                  0\n",
       "Attendance                     0\n",
       "Parental_Involvement           0\n",
       "Access_to_Resources            0\n",
       "Extracurricular_Activities     0\n",
       "Sleep_Hours                    0\n",
       "Previous_Scores                0\n",
       "Motivation_Level               0\n",
       "Internet_Access                0\n",
       "Tutoring_Sessions              0\n",
       "Family_Income                  0\n",
       "Teacher_Quality               78\n",
       "School_Type                    0\n",
       "Peer_Influence                 0\n",
       "Physical_Activity              0\n",
       "Learning_Disabilities          0\n",
       "Parental_Education_Level      90\n",
       "Distance_from_Home            67\n",
       "Gender                         0\n",
       "Exam_Score                     0\n",
       "dtype: int64"
      ]
     },
     "execution_count": 6,
     "metadata": {},
     "output_type": "execute_result"
    }
   ],
   "execution_count": 6
  },
  {
   "cell_type": "code",
   "id": "769600ee",
   "metadata": {
    "execution": {
     "iopub.execute_input": "2025-07-20T13:21:00.584750Z",
     "iopub.status.busy": "2025-07-20T13:21:00.583989Z",
     "iopub.status.idle": "2025-07-20T13:21:00.589779Z",
     "shell.execute_reply": "2025-07-20T13:21:00.588905Z"
    },
    "papermill": {
     "duration": 0.019255,
     "end_time": "2025-07-20T13:21:00.591381",
     "exception": false,
     "start_time": "2025-07-20T13:21:00.572126",
     "status": "completed"
    },
    "tags": [],
    "ExecuteTime": {
     "end_time": "2025-10-05T19:58:55.961211Z",
     "start_time": "2025-10-05T19:58:55.956333Z"
    }
   },
   "source": [
    "df.shape"
   ],
   "outputs": [
    {
     "data": {
      "text/plain": [
       "(6607, 20)"
      ]
     },
     "execution_count": 7,
     "metadata": {},
     "output_type": "execute_result"
    }
   ],
   "execution_count": 7
  },
  {
   "cell_type": "code",
   "id": "0888b28a",
   "metadata": {
    "execution": {
     "iopub.execute_input": "2025-07-20T13:21:00.613011Z",
     "iopub.status.busy": "2025-07-20T13:21:00.612630Z",
     "iopub.status.idle": "2025-07-20T13:21:00.620913Z",
     "shell.execute_reply": "2025-07-20T13:21:00.620029Z"
    },
    "papermill": {
     "duration": 0.020628,
     "end_time": "2025-07-20T13:21:00.622319",
     "exception": false,
     "start_time": "2025-07-20T13:21:00.601691",
     "status": "completed"
    },
    "tags": [],
    "ExecuteTime": {
     "end_time": "2025-10-05T19:58:56.044736Z",
     "start_time": "2025-10-05T19:58:56.038430Z"
    }
   },
   "source": [
    "cat_cols = df.select_dtypes(include='object')\n",
    "num_cols = df.select_dtypes(include='number')\n",
    "num_cols.columns"
   ],
   "outputs": [
    {
     "data": {
      "text/plain": [
       "Index(['Hours_Studied', 'Attendance', 'Sleep_Hours', 'Previous_Scores',\n",
       "       'Tutoring_Sessions', 'Physical_Activity', 'Exam_Score'],\n",
       "      dtype='object')"
      ]
     },
     "execution_count": 8,
     "metadata": {},
     "output_type": "execute_result"
    }
   ],
   "execution_count": 8
  },
  {
   "cell_type": "code",
   "id": "24d56165",
   "metadata": {
    "execution": {
     "iopub.execute_input": "2025-07-20T13:21:00.643765Z",
     "iopub.status.busy": "2025-07-20T13:21:00.643465Z",
     "iopub.status.idle": "2025-07-20T13:21:00.650302Z",
     "shell.execute_reply": "2025-07-20T13:21:00.649169Z"
    },
    "papermill": {
     "duration": 0.019613,
     "end_time": "2025-07-20T13:21:00.652152",
     "exception": false,
     "start_time": "2025-07-20T13:21:00.632539",
     "status": "completed"
    },
    "tags": [],
    "ExecuteTime": {
     "end_time": "2025-10-05T19:58:56.079371Z",
     "start_time": "2025-10-05T19:58:56.075112Z"
    }
   },
   "source": [
    "cat_cols.columns"
   ],
   "outputs": [
    {
     "data": {
      "text/plain": [
       "Index(['Parental_Involvement', 'Access_to_Resources',\n",
       "       'Extracurricular_Activities', 'Motivation_Level', 'Internet_Access',\n",
       "       'Family_Income', 'Teacher_Quality', 'School_Type', 'Peer_Influence',\n",
       "       'Learning_Disabilities', 'Parental_Education_Level',\n",
       "       'Distance_from_Home', 'Gender'],\n",
       "      dtype='object')"
      ]
     },
     "execution_count": 9,
     "metadata": {},
     "output_type": "execute_result"
    }
   ],
   "execution_count": 9
  },
  {
   "cell_type": "code",
   "id": "a19994cf",
   "metadata": {
    "execution": {
     "iopub.execute_input": "2025-07-20T13:21:00.674133Z",
     "iopub.status.busy": "2025-07-20T13:21:00.673765Z",
     "iopub.status.idle": "2025-07-20T13:21:00.895299Z",
     "shell.execute_reply": "2025-07-20T13:21:00.894294Z"
    },
    "papermill": {
     "duration": 0.234307,
     "end_time": "2025-07-20T13:21:00.896905",
     "exception": false,
     "start_time": "2025-07-20T13:21:00.662598",
     "status": "completed"
    },
    "tags": [],
    "ExecuteTime": {
     "end_time": "2025-10-05T19:58:56.170771Z",
     "start_time": "2025-10-05T19:58:56.093452Z"
    }
   },
   "source": [
    "cat_summary = {}\n",
    "\n",
    "for col in cat_cols.columns:\n",
    "    unique_vals = df[col].dropna().unique()\n",
    "    cat_summary[col] = [\", \".join(map(str, unique_vals[:10])) + (\" ...\" if len(unique_vals) > 10 else \"\")]\n",
    "\n",
    "summary_df = pd.DataFrame(cat_summary).T\n",
    "summary_df.columns = [\"Unique Values\"]\n",
    "summary_df[\"Count\"] = summary_df[\"Unique Values\"].apply(lambda x: len(x.split(\", \")))\n",
    "\n",
    "styled = summary_df.style.set_table_styles(\n",
    "    [{'selector': 'th', 'props': [('background-color', '#B99470'), ('color', 'white'), ('font-weight', 'bold')]}]\n",
    ").background_gradient(cmap=\"YlGnBu\", subset=[\"Count\"]).set_properties(**{\n",
    "    'text-align': 'left',\n",
    "    'border': '1px solid gray',\n",
    "}).set_caption(\"💠 Summary of Categorical Columns\")\n",
    "\n",
    "styled"
   ],
   "outputs": [
    {
     "data": {
      "text/plain": [
       "<pandas.io.formats.style.Styler at 0x243a34ae660>"
      ],
      "text/html": [
       "<style type=\"text/css\">\n",
       "#T_f600a th {\n",
       "  background-color: #B99470;\n",
       "  color: white;\n",
       "  font-weight: bold;\n",
       "}\n",
       "#T_f600a_row0_col0, #T_f600a_row1_col0, #T_f600a_row2_col0, #T_f600a_row3_col0, #T_f600a_row4_col0, #T_f600a_row5_col0, #T_f600a_row6_col0, #T_f600a_row7_col0, #T_f600a_row8_col0, #T_f600a_row9_col0, #T_f600a_row10_col0, #T_f600a_row11_col0, #T_f600a_row12_col0 {\n",
       "  text-align: left;\n",
       "  border: 1px solid gray;\n",
       "}\n",
       "#T_f600a_row0_col1, #T_f600a_row1_col1, #T_f600a_row3_col1, #T_f600a_row5_col1, #T_f600a_row6_col1, #T_f600a_row8_col1, #T_f600a_row10_col1, #T_f600a_row11_col1 {\n",
       "  background-color: #081d58;\n",
       "  color: #f1f1f1;\n",
       "  text-align: left;\n",
       "  border: 1px solid gray;\n",
       "}\n",
       "#T_f600a_row2_col1, #T_f600a_row4_col1, #T_f600a_row7_col1, #T_f600a_row9_col1, #T_f600a_row12_col1 {\n",
       "  background-color: #ffffd9;\n",
       "  color: #000000;\n",
       "  text-align: left;\n",
       "  border: 1px solid gray;\n",
       "}\n",
       "</style>\n",
       "<table id=\"T_f600a\">\n",
       "  <caption>💠 Summary of Categorical Columns</caption>\n",
       "  <thead>\n",
       "    <tr>\n",
       "      <th class=\"blank level0\" >&nbsp;</th>\n",
       "      <th id=\"T_f600a_level0_col0\" class=\"col_heading level0 col0\" >Unique Values</th>\n",
       "      <th id=\"T_f600a_level0_col1\" class=\"col_heading level0 col1\" >Count</th>\n",
       "    </tr>\n",
       "  </thead>\n",
       "  <tbody>\n",
       "    <tr>\n",
       "      <th id=\"T_f600a_level0_row0\" class=\"row_heading level0 row0\" >Parental_Involvement</th>\n",
       "      <td id=\"T_f600a_row0_col0\" class=\"data row0 col0\" >Low, Medium, High</td>\n",
       "      <td id=\"T_f600a_row0_col1\" class=\"data row0 col1\" >3</td>\n",
       "    </tr>\n",
       "    <tr>\n",
       "      <th id=\"T_f600a_level0_row1\" class=\"row_heading level0 row1\" >Access_to_Resources</th>\n",
       "      <td id=\"T_f600a_row1_col0\" class=\"data row1 col0\" >High, Medium, Low</td>\n",
       "      <td id=\"T_f600a_row1_col1\" class=\"data row1 col1\" >3</td>\n",
       "    </tr>\n",
       "    <tr>\n",
       "      <th id=\"T_f600a_level0_row2\" class=\"row_heading level0 row2\" >Extracurricular_Activities</th>\n",
       "      <td id=\"T_f600a_row2_col0\" class=\"data row2 col0\" >No, Yes</td>\n",
       "      <td id=\"T_f600a_row2_col1\" class=\"data row2 col1\" >2</td>\n",
       "    </tr>\n",
       "    <tr>\n",
       "      <th id=\"T_f600a_level0_row3\" class=\"row_heading level0 row3\" >Motivation_Level</th>\n",
       "      <td id=\"T_f600a_row3_col0\" class=\"data row3 col0\" >Low, Medium, High</td>\n",
       "      <td id=\"T_f600a_row3_col1\" class=\"data row3 col1\" >3</td>\n",
       "    </tr>\n",
       "    <tr>\n",
       "      <th id=\"T_f600a_level0_row4\" class=\"row_heading level0 row4\" >Internet_Access</th>\n",
       "      <td id=\"T_f600a_row4_col0\" class=\"data row4 col0\" >Yes, No</td>\n",
       "      <td id=\"T_f600a_row4_col1\" class=\"data row4 col1\" >2</td>\n",
       "    </tr>\n",
       "    <tr>\n",
       "      <th id=\"T_f600a_level0_row5\" class=\"row_heading level0 row5\" >Family_Income</th>\n",
       "      <td id=\"T_f600a_row5_col0\" class=\"data row5 col0\" >Low, Medium, High</td>\n",
       "      <td id=\"T_f600a_row5_col1\" class=\"data row5 col1\" >3</td>\n",
       "    </tr>\n",
       "    <tr>\n",
       "      <th id=\"T_f600a_level0_row6\" class=\"row_heading level0 row6\" >Teacher_Quality</th>\n",
       "      <td id=\"T_f600a_row6_col0\" class=\"data row6 col0\" >Medium, High, Low</td>\n",
       "      <td id=\"T_f600a_row6_col1\" class=\"data row6 col1\" >3</td>\n",
       "    </tr>\n",
       "    <tr>\n",
       "      <th id=\"T_f600a_level0_row7\" class=\"row_heading level0 row7\" >School_Type</th>\n",
       "      <td id=\"T_f600a_row7_col0\" class=\"data row7 col0\" >Public, Private</td>\n",
       "      <td id=\"T_f600a_row7_col1\" class=\"data row7 col1\" >2</td>\n",
       "    </tr>\n",
       "    <tr>\n",
       "      <th id=\"T_f600a_level0_row8\" class=\"row_heading level0 row8\" >Peer_Influence</th>\n",
       "      <td id=\"T_f600a_row8_col0\" class=\"data row8 col0\" >Positive, Negative, Neutral</td>\n",
       "      <td id=\"T_f600a_row8_col1\" class=\"data row8 col1\" >3</td>\n",
       "    </tr>\n",
       "    <tr>\n",
       "      <th id=\"T_f600a_level0_row9\" class=\"row_heading level0 row9\" >Learning_Disabilities</th>\n",
       "      <td id=\"T_f600a_row9_col0\" class=\"data row9 col0\" >No, Yes</td>\n",
       "      <td id=\"T_f600a_row9_col1\" class=\"data row9 col1\" >2</td>\n",
       "    </tr>\n",
       "    <tr>\n",
       "      <th id=\"T_f600a_level0_row10\" class=\"row_heading level0 row10\" >Parental_Education_Level</th>\n",
       "      <td id=\"T_f600a_row10_col0\" class=\"data row10 col0\" >High School, College, Postgraduate</td>\n",
       "      <td id=\"T_f600a_row10_col1\" class=\"data row10 col1\" >3</td>\n",
       "    </tr>\n",
       "    <tr>\n",
       "      <th id=\"T_f600a_level0_row11\" class=\"row_heading level0 row11\" >Distance_from_Home</th>\n",
       "      <td id=\"T_f600a_row11_col0\" class=\"data row11 col0\" >Near, Moderate, Far</td>\n",
       "      <td id=\"T_f600a_row11_col1\" class=\"data row11 col1\" >3</td>\n",
       "    </tr>\n",
       "    <tr>\n",
       "      <th id=\"T_f600a_level0_row12\" class=\"row_heading level0 row12\" >Gender</th>\n",
       "      <td id=\"T_f600a_row12_col0\" class=\"data row12 col0\" >Male, Female</td>\n",
       "      <td id=\"T_f600a_row12_col1\" class=\"data row12 col1\" >2</td>\n",
       "    </tr>\n",
       "  </tbody>\n",
       "</table>\n"
      ]
     },
     "execution_count": 10,
     "metadata": {},
     "output_type": "execute_result"
    }
   ],
   "execution_count": 10
  },
  {
   "cell_type": "code",
   "id": "d1e7de7a",
   "metadata": {
    "execution": {
     "iopub.execute_input": "2025-07-20T13:21:00.919458Z",
     "iopub.status.busy": "2025-07-20T13:21:00.918976Z",
     "iopub.status.idle": "2025-07-20T13:21:02.712194Z",
     "shell.execute_reply": "2025-07-20T13:21:02.711334Z"
    },
    "papermill": {
     "duration": 1.806089,
     "end_time": "2025-07-20T13:21:02.713729",
     "exception": false,
     "start_time": "2025-07-20T13:21:00.907640",
     "status": "completed"
    },
    "tags": [],
    "ExecuteTime": {
     "end_time": "2025-10-05T19:58:56.387993Z",
     "start_time": "2025-10-05T19:58:56.226318Z"
    }
   },
   "source": [
    "cat_cols = df.select_dtypes(include='O')\n",
    "\n",
    "cols = 2\n",
    "rows = (len(cat_cols.columns) + 1) // cols\n",
    "\n",
    "fig = sp.make_subplots(\n",
    "    rows=rows,\n",
    "    cols=cols,\n",
    "    subplot_titles=[col for col in cat_cols.columns])\n",
    "\n",
    "for i, column in enumerate(cat_cols.columns):\n",
    "    row = (i // cols) + 1\n",
    "    col = (i % cols) + 1\n",
    "    count_df = df[column].fillna('Unknown').value_counts().reset_index()\n",
    "    count_df.columns = [column, 'count']\n",
    "\n",
    "    fig.add_trace(\n",
    "        go.Bar(\n",
    "            x=count_df[column],\n",
    "            y=count_df['count'],\n",
    "            text=count_df['count'],\n",
    "            textposition='auto',\n",
    "            showlegend=False \n",
    "        ),\n",
    "        row=row,\n",
    "        col=col\n",
    "    )\n",
    "\n",
    "fig.update_layout(\n",
    "    title_text=\"Distribution of Each Categorical Feature\",\n",
    "    height=2500,\n",
    "    width=900,\n",
    "    showlegend=False,       \n",
    "    template='plotly_white'\n",
    ")\n",
    "\n",
    "fig.show()"
   ],
   "outputs": [
    {
     "data": {
      "text/html": [
       "<iframe\n",
       "    scrolling=\"no\"\n",
       "    width=\"920px\"\n",
       "    height=\"2520\"\n",
       "    src=\"iframe_figures/figure_11.html\"\n",
       "    frameborder=\"0\"\n",
       "    allowfullscreen\n",
       "></iframe>\n"
      ]
     },
     "metadata": {},
     "output_type": "display_data",
     "jetTransient": {
      "display_id": null
     }
    }
   ],
   "execution_count": 11
  },
  {
   "cell_type": "code",
   "id": "e0c00584",
   "metadata": {
    "execution": {
     "iopub.execute_input": "2025-07-20T13:21:02.736791Z",
     "iopub.status.busy": "2025-07-20T13:21:02.736491Z",
     "iopub.status.idle": "2025-07-20T13:21:02.750996Z",
     "shell.execute_reply": "2025-07-20T13:21:02.750017Z"
    },
    "papermill": {
     "duration": 0.028334,
     "end_time": "2025-07-20T13:21:02.752877",
     "exception": false,
     "start_time": "2025-07-20T13:21:02.724543",
     "status": "completed"
    },
    "tags": [],
    "ExecuteTime": {
     "end_time": "2025-10-05T19:58:56.423175Z",
     "start_time": "2025-10-05T19:58:56.407242Z"
    }
   },
   "source": [
    "df.duplicated().sum()"
   ],
   "outputs": [
    {
     "data": {
      "text/plain": [
       "np.int64(0)"
      ]
     },
     "execution_count": 12,
     "metadata": {},
     "output_type": "execute_result"
    }
   ],
   "execution_count": 12
  },
  {
   "cell_type": "code",
   "id": "3ee40b03",
   "metadata": {
    "execution": {
     "iopub.execute_input": "2025-07-20T13:21:02.831976Z",
     "iopub.status.busy": "2025-07-20T13:21:02.831652Z",
     "iopub.status.idle": "2025-07-20T13:21:02.860302Z",
     "shell.execute_reply": "2025-07-20T13:21:02.859264Z"
    },
    "papermill": {
     "duration": 0.041732,
     "end_time": "2025-07-20T13:21:02.861781",
     "exception": false,
     "start_time": "2025-07-20T13:21:02.820049",
     "status": "completed"
    },
    "tags": [],
    "ExecuteTime": {
     "end_time": "2025-10-05T19:58:56.490645Z",
     "start_time": "2025-10-05T19:58:56.467436Z"
    }
   },
   "source": [
    "train_missing = pd.DataFrame({\n",
    "    'total_missing': df.isnull().sum(), \n",
    "    'perc_missing': (df.isnull().sum() / df.shape[0]) * 100\n",
    "})\n",
    "train_missing = train_missing[train_missing[\"total_missing\"] > 0]\n",
    "train_missing = train_missing.sort_values(by=\"perc_missing\", ascending=False)\n",
    "\n",
    "train_missing.style.background_gradient(cmap='Oranges')\\\n",
    "               .format({'perc_missing': '{:.2f}%'})\\\n",
    "               .set_caption(\"🩹 Missing Values Summary\")"
   ],
   "outputs": [
    {
     "data": {
      "text/plain": [
       "<pandas.io.formats.style.Styler at 0x243a3669950>"
      ],
      "text/html": [
       "<style type=\"text/css\">\n",
       "#T_aa7ab_row0_col0, #T_aa7ab_row0_col1 {\n",
       "  background-color: #7f2704;\n",
       "  color: #f1f1f1;\n",
       "}\n",
       "#T_aa7ab_row1_col0, #T_aa7ab_row1_col1 {\n",
       "  background-color: #fd9344;\n",
       "  color: #000000;\n",
       "}\n",
       "#T_aa7ab_row2_col0, #T_aa7ab_row2_col1 {\n",
       "  background-color: #fff5eb;\n",
       "  color: #000000;\n",
       "}\n",
       "</style>\n",
       "<table id=\"T_aa7ab\">\n",
       "  <caption>🩹 Missing Values Summary</caption>\n",
       "  <thead>\n",
       "    <tr>\n",
       "      <th class=\"blank level0\" >&nbsp;</th>\n",
       "      <th id=\"T_aa7ab_level0_col0\" class=\"col_heading level0 col0\" >total_missing</th>\n",
       "      <th id=\"T_aa7ab_level0_col1\" class=\"col_heading level0 col1\" >perc_missing</th>\n",
       "    </tr>\n",
       "  </thead>\n",
       "  <tbody>\n",
       "    <tr>\n",
       "      <th id=\"T_aa7ab_level0_row0\" class=\"row_heading level0 row0\" >Parental_Education_Level</th>\n",
       "      <td id=\"T_aa7ab_row0_col0\" class=\"data row0 col0\" >90</td>\n",
       "      <td id=\"T_aa7ab_row0_col1\" class=\"data row0 col1\" >1.36%</td>\n",
       "    </tr>\n",
       "    <tr>\n",
       "      <th id=\"T_aa7ab_level0_row1\" class=\"row_heading level0 row1\" >Teacher_Quality</th>\n",
       "      <td id=\"T_aa7ab_row1_col0\" class=\"data row1 col0\" >78</td>\n",
       "      <td id=\"T_aa7ab_row1_col1\" class=\"data row1 col1\" >1.18%</td>\n",
       "    </tr>\n",
       "    <tr>\n",
       "      <th id=\"T_aa7ab_level0_row2\" class=\"row_heading level0 row2\" >Distance_from_Home</th>\n",
       "      <td id=\"T_aa7ab_row2_col0\" class=\"data row2 col0\" >67</td>\n",
       "      <td id=\"T_aa7ab_row2_col1\" class=\"data row2 col1\" >1.01%</td>\n",
       "    </tr>\n",
       "  </tbody>\n",
       "</table>\n"
      ]
     },
     "execution_count": 13,
     "metadata": {},
     "output_type": "execute_result"
    }
   ],
   "execution_count": 13
  },
  {
   "cell_type": "code",
   "id": "7d91255a",
   "metadata": {
    "execution": {
     "iopub.execute_input": "2025-07-20T13:21:02.884770Z",
     "iopub.status.busy": "2025-07-20T13:21:02.884481Z",
     "iopub.status.idle": "2025-07-20T13:21:02.907470Z",
     "shell.execute_reply": "2025-07-20T13:21:02.906440Z"
    },
    "papermill": {
     "duration": 0.036302,
     "end_time": "2025-07-20T13:21:02.909030",
     "exception": false,
     "start_time": "2025-07-20T13:21:02.872728",
     "status": "completed"
    },
    "tags": [],
    "ExecuteTime": {
     "end_time": "2025-10-05T19:58:56.534134Z",
     "start_time": "2025-10-05T19:58:56.516823Z"
    }
   },
   "source": [
    "for col in num_cols:\n",
    "    Q1 = df[col].quantile(0.25)\n",
    "    Q3 = df[col].quantile(0.75)\n",
    "    IQR = Q3 - Q1\n",
    "    lower = Q1 - 1.5 * IQR\n",
    "    upper = Q3 + 1.5 * IQR\n",
    "    outliers = df[(df[col] < lower) | (df[col] > upper)]\n",
    "    print(f\"{col}: {len(outliers)} outliers\")"
   ],
   "outputs": [
    {
     "name": "stdout",
     "output_type": "stream",
     "text": [
      "Hours_Studied: 43 outliers\n",
      "Attendance: 0 outliers\n",
      "Sleep_Hours: 0 outliers\n",
      "Previous_Scores: 0 outliers\n",
      "Tutoring_Sessions: 430 outliers\n",
      "Physical_Activity: 0 outliers\n",
      "Exam_Score: 104 outliers\n"
     ]
    }
   ],
   "execution_count": 14
  },
  {
   "cell_type": "markdown",
   "id": "bbb9c343",
   "metadata": {
    "execution": {
     "iopub.execute_input": "2025-07-20T11:41:48.543311Z",
     "iopub.status.busy": "2025-07-20T11:41:48.540335Z",
     "iopub.status.idle": "2025-07-20T11:41:48.558916Z",
     "shell.execute_reply": "2025-07-20T11:41:48.556965Z",
     "shell.execute_reply.started": "2025-07-20T11:41:48.543207Z"
    },
    "papermill": {
     "duration": 0.010676,
     "end_time": "2025-07-20T13:21:02.931109",
     "exception": false,
     "start_time": "2025-07-20T13:21:02.920433",
     "status": "completed"
    },
    "tags": []
   },
   "source": [
    "# 3. Data Preprocessing and cleaning"
   ]
  },
  {
   "cell_type": "markdown",
   "id": "1cd2a458",
   "metadata": {
    "papermill": {
     "duration": 0.010525,
     "end_time": "2025-07-20T13:21:02.952684",
     "exception": false,
     "start_time": "2025-07-20T13:21:02.942159",
     "status": "completed"
    },
    "tags": []
   },
   "source": [
    "## 3.1 Handling null valuse-- with `SimpleImputer` "
   ]
  },
  {
   "cell_type": "code",
   "id": "394929c9",
   "metadata": {
    "execution": {
     "iopub.execute_input": "2025-07-20T13:21:02.975542Z",
     "iopub.status.busy": "2025-07-20T13:21:02.975220Z",
     "iopub.status.idle": "2025-07-20T13:21:02.988557Z",
     "shell.execute_reply": "2025-07-20T13:21:02.987526Z"
    },
    "papermill": {
     "duration": 0.026933,
     "end_time": "2025-07-20T13:21:02.990345",
     "exception": false,
     "start_time": "2025-07-20T13:21:02.963412",
     "status": "completed"
    },
    "tags": [],
    "ExecuteTime": {
     "end_time": "2025-10-05T19:58:56.556449Z",
     "start_time": "2025-10-05T19:58:56.543439Z"
    }
   },
   "source": [
    "columns_to_impute = ['Teacher_Quality', 'Parental_Education_Level', 'Distance_from_Home']\n",
    "\n",
    "imputer = SimpleImputer(strategy='most_frequent')\n",
    "df[columns_to_impute] = imputer.fit_transform(df[columns_to_impute])"
   ],
   "outputs": [],
   "execution_count": 15
  },
  {
   "cell_type": "code",
   "id": "edbf98d9",
   "metadata": {
    "execution": {
     "iopub.execute_input": "2025-07-20T13:21:03.017843Z",
     "iopub.status.busy": "2025-07-20T13:21:03.017097Z",
     "iopub.status.idle": "2025-07-20T13:21:03.029936Z",
     "shell.execute_reply": "2025-07-20T13:21:03.029051Z"
    },
    "papermill": {
     "duration": 0.026672,
     "end_time": "2025-07-20T13:21:03.031415",
     "exception": false,
     "start_time": "2025-07-20T13:21:03.004743",
     "status": "completed"
    },
    "tags": [],
    "ExecuteTime": {
     "end_time": "2025-10-05T19:58:56.575126Z",
     "start_time": "2025-10-05T19:58:56.565416Z"
    }
   },
   "source": [
    "df.isnull().sum()"
   ],
   "outputs": [
    {
     "data": {
      "text/plain": [
       "Hours_Studied                 0\n",
       "Attendance                    0\n",
       "Parental_Involvement          0\n",
       "Access_to_Resources           0\n",
       "Extracurricular_Activities    0\n",
       "Sleep_Hours                   0\n",
       "Previous_Scores               0\n",
       "Motivation_Level              0\n",
       "Internet_Access               0\n",
       "Tutoring_Sessions             0\n",
       "Family_Income                 0\n",
       "Teacher_Quality               0\n",
       "School_Type                   0\n",
       "Peer_Influence                0\n",
       "Physical_Activity             0\n",
       "Learning_Disabilities         0\n",
       "Parental_Education_Level      0\n",
       "Distance_from_Home            0\n",
       "Gender                        0\n",
       "Exam_Score                    0\n",
       "dtype: int64"
      ]
     },
     "execution_count": 16,
     "metadata": {},
     "output_type": "execute_result"
    }
   ],
   "execution_count": 16
  },
  {
   "cell_type": "markdown",
   "id": "74808ca3",
   "metadata": {
    "papermill": {
     "duration": 0.011356,
     "end_time": "2025-07-20T13:21:03.054045",
     "exception": false,
     "start_time": "2025-07-20T13:21:03.042689",
     "status": "completed"
    },
    "tags": []
   },
   "source": [
    "## 3.2 Handling Outliers – with IQR Method and Median Imputation"
   ]
  },
  {
   "cell_type": "code",
   "id": "d0bde5b3",
   "metadata": {
    "execution": {
     "iopub.execute_input": "2025-07-20T13:21:03.077847Z",
     "iopub.status.busy": "2025-07-20T13:21:03.077181Z",
     "iopub.status.idle": "2025-07-20T13:21:03.099260Z",
     "shell.execute_reply": "2025-07-20T13:21:03.098204Z"
    },
    "papermill": {
     "duration": 0.035935,
     "end_time": "2025-07-20T13:21:03.101125",
     "exception": false,
     "start_time": "2025-07-20T13:21:03.065190",
     "status": "completed"
    },
    "tags": [],
    "ExecuteTime": {
     "end_time": "2025-10-05T19:58:56.788420Z",
     "start_time": "2025-10-05T19:58:56.770703Z"
    }
   },
   "source": [
    "for col in num_cols:\n",
    "    Q1 = df[col].quantile(0.25)\n",
    "    Q3 = df[col].quantile(0.75)\n",
    "    IQR = Q3 - Q1\n",
    "    lower = Q1 - 1.5 * IQR\n",
    "    upper = Q3 + 1.5 * IQR\n",
    "    median = df[col].median()\n",
    "    df[col] = np.where((df[col] < lower) | (df[col] > upper), median, df[col])"
   ],
   "outputs": [],
   "execution_count": 17
  },
  {
   "cell_type": "code",
   "id": "eb894ff8",
   "metadata": {
    "execution": {
     "iopub.execute_input": "2025-07-20T13:21:03.125075Z",
     "iopub.status.busy": "2025-07-20T13:21:03.124417Z",
     "iopub.status.idle": "2025-07-20T13:21:03.669018Z",
     "shell.execute_reply": "2025-07-20T13:21:03.668213Z"
    },
    "papermill": {
     "duration": 0.557915,
     "end_time": "2025-07-20T13:21:03.670463",
     "exception": false,
     "start_time": "2025-07-20T13:21:03.112548",
     "status": "completed"
    },
    "tags": [],
    "ExecuteTime": {
     "end_time": "2025-10-05T19:58:57.373542Z",
     "start_time": "2025-10-05T19:58:56.856341Z"
    }
   },
   "source": [
    "for col in num_cols:\n",
    "    fig = px.box(df, x=col, title=f\"Boxplot of {col}\", \n",
    "                 color_discrete_sequence=[\"skyblue\"])\n",
    "    fig.update_layout(\n",
    "        title_font=dict(size=16, family='Arial', color='black'),\n",
    "        xaxis_title='',  # hide x-axis title\n",
    "        template='plotly_white',\n",
    "        showlegend=False\n",
    "    )\n",
    "    fig.show()"
   ],
   "outputs": [
    {
     "data": {
      "text/html": [
       "<iframe\n",
       "    scrolling=\"no\"\n",
       "    width=\"100%\"\n",
       "    height=\"545px\"\n",
       "    src=\"iframe_figures/figure_18.html\"\n",
       "    frameborder=\"0\"\n",
       "    allowfullscreen\n",
       "></iframe>\n"
      ]
     },
     "metadata": {},
     "output_type": "display_data",
     "jetTransient": {
      "display_id": null
     }
    },
    {
     "data": {
      "text/html": [
       "<iframe\n",
       "    scrolling=\"no\"\n",
       "    width=\"100%\"\n",
       "    height=\"545px\"\n",
       "    src=\"iframe_figures/figure_18.html\"\n",
       "    frameborder=\"0\"\n",
       "    allowfullscreen\n",
       "></iframe>\n"
      ]
     },
     "metadata": {},
     "output_type": "display_data",
     "jetTransient": {
      "display_id": null
     }
    },
    {
     "data": {
      "text/html": [
       "<iframe\n",
       "    scrolling=\"no\"\n",
       "    width=\"100%\"\n",
       "    height=\"545px\"\n",
       "    src=\"iframe_figures/figure_18.html\"\n",
       "    frameborder=\"0\"\n",
       "    allowfullscreen\n",
       "></iframe>\n"
      ]
     },
     "metadata": {},
     "output_type": "display_data",
     "jetTransient": {
      "display_id": null
     }
    },
    {
     "data": {
      "text/html": [
       "<iframe\n",
       "    scrolling=\"no\"\n",
       "    width=\"100%\"\n",
       "    height=\"545px\"\n",
       "    src=\"iframe_figures/figure_18.html\"\n",
       "    frameborder=\"0\"\n",
       "    allowfullscreen\n",
       "></iframe>\n"
      ]
     },
     "metadata": {},
     "output_type": "display_data",
     "jetTransient": {
      "display_id": null
     }
    },
    {
     "data": {
      "text/html": [
       "<iframe\n",
       "    scrolling=\"no\"\n",
       "    width=\"100%\"\n",
       "    height=\"545px\"\n",
       "    src=\"iframe_figures/figure_18.html\"\n",
       "    frameborder=\"0\"\n",
       "    allowfullscreen\n",
       "></iframe>\n"
      ]
     },
     "metadata": {},
     "output_type": "display_data",
     "jetTransient": {
      "display_id": null
     }
    },
    {
     "data": {
      "text/html": [
       "<iframe\n",
       "    scrolling=\"no\"\n",
       "    width=\"100%\"\n",
       "    height=\"545px\"\n",
       "    src=\"iframe_figures/figure_18.html\"\n",
       "    frameborder=\"0\"\n",
       "    allowfullscreen\n",
       "></iframe>\n"
      ]
     },
     "metadata": {},
     "output_type": "display_data",
     "jetTransient": {
      "display_id": null
     }
    },
    {
     "data": {
      "text/html": [
       "<iframe\n",
       "    scrolling=\"no\"\n",
       "    width=\"100%\"\n",
       "    height=\"545px\"\n",
       "    src=\"iframe_figures/figure_18.html\"\n",
       "    frameborder=\"0\"\n",
       "    allowfullscreen\n",
       "></iframe>\n"
      ]
     },
     "metadata": {},
     "output_type": "display_data",
     "jetTransient": {
      "display_id": null
     }
    }
   ],
   "execution_count": 18
  },
  {
   "cell_type": "markdown",
   "id": "7e72544e",
   "metadata": {
    "papermill": {
     "duration": 0.011177,
     "end_time": "2025-07-20T13:21:03.693455",
     "exception": false,
     "start_time": "2025-07-20T13:21:03.682278",
     "status": "completed"
    },
    "tags": []
   },
   "source": [
    "## 3.3 Visualizing Numerical Distributions – Histogram"
   ]
  },
  {
   "cell_type": "code",
   "id": "edf406f3",
   "metadata": {
    "execution": {
     "iopub.execute_input": "2025-07-20T13:21:03.718307Z",
     "iopub.status.busy": "2025-07-20T13:21:03.717595Z",
     "iopub.status.idle": "2025-07-20T13:21:04.196991Z",
     "shell.execute_reply": "2025-07-20T13:21:04.195990Z"
    },
    "papermill": {
     "duration": 0.493613,
     "end_time": "2025-07-20T13:21:04.198678",
     "exception": false,
     "start_time": "2025-07-20T13:21:03.705065",
     "status": "completed"
    },
    "tags": [],
    "ExecuteTime": {
     "end_time": "2025-10-05T19:58:57.910377Z",
     "start_time": "2025-10-05T19:58:57.383437Z"
    }
   },
   "source": [
    "for col in num_cols:\n",
    "    fig = px.histogram(df, x=col, nbins=50, opacity=0.7,\n",
    "                       histnorm='density', title=f\"Histogram Plot of {col}\",\n",
    "                       color_discrete_sequence=[\"skyblue\"])\n",
    "\n",
    "    fig.update_traces(marker_line_width=0) \n",
    "    fig.update_layout(\n",
    "        title_font=dict(size=16, family='Arial', color='black'),\n",
    "        xaxis_title=col,\n",
    "        yaxis_title=\"Density\",\n",
    "        template='plotly_white',\n",
    "        showlegend=False\n",
    "    )\n",
    "    fig.show()"
   ],
   "outputs": [
    {
     "data": {
      "text/html": [
       "<iframe\n",
       "    scrolling=\"no\"\n",
       "    width=\"100%\"\n",
       "    height=\"545px\"\n",
       "    src=\"iframe_figures/figure_19.html\"\n",
       "    frameborder=\"0\"\n",
       "    allowfullscreen\n",
       "></iframe>\n"
      ]
     },
     "metadata": {},
     "output_type": "display_data",
     "jetTransient": {
      "display_id": null
     }
    },
    {
     "data": {
      "text/html": [
       "<iframe\n",
       "    scrolling=\"no\"\n",
       "    width=\"100%\"\n",
       "    height=\"545px\"\n",
       "    src=\"iframe_figures/figure_19.html\"\n",
       "    frameborder=\"0\"\n",
       "    allowfullscreen\n",
       "></iframe>\n"
      ]
     },
     "metadata": {},
     "output_type": "display_data",
     "jetTransient": {
      "display_id": null
     }
    },
    {
     "data": {
      "text/html": [
       "<iframe\n",
       "    scrolling=\"no\"\n",
       "    width=\"100%\"\n",
       "    height=\"545px\"\n",
       "    src=\"iframe_figures/figure_19.html\"\n",
       "    frameborder=\"0\"\n",
       "    allowfullscreen\n",
       "></iframe>\n"
      ]
     },
     "metadata": {},
     "output_type": "display_data",
     "jetTransient": {
      "display_id": null
     }
    },
    {
     "data": {
      "text/html": [
       "<iframe\n",
       "    scrolling=\"no\"\n",
       "    width=\"100%\"\n",
       "    height=\"545px\"\n",
       "    src=\"iframe_figures/figure_19.html\"\n",
       "    frameborder=\"0\"\n",
       "    allowfullscreen\n",
       "></iframe>\n"
      ]
     },
     "metadata": {},
     "output_type": "display_data",
     "jetTransient": {
      "display_id": null
     }
    },
    {
     "data": {
      "text/html": [
       "<iframe\n",
       "    scrolling=\"no\"\n",
       "    width=\"100%\"\n",
       "    height=\"545px\"\n",
       "    src=\"iframe_figures/figure_19.html\"\n",
       "    frameborder=\"0\"\n",
       "    allowfullscreen\n",
       "></iframe>\n"
      ]
     },
     "metadata": {},
     "output_type": "display_data",
     "jetTransient": {
      "display_id": null
     }
    },
    {
     "data": {
      "text/html": [
       "<iframe\n",
       "    scrolling=\"no\"\n",
       "    width=\"100%\"\n",
       "    height=\"545px\"\n",
       "    src=\"iframe_figures/figure_19.html\"\n",
       "    frameborder=\"0\"\n",
       "    allowfullscreen\n",
       "></iframe>\n"
      ]
     },
     "metadata": {},
     "output_type": "display_data",
     "jetTransient": {
      "display_id": null
     }
    },
    {
     "data": {
      "text/html": [
       "<iframe\n",
       "    scrolling=\"no\"\n",
       "    width=\"100%\"\n",
       "    height=\"545px\"\n",
       "    src=\"iframe_figures/figure_19.html\"\n",
       "    frameborder=\"0\"\n",
       "    allowfullscreen\n",
       "></iframe>\n"
      ]
     },
     "metadata": {},
     "output_type": "display_data",
     "jetTransient": {
      "display_id": null
     }
    }
   ],
   "execution_count": 19
  },
  {
   "cell_type": "markdown",
   "id": "34908eef",
   "metadata": {
    "papermill": {
     "duration": 0.012027,
     "end_time": "2025-07-20T13:21:04.223260",
     "exception": false,
     "start_time": "2025-07-20T13:21:04.211233",
     "status": "completed"
    },
    "tags": []
   },
   "source": [
    "## 3.4 Correlation Heatmap – Numerical Features"
   ]
  },
  {
   "cell_type": "code",
   "id": "b4280a97",
   "metadata": {
    "execution": {
     "iopub.execute_input": "2025-07-20T13:21:04.249631Z",
     "iopub.status.busy": "2025-07-20T13:21:04.248776Z",
     "iopub.status.idle": "2025-07-20T13:21:04.359026Z",
     "shell.execute_reply": "2025-07-20T13:21:04.358020Z"
    },
    "papermill": {
     "duration": 0.124898,
     "end_time": "2025-07-20T13:21:04.360678",
     "exception": false,
     "start_time": "2025-07-20T13:21:04.235780",
     "status": "completed"
    },
    "tags": [],
    "ExecuteTime": {
     "end_time": "2025-10-05T19:58:57.998127Z",
     "start_time": "2025-10-05T19:58:57.916268Z"
    }
   },
   "source": [
    "corr_matrix = df[num_cols.columns].corr()\n",
    "\n",
    "corr_long = corr_matrix.reset_index().melt(id_vars='index')\n",
    "corr_long.columns = ['Feature1', 'Feature2', 'Correlation']\n",
    "\n",
    "fig = px.imshow(\n",
    "    corr_matrix,\n",
    "    text_auto=\".2f\",\n",
    "    color_continuous_scale='RdBu_r',\n",
    "    title=\"Correlation Heatmap of Numerical Features\",\n",
    "    labels=dict(color=\"Correlation\"),\n",
    ")\n",
    "\n",
    "fig.update_layout(\n",
    "    width=800,\n",
    "    height=700,\n",
    "    template=\"plotly_white\",\n",
    "    title_font=dict(size=18),\n",
    ")\n",
    "\n",
    "fig.show()"
   ],
   "outputs": [
    {
     "data": {
      "text/html": [
       "<iframe\n",
       "    scrolling=\"no\"\n",
       "    width=\"820px\"\n",
       "    height=\"720\"\n",
       "    src=\"iframe_figures/figure_20.html\"\n",
       "    frameborder=\"0\"\n",
       "    allowfullscreen\n",
       "></iframe>\n"
      ]
     },
     "metadata": {},
     "output_type": "display_data",
     "jetTransient": {
      "display_id": null
     }
    }
   ],
   "execution_count": 20
  },
  {
   "cell_type": "code",
   "id": "0233e351",
   "metadata": {
    "execution": {
     "iopub.execute_input": "2025-07-20T13:21:04.386548Z",
     "iopub.status.busy": "2025-07-20T13:21:04.386244Z",
     "iopub.status.idle": "2025-07-20T13:21:04.710508Z",
     "shell.execute_reply": "2025-07-20T13:21:04.709395Z"
    },
    "papermill": {
     "duration": 0.339139,
     "end_time": "2025-07-20T13:21:04.712195",
     "exception": false,
     "start_time": "2025-07-20T13:21:04.373056",
     "status": "completed"
    },
    "tags": [],
    "ExecuteTime": {
     "end_time": "2025-10-05T19:58:58.192881Z",
     "start_time": "2025-10-05T19:58:58.009602Z"
    }
   },
   "source": [
    "sns.scatterplot(x='Hours_Studied', y='Exam_Score', data=df)\n",
    "plt.title(\"Study Hours vs Exam Score\")\n",
    "plt.xlabel(\"Study Hours\")\n",
    "plt.ylabel(\"Score\")\n",
    "plt.grid(True)\n",
    "plt.show()"
   ],
   "outputs": [
    {
     "data": {
      "text/plain": [
       "<Figure size 640x480 with 1 Axes>"
      ],
      "image/png": "[encoded data removed]"
     },
     "metadata": {},
     "output_type": "display_data",
     "jetTransient": {
      "display_id": null
     }
    }
   ],
   "execution_count": 21
  },
  {
   "cell_type": "markdown",
   "id": "251d61f9",
   "metadata": {
    "papermill": {
     "duration": 0.012852,
     "end_time": "2025-07-20T13:21:04.738548",
     "exception": false,
     "start_time": "2025-07-20T13:21:04.725696",
     "status": "completed"
    },
    "tags": []
   },
   "source": [
    "## 3.5 Relationship Between Hours Studied, Attendance, and Exam Score"
   ]
  },
  {
   "cell_type": "code",
   "id": "79b4da1d",
   "metadata": {
    "execution": {
     "iopub.execute_input": "2025-07-20T13:21:04.766260Z",
     "iopub.status.busy": "2025-07-20T13:21:04.765895Z",
     "iopub.status.idle": "2025-07-20T13:21:04.871229Z",
     "shell.execute_reply": "2025-07-20T13:21:04.870187Z"
    },
    "papermill": {
     "duration": 0.121211,
     "end_time": "2025-07-20T13:21:04.872899",
     "exception": false,
     "start_time": "2025-07-20T13:21:04.751688",
     "status": "completed"
    },
    "tags": [],
    "ExecuteTime": {
     "end_time": "2025-10-05T19:58:58.290418Z",
     "start_time": "2025-10-05T19:58:58.206108Z"
    }
   },
   "source": [
    "fig = px.scatter(df, \n",
    "                 x=\"Hours_Studied\", \n",
    "                 y=\"Exam_Score\", \n",
    "                 color=\"Attendance\",\n",
    "                 color_continuous_scale=\"Viridis\", \n",
    "                 title=\"Study Hours and Attendance on Exam\")\n",
    "\n",
    "fig.update_layout(width=600, height=500,template='plotly_white',title_x=0.5)\n",
    "fig.show()\n",
    "\n",
    "atg = df.groupby(\"Attendance\")[\"Exam_Score\"].mean()"
   ],
   "outputs": [
    {
     "data": {
      "text/html": [
       "<iframe\n",
       "    scrolling=\"no\"\n",
       "    width=\"620px\"\n",
       "    height=\"520\"\n",
       "    src=\"iframe_figures/figure_22.html\"\n",
       "    frameborder=\"0\"\n",
       "    allowfullscreen\n",
       "></iframe>\n"
      ]
     },
     "metadata": {},
     "output_type": "display_data",
     "jetTransient": {
      "display_id": null
     }
    }
   ],
   "execution_count": 22
  },
  {
   "cell_type": "markdown",
   "id": "f42c8e9e",
   "metadata": {
    "papermill": {
     "duration": 0.012904,
     "end_time": "2025-07-20T13:21:04.899307",
     "exception": false,
     "start_time": "2025-07-20T13:21:04.886403",
     "status": "completed"
    },
    "tags": []
   },
   "source": [
    "## 3.6 Encoding Categorical Features\n",
    "\n",
    "To prepare the dataset for machine learning models, categorical features must be encoded numerically.\n",
    "\n",
    "- **Nominal features** such as gender, school type, and internet access were one-hot encoded using `pd.get_dummies`, excluding the first category to avoid the dummy variable trap.\n",
    "- **Ordinal features** such as parental involvement and access to resources were encoded with **manual mappings** that preserve the order (Low < Medium < High)."
   ]
  },
  {
   "cell_type": "code",
   "id": "9734b072",
   "metadata": {
    "execution": {
     "iopub.execute_input": "2025-07-20T13:21:04.927027Z",
     "iopub.status.busy": "2025-07-20T13:21:04.926673Z",
     "iopub.status.idle": "2025-07-20T13:21:04.936189Z",
     "shell.execute_reply": "2025-07-20T13:21:04.935018Z"
    },
    "papermill": {
     "duration": 0.025421,
     "end_time": "2025-07-20T13:21:04.938011",
     "exception": false,
     "start_time": "2025-07-20T13:21:04.912590",
     "status": "completed"
    },
    "tags": [],
    "ExecuteTime": {
     "end_time": "2025-10-05T19:58:58.305868Z",
     "start_time": "2025-10-05T19:58:58.300514Z"
    }
   },
   "source": [
    "df_encoded = df.copy()"
   ],
   "outputs": [],
   "execution_count": 23
  },
  {
   "cell_type": "code",
   "id": "8c3cd6d9",
   "metadata": {
    "execution": {
     "iopub.execute_input": "2025-07-20T13:21:04.966223Z",
     "iopub.status.busy": "2025-07-20T13:21:04.965868Z",
     "iopub.status.idle": "2025-07-20T13:21:04.999206Z",
     "shell.execute_reply": "2025-07-20T13:21:04.998190Z"
    },
    "papermill": {
     "duration": 0.04956,
     "end_time": "2025-07-20T13:21:05.001133",
     "exception": false,
     "start_time": "2025-07-20T13:21:04.951573",
     "status": "completed"
    },
    "tags": [],
    "ExecuteTime": {
     "end_time": "2025-10-05T19:58:58.341999Z",
     "start_time": "2025-10-05T19:58:58.319446Z"
    }
   },
   "source": [
    "# ordinal encoding\n",
    "ordinal_encoding = {\n",
    "    'Parental_Involvement': ['Low', 'Medium', 'High'],\n",
    "    'Access_to_Resources': ['Low', 'Medium', 'High'],\n",
    "    'Motivation_Level': ['Low', 'Medium', 'High'],\n",
    "    'Family_Income': ['Low', 'Medium', 'High'],\n",
    "    'Teacher_Quality': ['Low', 'Medium', 'High'],\n",
    "    'Parental_Education_Level': ['High School', 'College', 'Postgraduate'],\n",
    "    'Distance_from_Home': ['Near', 'Moderate', 'Far'],\n",
    "    'Peer_Influence': ['Negative', 'Neutral', 'Positive']\n",
    "}\n",
    "\n",
    "# Apply ordinal encoding\n",
    "for feature, levels in ordinal_encoding.items():\n",
    "    df_encoded[feature] = df_encoded[feature].apply(lambda x: levels.index(x))"
   ],
   "outputs": [],
   "execution_count": 24
  },
  {
   "cell_type": "code",
   "id": "9a40d73b",
   "metadata": {
    "execution": {
     "iopub.execute_input": "2025-07-20T13:21:05.029547Z",
     "iopub.status.busy": "2025-07-20T13:21:05.029231Z",
     "iopub.status.idle": "2025-07-20T13:21:05.045880Z",
     "shell.execute_reply": "2025-07-20T13:21:05.044775Z"
    },
    "papermill": {
     "duration": 0.032541,
     "end_time": "2025-07-20T13:21:05.047580",
     "exception": false,
     "start_time": "2025-07-20T13:21:05.015039",
     "status": "completed"
    },
    "tags": [],
    "ExecuteTime": {
     "end_time": "2025-10-05T19:58:58.358528Z",
     "start_time": "2025-10-05T19:58:58.348298Z"
    }
   },
   "source": [
    "#one-hot encode (nominal)\n",
    "categorical_features = [\n",
    "    'Extracurricular_Activities',\n",
    "    'Internet_Access',\n",
    "    'Learning_Disabilities',\n",
    "    'School_Type',\n",
    "    'Gender'\n",
    "]\n",
    "\n",
    "# One-hot encode nominal features (excluding first category to avoid dummy variable trap)\n",
    "df_encoded = pd.get_dummies(df_encoded, columns=categorical_features, drop_first=True)"
   ],
   "outputs": [],
   "execution_count": 25
  },
  {
   "cell_type": "code",
   "id": "f510fcbe",
   "metadata": {
    "execution": {
     "iopub.execute_input": "2025-07-20T13:21:05.076337Z",
     "iopub.status.busy": "2025-07-20T13:21:05.075608Z",
     "iopub.status.idle": "2025-07-20T13:21:05.095093Z",
     "shell.execute_reply": "2025-07-20T13:21:05.094143Z"
    },
    "papermill": {
     "duration": 0.035328,
     "end_time": "2025-07-20T13:21:05.096616",
     "exception": false,
     "start_time": "2025-07-20T13:21:05.061288",
     "status": "completed"
    },
    "tags": [],
    "ExecuteTime": {
     "end_time": "2025-10-05T19:58:58.381279Z",
     "start_time": "2025-10-05T19:58:58.368457Z"
    }
   },
   "source": [
    "df_encoded.head()"
   ],
   "outputs": [
    {
     "data": {
      "text/plain": [
       "   Hours_Studied  Attendance  Parental_Involvement  Access_to_Resources  \\\n",
       "0           23.0        84.0                     0                    2   \n",
       "1           19.0        64.0                     0                    1   \n",
       "2           24.0        98.0                     1                    1   \n",
       "3           29.0        89.0                     0                    1   \n",
       "4           19.0        92.0                     1                    1   \n",
       "\n",
       "   Sleep_Hours  Previous_Scores  Motivation_Level  Tutoring_Sessions  \\\n",
       "0          7.0             73.0                 0                0.0   \n",
       "1          8.0             59.0                 0                2.0   \n",
       "2          7.0             91.0                 1                2.0   \n",
       "3          8.0             98.0                 1                1.0   \n",
       "4          6.0             65.0                 1                3.0   \n",
       "\n",
       "   Family_Income  Teacher_Quality  Peer_Influence  Physical_Activity  \\\n",
       "0              0                1               2                3.0   \n",
       "1              1                1               0                4.0   \n",
       "2              1                1               1                4.0   \n",
       "3              1                1               0                4.0   \n",
       "4              1                2               1                4.0   \n",
       "\n",
       "   Parental_Education_Level  Distance_from_Home  Exam_Score  \\\n",
       "0                         0                   0        67.0   \n",
       "1                         1                   1        61.0   \n",
       "2                         2                   0        74.0   \n",
       "3                         0                   1        71.0   \n",
       "4                         1                   0        70.0   \n",
       "\n",
       "   Extracurricular_Activities_Yes  Internet_Access_Yes  \\\n",
       "0                           False                 True   \n",
       "1                           False                 True   \n",
       "2                            True                 True   \n",
       "3                            True                 True   \n",
       "4                            True                 True   \n",
       "\n",
       "   Learning_Disabilities_Yes  School_Type_Public  Gender_Male  \n",
       "0                      False                True         True  \n",
       "1                      False                True        False  \n",
       "2                      False                True         True  \n",
       "3                      False                True         True  \n",
       "4                      False                True        False  "
      ],
      "text/html": [
       "<div>\n",
       "<style scoped>\n",
       "    .dataframe tbody tr th:only-of-type {\n",
       "        vertical-align: middle;\n",
       "    }\n",
       "\n",
       "    .dataframe tbody tr th {\n",
       "        vertical-align: top;\n",
       "    }\n",
       "\n",
       "    .dataframe thead th {\n",
       "        text-align: right;\n",
       "    }\n",
       "</style>\n",
       "<table border=\"1\" class=\"dataframe\">\n",
       "  <thead>\n",
       "    <tr style=\"text-align: right;\">\n",
       "      <th></th>\n",
       "      <th>Hours_Studied</th>\n",
       "      <th>Attendance</th>\n",
       "      <th>Parental_Involvement</th>\n",
       "      <th>Access_to_Resources</th>\n",
       "      <th>Sleep_Hours</th>\n",
       "      <th>Previous_Scores</th>\n",
       "      <th>Motivation_Level</th>\n",
       "      <th>Tutoring_Sessions</th>\n",
       "      <th>Family_Income</th>\n",
       "      <th>Teacher_Quality</th>\n",
       "      <th>Peer_Influence</th>\n",
       "      <th>Physical_Activity</th>\n",
       "      <th>Parental_Education_Level</th>\n",
       "      <th>Distance_from_Home</th>\n",
       "      <th>Exam_Score</th>\n",
       "      <th>Extracurricular_Activities_Yes</th>\n",
       "      <th>Internet_Access_Yes</th>\n",
       "      <th>Learning_Disabilities_Yes</th>\n",
       "      <th>School_Type_Public</th>\n",
       "      <th>Gender_Male</th>\n",
       "    </tr>\n",
       "  </thead>\n",
       "  <tbody>\n",
       "    <tr>\n",
       "      <th>0</th>\n",
       "      <td>23.0</td>\n",
       "      <td>84.0</td>\n",
       "      <td>0</td>\n",
       "      <td>2</td>\n",
       "      <td>7.0</td>\n",
       "      <td>73.0</td>\n",
       "      <td>0</td>\n",
       "      <td>0.0</td>\n",
       "      <td>0</td>\n",
       "      <td>1</td>\n",
       "      <td>2</td>\n",
       "      <td>3.0</td>\n",
       "      <td>0</td>\n",
       "      <td>0</td>\n",
       "      <td>67.0</td>\n",
       "      <td>False</td>\n",
       "      <td>True</td>\n",
       "      <td>False</td>\n",
       "      <td>True</td>\n",
       "      <td>True</td>\n",
       "    </tr>\n",
       "    <tr>\n",
       "      <th>1</th>\n",
       "      <td>19.0</td>\n",
       "      <td>64.0</td>\n",
       "      <td>0</td>\n",
       "      <td>1</td>\n",
       "      <td>8.0</td>\n",
       "      <td>59.0</td>\n",
       "      <td>0</td>\n",
       "      <td>2.0</td>\n",
       "      <td>1</td>\n",
       "      <td>1</td>\n",
       "      <td>0</td>\n",
       "      <td>4.0</td>\n",
       "      <td>1</td>\n",
       "      <td>1</td>\n",
       "      <td>61.0</td>\n",
       "      <td>False</td>\n",
       "      <td>True</td>\n",
       "      <td>False</td>\n",
       "      <td>True</td>\n",
       "      <td>False</td>\n",
       "    </tr>\n",
       "    <tr>\n",
       "      <th>2</th>\n",
       "      <td>24.0</td>\n",
       "      <td>98.0</td>\n",
       "      <td>1</td>\n",
       "      <td>1</td>\n",
       "      <td>7.0</td>\n",
       "      <td>91.0</td>\n",
       "      <td>1</td>\n",
       "      <td>2.0</td>\n",
       "      <td>1</td>\n",
       "      <td>1</td>\n",
       "      <td>1</td>\n",
       "      <td>4.0</td>\n",
       "      <td>2</td>\n",
       "      <td>0</td>\n",
       "      <td>74.0</td>\n",
       "      <td>True</td>\n",
       "      <td>True</td>\n",
       "      <td>False</td>\n",
       "      <td>True</td>\n",
       "      <td>True</td>\n",
       "    </tr>\n",
       "    <tr>\n",
       "      <th>3</th>\n",
       "      <td>29.0</td>\n",
       "      <td>89.0</td>\n",
       "      <td>0</td>\n",
       "      <td>1</td>\n",
       "      <td>8.0</td>\n",
       "      <td>98.0</td>\n",
       "      <td>1</td>\n",
       "      <td>1.0</td>\n",
       "      <td>1</td>\n",
       "      <td>1</td>\n",
       "      <td>0</td>\n",
       "      <td>4.0</td>\n",
       "      <td>0</td>\n",
       "      <td>1</td>\n",
       "      <td>71.0</td>\n",
       "      <td>True</td>\n",
       "      <td>True</td>\n",
       "      <td>False</td>\n",
       "      <td>True</td>\n",
       "      <td>True</td>\n",
       "    </tr>\n",
       "    <tr>\n",
       "      <th>4</th>\n",
       "      <td>19.0</td>\n",
       "      <td>92.0</td>\n",
       "      <td>1</td>\n",
       "      <td>1</td>\n",
       "      <td>6.0</td>\n",
       "      <td>65.0</td>\n",
       "      <td>1</td>\n",
       "      <td>3.0</td>\n",
       "      <td>1</td>\n",
       "      <td>2</td>\n",
       "      <td>1</td>\n",
       "      <td>4.0</td>\n",
       "      <td>1</td>\n",
       "      <td>0</td>\n",
       "      <td>70.0</td>\n",
       "      <td>True</td>\n",
       "      <td>True</td>\n",
       "      <td>False</td>\n",
       "      <td>True</td>\n",
       "      <td>False</td>\n",
       "    </tr>\n",
       "  </tbody>\n",
       "</table>\n",
       "</div>"
      ]
     },
     "execution_count": 26,
     "metadata": {},
     "output_type": "execute_result"
    }
   ],
   "execution_count": 26
  },
  {
   "cell_type": "markdown",
   "id": "a3171894",
   "metadata": {
    "papermill": {
     "duration": 0.013826,
     "end_time": "2025-07-20T13:21:05.124712",
     "exception": false,
     "start_time": "2025-07-20T13:21:05.110886",
     "status": "completed"
    },
    "tags": []
   },
   "source": [
    "## 3.7 Feature Scaling\n",
    "\n",
    "We applied `StandardScaler` to normalize all numerical features before modeling. This step ensures that features contribute equally to distance-based models (like KNN) and gradient-based methods (like linear regression)."
   ]
  },
  {
   "cell_type": "code",
   "id": "ddbb63ea",
   "metadata": {
    "execution": {
     "iopub.execute_input": "2025-07-20T13:21:05.153622Z",
     "iopub.status.busy": "2025-07-20T13:21:05.152757Z",
     "iopub.status.idle": "2025-07-20T13:21:05.159397Z",
     "shell.execute_reply": "2025-07-20T13:21:05.158400Z"
    },
    "papermill": {
     "duration": 0.022729,
     "end_time": "2025-07-20T13:21:05.161043",
     "exception": false,
     "start_time": "2025-07-20T13:21:05.138314",
     "status": "completed"
    },
    "tags": [],
    "ExecuteTime": {
     "end_time": "2025-10-05T19:58:58.432991Z",
     "start_time": "2025-10-05T19:58:58.429065Z"
    }
   },
   "source": [
    "X = df_encoded.drop(columns=['Exam_Score'])\n",
    "y = df_encoded['Exam_Score']"
   ],
   "outputs": [],
   "execution_count": 27
  },
  {
   "cell_type": "code",
   "id": "33f650e2",
   "metadata": {
    "execution": {
     "iopub.execute_input": "2025-07-20T13:21:05.189607Z",
     "iopub.status.busy": "2025-07-20T13:21:05.189270Z",
     "iopub.status.idle": "2025-07-20T13:21:05.220309Z",
     "shell.execute_reply": "2025-07-20T13:21:05.219495Z"
    },
    "papermill": {
     "duration": 0.047297,
     "end_time": "2025-07-20T13:21:05.222013",
     "exception": false,
     "start_time": "2025-07-20T13:21:05.174716",
     "status": "completed"
    },
    "tags": [],
    "ExecuteTime": {
     "end_time": "2025-10-05T19:58:58.518330Z",
     "start_time": "2025-10-05T19:58:58.509286Z"
    }
   },
   "source": [
    "# scaling the data\n",
    "scaler = StandardScaler()\n",
    "X_scaled = scaler.fit_transform(X)"
   ],
   "outputs": [],
   "execution_count": 28
  },
  {
   "cell_type": "markdown",
   "id": "7a5f9475",
   "metadata": {
    "papermill": {
     "duration": 0.013444,
     "end_time": "2025-07-20T13:21:05.250174",
     "exception": false,
     "start_time": "2025-07-20T13:21:05.236730",
     "status": "completed"
    },
    "tags": []
   },
   "source": [
    "# 4. Data Modeling"
   ]
  },
  {
   "cell_type": "code",
   "id": "d0964b61",
   "metadata": {
    "execution": {
     "iopub.execute_input": "2025-07-20T13:21:05.279218Z",
     "iopub.status.busy": "2025-07-20T13:21:05.278257Z",
     "iopub.status.idle": "2025-07-20T13:21:05.285478Z",
     "shell.execute_reply": "2025-07-20T13:21:05.284419Z"
    },
    "papermill": {
     "duration": 0.023517,
     "end_time": "2025-07-20T13:21:05.287232",
     "exception": false,
     "start_time": "2025-07-20T13:21:05.263715",
     "status": "completed"
    },
    "tags": [],
    "ExecuteTime": {
     "end_time": "2025-10-05T19:58:58.569125Z",
     "start_time": "2025-10-05T19:58:58.563500Z"
    }
   },
   "source": [
    "X_train, X_test, y_train, y_test = train_test_split(X_scaled, y, test_size=0.2, random_state=42)"
   ],
   "outputs": [],
   "execution_count": 29
  },
  {
   "cell_type": "markdown",
   "id": "9ba2854f",
   "metadata": {
    "papermill": {
     "duration": 0.01398,
     "end_time": "2025-07-20T13:21:05.315220",
     "exception": false,
     "start_time": "2025-07-20T13:21:05.301240",
     "status": "completed"
    },
    "tags": []
   },
   "source": [
    "## 4.1 Linear Regression model"
   ]
  },
  {
   "cell_type": "code",
   "id": "71bd0210",
   "metadata": {
    "execution": {
     "iopub.execute_input": "2025-07-20T13:21:05.344464Z",
     "iopub.status.busy": "2025-07-20T13:21:05.344173Z",
     "iopub.status.idle": "2025-07-20T13:21:05.385992Z",
     "shell.execute_reply": "2025-07-20T13:21:05.384970Z"
    },
    "papermill": {
     "duration": 0.058565,
     "end_time": "2025-07-20T13:21:05.388315",
     "exception": false,
     "start_time": "2025-07-20T13:21:05.329750",
     "status": "completed"
    },
    "tags": [],
    "ExecuteTime": {
     "end_time": "2025-10-05T19:58:58.620519Z",
     "start_time": "2025-10-05T19:58:58.612490Z"
    }
   },
   "source": [
    "lr_model = LinearRegression()\n",
    "lr_model.fit(X_train, y_train)\n",
    "\n",
    "y_pred = lr_model.predict(X_test)"
   ],
   "outputs": [],
   "execution_count": 30
  },
  {
   "cell_type": "code",
   "id": "576e5493",
   "metadata": {
    "execution": {
     "iopub.execute_input": "2025-07-20T13:21:05.433352Z",
     "iopub.status.busy": "2025-07-20T13:21:05.432963Z",
     "iopub.status.idle": "2025-07-20T13:21:05.512116Z",
     "shell.execute_reply": "2025-07-20T13:21:05.511082Z"
    },
    "papermill": {
     "duration": 0.103506,
     "end_time": "2025-07-20T13:21:05.513646",
     "exception": false,
     "start_time": "2025-07-20T13:21:05.410140",
     "status": "completed"
    },
    "tags": [],
    "ExecuteTime": {
     "end_time": "2025-10-05T19:58:58.695046Z",
     "start_time": "2025-10-05T19:58:58.632965Z"
    }
   },
   "source": [
    "df_plot = pd.DataFrame({'Actual': y_test, 'Predicted': y_pred})\n",
    "fig = px.scatter(df_plot, x='Actual', y='Predicted',\n",
    "                 title='Actual vs Predicted Exam Scores',\n",
    "                 labels={'Actual': 'Actual Exam Score', 'Predicted': 'Predicted Exam Score'})\n",
    "\n",
    "fig.add_shape(\n",
    "    type='line',\n",
    "    x0=df_plot['Actual'].min(), y0=df_plot['Actual'].min(),\n",
    "    x1=df_plot['Actual'].max(), y1=df_plot['Actual'].max(),\n",
    "    line=dict(color='red', dash='dash'),\n",
    ")\n",
    "\n",
    "fig.show()"
   ],
   "outputs": [
    {
     "data": {
      "text/html": [
       "<iframe\n",
       "    scrolling=\"no\"\n",
       "    width=\"100%\"\n",
       "    height=\"545px\"\n",
       "    src=\"iframe_figures/figure_31.html\"\n",
       "    frameborder=\"0\"\n",
       "    allowfullscreen\n",
       "></iframe>\n"
      ]
     },
     "metadata": {},
     "output_type": "display_data",
     "jetTransient": {
      "display_id": null
     }
    }
   ],
   "execution_count": 31
  },
  {
   "cell_type": "code",
   "id": "e48d1541",
   "metadata": {
    "execution": {
     "iopub.execute_input": "2025-07-20T13:21:05.545037Z",
     "iopub.status.busy": "2025-07-20T13:21:05.543991Z",
     "iopub.status.idle": "2025-07-20T13:21:05.552529Z",
     "shell.execute_reply": "2025-07-20T13:21:05.551547Z"
    },
    "papermill": {
     "duration": 0.02522,
     "end_time": "2025-07-20T13:21:05.553846",
     "exception": false,
     "start_time": "2025-07-20T13:21:05.528626",
     "status": "completed"
    },
    "tags": [],
    "ExecuteTime": {
     "end_time": "2025-10-05T19:58:58.714159Z",
     "start_time": "2025-10-05T19:58:58.707349Z"
    }
   },
   "source": [
    "print(\"MAE:\", mean_absolute_error(y_test, y_pred))\n",
    "print(\"MSE:\", mean_squared_error(y_test, y_pred))\n",
    "print(\"RMSE:\", np.sqrt(mean_squared_error(y_test, y_pred)))\n",
    "print(\"R² Score:\", r2_score(y_test, y_pred))"
   ],
   "outputs": [
    {
     "name": "stdout",
     "output_type": "stream",
     "text": [
      "MAE: 0.5155281475914075\n",
      "MSE: 0.9655611344536448\n",
      "RMSE: 0.982629703628811\n",
      "R² Score: 0.90852468369618\n"
     ]
    }
   ],
   "execution_count": 32
  },
  {
   "cell_type": "code",
   "id": "f4323277",
   "metadata": {
    "execution": {
     "iopub.execute_input": "2025-07-20T13:21:05.583524Z",
     "iopub.status.busy": "2025-07-20T13:21:05.582650Z",
     "iopub.status.idle": "2025-07-20T13:21:05.959330Z",
     "shell.execute_reply": "2025-07-20T13:21:05.957193Z"
    },
    "papermill": {
     "duration": 0.393261,
     "end_time": "2025-07-20T13:21:05.961307",
     "exception": false,
     "start_time": "2025-07-20T13:21:05.568046",
     "status": "completed"
    },
    "tags": [],
    "ExecuteTime": {
     "end_time": "2025-10-05T19:58:58.847050Z",
     "start_time": "2025-10-05T19:58:58.727351Z"
    }
   },
   "source": [
    "mse_scorer = make_scorer(mean_squared_error, greater_is_better=False)\n",
    "mae_scorer = make_scorer(mean_absolute_error, greater_is_better=False)\n",
    "r2_scorer = make_scorer(r2_score)\n",
    "\n",
    "cv_folds = 5\n",
    "mse_scores = -cross_val_score(lr_model, X, y, cv=cv_folds, scoring=mse_scorer)\n",
    "mae_scores = -cross_val_score(lr_model, X, y, cv=cv_folds, scoring=mae_scorer)\n",
    "r2_scores = cross_val_score(lr_model, X, y, cv=cv_folds, scoring=r2_scorer)\n",
    "\n",
    "cv_df = pd.DataFrame({\n",
    "    'Fold': [f'Fold {i+1}' for i in range(cv_folds)],\n",
    "    'MSE': mse_scores,\n",
    "    'MAE': mae_scores,\n",
    "    'R²': r2_scores\n",
    "})\n",
    "\n",
    "mean_row = pd.DataFrame({\n",
    "    'Fold': ['Average'],\n",
    "    'MSE': [mse_scores.mean()],\n",
    "    'MAE': [mae_scores.mean()],\n",
    "    'R²': [r2_scores.mean()]\n",
    "})\n",
    "cv_df = pd.concat([cv_df, mean_row], ignore_index=True)\n",
    "\n",
    "cv_df.style.background_gradient(subset=['MSE', 'MAE'], cmap='YlOrRd', axis=0) \\\n",
    "             .background_gradient(subset=['R²'], cmap='Greens', axis=0) \\\n",
    "             .format({'MSE': '{:.3f}', 'MAE': '{:.3f}', 'R²': '{:.3f}'}) \\\n",
    "             .set_caption(\"Cross-Validation Metrics per Fold\")"
   ],
   "outputs": [
    {
     "data": {
      "text/plain": [
       "<pandas.io.formats.style.Styler at 0x243a39651d0>"
      ],
      "text/html": [
       "<style type=\"text/css\">\n",
       "#T_337b3_row0_col1, #T_337b3_row0_col2 {\n",
       "  background-color: #ffffcc;\n",
       "  color: #000000;\n",
       "}\n",
       "#T_337b3_row0_col3 {\n",
       "  background-color: #00441b;\n",
       "  color: #f1f1f1;\n",
       "}\n",
       "#T_337b3_row1_col1, #T_337b3_row1_col2 {\n",
       "  background-color: #800026;\n",
       "  color: #f1f1f1;\n",
       "}\n",
       "#T_337b3_row1_col3 {\n",
       "  background-color: #f7fcf5;\n",
       "  color: #000000;\n",
       "}\n",
       "#T_337b3_row2_col1 {\n",
       "  background-color: #8d0026;\n",
       "  color: #f1f1f1;\n",
       "}\n",
       "#T_337b3_row2_col2 {\n",
       "  background-color: #fea948;\n",
       "  color: #000000;\n",
       "}\n",
       "#T_337b3_row2_col3 {\n",
       "  background-color: #e8f6e3;\n",
       "  color: #000000;\n",
       "}\n",
       "#T_337b3_row3_col1 {\n",
       "  background-color: #bd0026;\n",
       "  color: #f1f1f1;\n",
       "}\n",
       "#T_337b3_row3_col2 {\n",
       "  background-color: #fd7435;\n",
       "  color: #f1f1f1;\n",
       "}\n",
       "#T_337b3_row3_col3 {\n",
       "  background-color: #def2d9;\n",
       "  color: #000000;\n",
       "}\n",
       "#T_337b3_row4_col1 {\n",
       "  background-color: #e9261f;\n",
       "  color: #f1f1f1;\n",
       "}\n",
       "#T_337b3_row4_col2 {\n",
       "  background-color: #fedd7f;\n",
       "  color: #000000;\n",
       "}\n",
       "#T_337b3_row4_col3 {\n",
       "  background-color: #58b668;\n",
       "  color: #f1f1f1;\n",
       "}\n",
       "#T_337b3_row5_col1 {\n",
       "  background-color: #ea2920;\n",
       "  color: #f1f1f1;\n",
       "}\n",
       "#T_337b3_row5_col2 {\n",
       "  background-color: #fea044;\n",
       "  color: #000000;\n",
       "}\n",
       "#T_337b3_row5_col3 {\n",
       "  background-color: #a4da9e;\n",
       "  color: #000000;\n",
       "}\n",
       "</style>\n",
       "<table id=\"T_337b3\">\n",
       "  <caption>Cross-Validation Metrics per Fold</caption>\n",
       "  <thead>\n",
       "    <tr>\n",
       "      <th class=\"blank level0\" >&nbsp;</th>\n",
       "      <th id=\"T_337b3_level0_col0\" class=\"col_heading level0 col0\" >Fold</th>\n",
       "      <th id=\"T_337b3_level0_col1\" class=\"col_heading level0 col1\" >MSE</th>\n",
       "      <th id=\"T_337b3_level0_col2\" class=\"col_heading level0 col2\" >MAE</th>\n",
       "      <th id=\"T_337b3_level0_col3\" class=\"col_heading level0 col3\" >R²</th>\n",
       "    </tr>\n",
       "  </thead>\n",
       "  <tbody>\n",
       "    <tr>\n",
       "      <th id=\"T_337b3_level0_row0\" class=\"row_heading level0 row0\" >0</th>\n",
       "      <td id=\"T_337b3_row0_col0\" class=\"data row0 col0\" >Fold 1</td>\n",
       "      <td id=\"T_337b3_row0_col1\" class=\"data row0 col1\" >0.809</td>\n",
       "      <td id=\"T_337b3_row0_col2\" class=\"data row0 col2\" >0.490</td>\n",
       "      <td id=\"T_337b3_row0_col3\" class=\"data row0 col3\" >0.917</td>\n",
       "    </tr>\n",
       "    <tr>\n",
       "      <th id=\"T_337b3_level0_row1\" class=\"row_heading level0 row1\" >1</th>\n",
       "      <td id=\"T_337b3_row1_col0\" class=\"data row1 col0\" >Fold 2</td>\n",
       "      <td id=\"T_337b3_row1_col1\" class=\"data row1 col1\" >1.088</td>\n",
       "      <td id=\"T_337b3_row1_col2\" class=\"data row1 col2\" >0.538</td>\n",
       "      <td id=\"T_337b3_row1_col3\" class=\"data row1 col3\" >0.895</td>\n",
       "    </tr>\n",
       "    <tr>\n",
       "      <th id=\"T_337b3_level0_row2\" class=\"row_heading level0 row2\" >2</th>\n",
       "      <td id=\"T_337b3_row2_col0\" class=\"data row2 col0\" >Fold 3</td>\n",
       "      <td id=\"T_337b3_row2_col1\" class=\"data row2 col1\" >1.080</td>\n",
       "      <td id=\"T_337b3_row2_col2\" class=\"data row2 col2\" >0.509</td>\n",
       "      <td id=\"T_337b3_row2_col3\" class=\"data row2 col3\" >0.897</td>\n",
       "    </tr>\n",
       "    <tr>\n",
       "      <th id=\"T_337b3_level0_row3\" class=\"row_heading level0 row3\" >3</th>\n",
       "      <td id=\"T_337b3_row3_col0\" class=\"data row3 col0\" >Fold 4</td>\n",
       "      <td id=\"T_337b3_row3_col1\" class=\"data row3 col1\" >1.053</td>\n",
       "      <td id=\"T_337b3_row3_col2\" class=\"data row3 col2\" >0.516</td>\n",
       "      <td id=\"T_337b3_row3_col3\" class=\"data row3 col3\" >0.898</td>\n",
       "    </tr>\n",
       "    <tr>\n",
       "      <th id=\"T_337b3_level0_row4\" class=\"row_heading level0 row4\" >4</th>\n",
       "      <td id=\"T_337b3_row4_col0\" class=\"data row4 col0\" >Fold 5</td>\n",
       "      <td id=\"T_337b3_row4_col1\" class=\"data row4 col1\" >1.010</td>\n",
       "      <td id=\"T_337b3_row4_col2\" class=\"data row4 col2\" >0.501</td>\n",
       "      <td id=\"T_337b3_row4_col3\" class=\"data row4 col3\" >0.907</td>\n",
       "    </tr>\n",
       "    <tr>\n",
       "      <th id=\"T_337b3_level0_row5\" class=\"row_heading level0 row5\" >5</th>\n",
       "      <td id=\"T_337b3_row5_col0\" class=\"data row5 col0\" >Average</td>\n",
       "      <td id=\"T_337b3_row5_col1\" class=\"data row5 col1\" >1.008</td>\n",
       "      <td id=\"T_337b3_row5_col2\" class=\"data row5 col2\" >0.511</td>\n",
       "      <td id=\"T_337b3_row5_col3\" class=\"data row5 col3\" >0.903</td>\n",
       "    </tr>\n",
       "  </tbody>\n",
       "</table>\n"
      ]
     },
     "execution_count": 33,
     "metadata": {},
     "output_type": "execute_result"
    }
   ],
   "execution_count": 33
  },
  {
   "cell_type": "markdown",
   "id": "eba8a144",
   "metadata": {
    "papermill": {
     "duration": 0.023008,
     "end_time": "2025-07-20T13:21:06.007173",
     "exception": false,
     "start_time": "2025-07-20T13:21:05.984165",
     "status": "completed"
    },
    "tags": []
   },
   "source": [
    "## 4.2 Polynomial Regression (degree = 2)"
   ]
  },
  {
   "cell_type": "code",
   "id": "16cd1712",
   "metadata": {
    "execution": {
     "iopub.execute_input": "2025-07-20T13:21:06.053502Z",
     "iopub.status.busy": "2025-07-20T13:21:06.052674Z",
     "iopub.status.idle": "2025-07-20T13:21:06.199390Z",
     "shell.execute_reply": "2025-07-20T13:21:06.196529Z"
    },
    "papermill": {
     "duration": 0.170522,
     "end_time": "2025-07-20T13:21:06.201090",
     "exception": false,
     "start_time": "2025-07-20T13:21:06.030568",
     "status": "completed"
    },
    "tags": [],
    "ExecuteTime": {
     "end_time": "2025-10-05T19:58:58.964509Z",
     "start_time": "2025-10-05T19:58:58.856783Z"
    }
   },
   "source": [
    "poly = PolynomialFeatures(degree=2)\n",
    "X_poly = poly.fit_transform(X)\n",
    "\n",
    "X_train_poly, X_test_poly, y_train, y_test = train_test_split(X_poly, y, test_size=0.2, random_state=42)\n",
    "\n",
    "poly_model = LinearRegression()\n",
    "poly_model.fit(X_train_poly, y_train)\n",
    "\n",
    "y_pred_poly = poly_model.predict(X_test_poly)"
   ],
   "outputs": [],
   "execution_count": 34
  },
  {
   "cell_type": "code",
   "id": "3902bc19",
   "metadata": {
    "execution": {
     "iopub.execute_input": "2025-07-20T13:21:06.250757Z",
     "iopub.status.busy": "2025-07-20T13:21:06.250406Z",
     "iopub.status.idle": "2025-07-20T13:21:06.257313Z",
     "shell.execute_reply": "2025-07-20T13:21:06.256485Z"
    },
    "papermill": {
     "duration": 0.034441,
     "end_time": "2025-07-20T13:21:06.259998",
     "exception": false,
     "start_time": "2025-07-20T13:21:06.225557",
     "status": "completed"
    },
    "tags": [],
    "ExecuteTime": {
     "end_time": "2025-10-05T19:58:58.975533Z",
     "start_time": "2025-10-05T19:58:58.971051Z"
    }
   },
   "source": [
    "print(\"Polynomial R² Score:\", r2_score(y_test, y_pred_poly))"
   ],
   "outputs": [
    {
     "name": "stdout",
     "output_type": "stream",
     "text": [
      "Polynomial R² Score: 0.9059233857458365\n"
     ]
    }
   ],
   "execution_count": 35
  },
  {
   "cell_type": "code",
   "id": "17896bbb",
   "metadata": {
    "execution": {
     "iopub.execute_input": "2025-07-20T13:21:06.307981Z",
     "iopub.status.busy": "2025-07-20T13:21:06.307655Z",
     "iopub.status.idle": "2025-07-20T13:21:06.355075Z",
     "shell.execute_reply": "2025-07-20T13:21:06.354268Z"
    },
    "papermill": {
     "duration": 0.07308,
     "end_time": "2025-07-20T13:21:06.356525",
     "exception": false,
     "start_time": "2025-07-20T13:21:06.283445",
     "status": "completed"
    },
    "tags": [],
    "ExecuteTime": {
     "end_time": "2025-10-05T19:58:59.051811Z",
     "start_time": "2025-10-05T19:58:58.991712Z"
    }
   },
   "source": [
    "df_poly_plot = pd.DataFrame({\n",
    "    'Actual': y_test,\n",
    "    'Predicted': y_pred_poly\n",
    "})\n",
    "\n",
    "fig = px.scatter(df_poly_plot, x='Actual', y='Predicted',\n",
    "                 title='Actual vs Predicted Exam Scores (Polynomial Regression)',\n",
    "                 labels={'Actual': 'Actual Exam Score', 'Predicted': 'Predicted Exam Score'})\n",
    "\n",
    "fig.add_shape(\n",
    "    type='line',\n",
    "    x0=df_poly_plot['Actual'].min(), y0=df_poly_plot['Actual'].min(),\n",
    "    x1=df_poly_plot['Actual'].max(), y1=df_poly_plot['Actual'].max(),\n",
    "    line=dict(color='red', dash='dash'),\n",
    ")\n",
    "\n",
    "fig.show()"
   ],
   "outputs": [
    {
     "data": {
      "text/html": [
       "<iframe\n",
       "    scrolling=\"no\"\n",
       "    width=\"100%\"\n",
       "    height=\"545px\"\n",
       "    src=\"iframe_figures/figure_36.html\"\n",
       "    frameborder=\"0\"\n",
       "    allowfullscreen\n",
       "></iframe>\n"
      ]
     },
     "metadata": {},
     "output_type": "display_data",
     "jetTransient": {
      "display_id": null
     }
    }
   ],
   "execution_count": 36
  },
  {
   "cell_type": "markdown",
   "id": "d8db7700",
   "metadata": {
    "papermill": {
     "duration": 0.014574,
     "end_time": "2025-07-20T13:21:11.691692",
     "exception": false,
     "start_time": "2025-07-20T13:21:11.677118",
     "status": "completed"
    },
    "tags": []
   },
   "source": [
    "# ✅ Final Conclusion\n",
    "\n",
    "After evaluating multiple regression models, the **Linear Regression model** was selected as the best performing model based on accuracy, simplicity, and stability across folds.\n",
    "\n",
    "---\n",
    "\n",
    "### 📊 Linear Regression Final Results:\n",
    "- **R² Score**: 0.909\n",
    "- **MAE**: 0.516\n",
    "- **MSE**: 0.966\n",
    "- **RMSE**: 0.983\n",
    "\n",
    "---\n",
    "\n",
    "### 🔁 Cross-Validation Results (5-Fold):\n",
    "- **Average MAE**: 0.510\n",
    "- **Average MSE**: 1.008\n",
    "- **Average R²**: 0.903\n",
    "\n",
    "---\n",
    "\n",
    "### 🎯 Why Linear Regression?\n",
    "- Polynomial regression offered no significant improvement.\n",
    "- Linear regression is simpler and performs just as well.\n",
    "- Errors are consistently low and acceptable.\n",
    "- ---"
   ]
  }
 ],
 "metadata": {
  "kaggle": {
   "accelerator": "none",
   "dataSources": [
    {
     "datasetId": 5630996,
     "sourceId": 10020238,
     "sourceType": "datasetVersion"
    }
   ],
   "dockerImageVersionId": 31089,
   "isGpuEnabled": false,
   "isInternetEnabled": true,
   "language": "python",
   "sourceType": "notebook"
  },
  "kernelspec": {
   "display_name": "Python 3",
   "language": "python",
   "name": "python3"
  },
  "language_info": {
   "codemirror_mode": {
    "name": "ipython",
    "version": 3
   },
   "file_extension": ".py",
   "mimetype": "text/x-python",
   "name": "python",
   "nbconvert_exporter": "python",
   "pygments_lexer": "ipython3",
   "version": "3.11.13"
  },
  "papermill": {
   "default_parameters": {},
   "duration": 22.360193,
   "end_time": "2025-07-20T13:21:12.427691",
   "environment_variables": {},
   "exception": null,
   "input_path": "__notebook__.ipynb",
   "output_path": "__notebook__.ipynb",
   "parameters": {},
   "start_time": "2025-07-20T13:20:50.067498",
   "version": "2.6.0"
  }
 },
 "nbformat": 4,
 "nbformat_minor": 5
}
