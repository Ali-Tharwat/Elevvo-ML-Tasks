{
 "cells": [
  {
   "cell_type": "code",
   "id": "16876ec6",
   "metadata": {
    "_cell_guid": "b1076dfc-b9ad-4769-8c92-a6c4dae69d19",
    "_uuid": "8f2839f25d086af736a60e9eeb907d3b93b6e0e5",
    "execution": {
     "iopub.execute_input": "2024-08-05T04:04:01.721408Z",
     "iopub.status.busy": "2024-08-05T04:04:01.719890Z",
     "iopub.status.idle": "2024-08-05T04:04:05.537718Z",
     "shell.execute_reply": "2024-08-05T04:04:05.536050Z"
    },
    "papermill": {
     "duration": 3.832617,
     "end_time": "2024-08-05T04:04:05.540654",
     "exception": false,
     "start_time": "2024-08-05T04:04:01.708037",
     "status": "completed"
    },
    "tags": [],
    "ExecuteTime": {
     "end_time": "2025-10-05T19:06:28.484224Z",
     "start_time": "2025-10-05T19:06:28.480649Z"
    }
   },
   "source": [
    "import numpy as np # linear algebra\n",
    "import kagglehub\n",
    "import pandas as pd # data processing, CSV file I/O (e.g. pd.read_csv)\n",
    "import matplotlib.pyplot as plt\n",
    "import seaborn as sns\n",
    "import plotly.express as px\n",
    "import plotly.graph_objects as go\n",
    "import warnings\n",
    "\n",
    "warnings.filterwarnings('ignore', category=FutureWarning)"
   ],
   "outputs": [],
   "execution_count": 6
  },
  {
   "cell_type": "markdown",
   "id": "a9f679cc",
   "metadata": {
    "papermill": {
     "duration": 0.008975,
     "end_time": "2024-08-05T04:04:05.559367",
     "exception": false,
     "start_time": "2024-08-05T04:04:05.550392",
     "status": "completed"
    },
    "tags": []
   },
   "source": [
    "# Importing Data"
   ]
  },
  {
   "cell_type": "code",
   "id": "dde4ac7f",
   "metadata": {
    "execution": {
     "iopub.execute_input": "2024-08-05T04:04:05.580478Z",
     "iopub.status.busy": "2024-08-05T04:04:05.579865Z",
     "iopub.status.idle": "2024-08-05T04:04:05.637176Z",
     "shell.execute_reply": "2024-08-05T04:04:05.635730Z"
    },
    "papermill": {
     "duration": 0.070961,
     "end_time": "2024-08-05T04:04:05.640125",
     "exception": false,
     "start_time": "2024-08-05T04:04:05.569164",
     "status": "completed"
    },
    "tags": [],
    "ExecuteTime": {
     "end_time": "2025-10-05T19:07:15.807591Z",
     "start_time": "2025-10-05T19:07:14.544113Z"
    }
   },
   "source": [
    "# Load the dataset\n",
    "file_path = f\"{kagglehub.dataset_download('rabieelkharoua/students-performance-dataset')}/Student_performance_data _.csv\"\n",
    "df = pd.read_csv(file_path)\n",
    "df.head()"
   ],
   "outputs": [
    {
     "data": {
      "text/plain": [
       "   StudentID  Age  Gender  Ethnicity  ParentalEducation  StudyTimeWeekly  \\\n",
       "0       1001   17       1          0                  2        19.833723   \n",
       "1       1002   18       0          0                  1        15.408756   \n",
       "2       1003   15       0          2                  3         4.210570   \n",
       "3       1004   17       1          0                  3        10.028829   \n",
       "4       1005   17       1          0                  2         4.672495   \n",
       "\n",
       "   Absences  Tutoring  ParentalSupport  Extracurricular  Sports  Music  \\\n",
       "0         7         1                2                0       0      1   \n",
       "1         0         0                1                0       0      0   \n",
       "2        26         0                2                0       0      0   \n",
       "3        14         0                3                1       0      0   \n",
       "4        17         1                3                0       0      0   \n",
       "\n",
       "   Volunteering       GPA  GradeClass  \n",
       "0             0  2.929196         2.0  \n",
       "1             0  3.042915         1.0  \n",
       "2             0  0.112602         4.0  \n",
       "3             0  2.054218         3.0  \n",
       "4             0  1.288061         4.0  "
      ],
      "text/html": [
       "<div>\n",
       "<style scoped>\n",
       "    .dataframe tbody tr th:only-of-type {\n",
       "        vertical-align: middle;\n",
       "    }\n",
       "\n",
       "    .dataframe tbody tr th {\n",
       "        vertical-align: top;\n",
       "    }\n",
       "\n",
       "    .dataframe thead th {\n",
       "        text-align: right;\n",
       "    }\n",
       "</style>\n",
       "<table border=\"1\" class=\"dataframe\">\n",
       "  <thead>\n",
       "    <tr style=\"text-align: right;\">\n",
       "      <th></th>\n",
       "      <th>StudentID</th>\n",
       "      <th>Age</th>\n",
       "      <th>Gender</th>\n",
       "      <th>Ethnicity</th>\n",
       "      <th>ParentalEducation</th>\n",
       "      <th>StudyTimeWeekly</th>\n",
       "      <th>Absences</th>\n",
       "      <th>Tutoring</th>\n",
       "      <th>ParentalSupport</th>\n",
       "      <th>Extracurricular</th>\n",
       "      <th>Sports</th>\n",
       "      <th>Music</th>\n",
       "      <th>Volunteering</th>\n",
       "      <th>GPA</th>\n",
       "      <th>GradeClass</th>\n",
       "    </tr>\n",
       "  </thead>\n",
       "  <tbody>\n",
       "    <tr>\n",
       "      <th>0</th>\n",
       "      <td>1001</td>\n",
       "      <td>17</td>\n",
       "      <td>1</td>\n",
       "      <td>0</td>\n",
       "      <td>2</td>\n",
       "      <td>19.833723</td>\n",
       "      <td>7</td>\n",
       "      <td>1</td>\n",
       "      <td>2</td>\n",
       "      <td>0</td>\n",
       "      <td>0</td>\n",
       "      <td>1</td>\n",
       "      <td>0</td>\n",
       "      <td>2.929196</td>\n",
       "      <td>2.0</td>\n",
       "    </tr>\n",
       "    <tr>\n",
       "      <th>1</th>\n",
       "      <td>1002</td>\n",
       "      <td>18</td>\n",
       "      <td>0</td>\n",
       "      <td>0</td>\n",
       "      <td>1</td>\n",
       "      <td>15.408756</td>\n",
       "      <td>0</td>\n",
       "      <td>0</td>\n",
       "      <td>1</td>\n",
       "      <td>0</td>\n",
       "      <td>0</td>\n",
       "      <td>0</td>\n",
       "      <td>0</td>\n",
       "      <td>3.042915</td>\n",
       "      <td>1.0</td>\n",
       "    </tr>\n",
       "    <tr>\n",
       "      <th>2</th>\n",
       "      <td>1003</td>\n",
       "      <td>15</td>\n",
       "      <td>0</td>\n",
       "      <td>2</td>\n",
       "      <td>3</td>\n",
       "      <td>4.210570</td>\n",
       "      <td>26</td>\n",
       "      <td>0</td>\n",
       "      <td>2</td>\n",
       "      <td>0</td>\n",
       "      <td>0</td>\n",
       "      <td>0</td>\n",
       "      <td>0</td>\n",
       "      <td>0.112602</td>\n",
       "      <td>4.0</td>\n",
       "    </tr>\n",
       "    <tr>\n",
       "      <th>3</th>\n",
       "      <td>1004</td>\n",
       "      <td>17</td>\n",
       "      <td>1</td>\n",
       "      <td>0</td>\n",
       "      <td>3</td>\n",
       "      <td>10.028829</td>\n",
       "      <td>14</td>\n",
       "      <td>0</td>\n",
       "      <td>3</td>\n",
       "      <td>1</td>\n",
       "      <td>0</td>\n",
       "      <td>0</td>\n",
       "      <td>0</td>\n",
       "      <td>2.054218</td>\n",
       "      <td>3.0</td>\n",
       "    </tr>\n",
       "    <tr>\n",
       "      <th>4</th>\n",
       "      <td>1005</td>\n",
       "      <td>17</td>\n",
       "      <td>1</td>\n",
       "      <td>0</td>\n",
       "      <td>2</td>\n",
       "      <td>4.672495</td>\n",
       "      <td>17</td>\n",
       "      <td>1</td>\n",
       "      <td>3</td>\n",
       "      <td>0</td>\n",
       "      <td>0</td>\n",
       "      <td>0</td>\n",
       "      <td>0</td>\n",
       "      <td>1.288061</td>\n",
       "      <td>4.0</td>\n",
       "    </tr>\n",
       "  </tbody>\n",
       "</table>\n",
       "</div>"
      ]
     },
     "execution_count": 10,
     "metadata": {},
     "output_type": "execute_result"
    }
   ],
   "execution_count": 10
  },
  {
   "cell_type": "markdown",
   "id": "78335d0c",
   "metadata": {
    "papermill": {
     "duration": 0.009812,
     "end_time": "2024-08-05T04:04:05.660288",
     "exception": false,
     "start_time": "2024-08-05T04:04:05.650476",
     "status": "completed"
    },
    "tags": []
   },
   "source": [
    "**Display Dataset Information**"
   ]
  },
  {
   "cell_type": "code",
   "id": "f8b59d16",
   "metadata": {
    "execution": {
     "iopub.execute_input": "2024-08-05T04:04:05.682658Z",
     "iopub.status.busy": "2024-08-05T04:04:05.682184Z",
     "iopub.status.idle": "2024-08-05T04:04:05.708145Z",
     "shell.execute_reply": "2024-08-05T04:04:05.707060Z"
    },
    "papermill": {
     "duration": 0.040503,
     "end_time": "2024-08-05T04:04:05.711355",
     "exception": false,
     "start_time": "2024-08-05T04:04:05.670852",
     "status": "completed"
    },
    "tags": [],
    "ExecuteTime": {
     "end_time": "2025-10-05T19:07:18.681415Z",
     "start_time": "2025-10-05T19:07:18.672534Z"
    }
   },
   "source": [
    "df.info()"
   ],
   "outputs": [
    {
     "name": "stdout",
     "output_type": "stream",
     "text": [
      "<class 'pandas.core.frame.DataFrame'>\n",
      "RangeIndex: 2392 entries, 0 to 2391\n",
      "Data columns (total 15 columns):\n",
      " #   Column             Non-Null Count  Dtype  \n",
      "---  ------             --------------  -----  \n",
      " 0   StudentID          2392 non-null   int64  \n",
      " 1   Age                2392 non-null   int64  \n",
      " 2   Gender             2392 non-null   int64  \n",
      " 3   Ethnicity          2392 non-null   int64  \n",
      " 4   ParentalEducation  2392 non-null   int64  \n",
      " 5   StudyTimeWeekly    2392 non-null   float64\n",
      " 6   Absences           2392 non-null   int64  \n",
      " 7   Tutoring           2392 non-null   int64  \n",
      " 8   ParentalSupport    2392 non-null   int64  \n",
      " 9   Extracurricular    2392 non-null   int64  \n",
      " 10  Sports             2392 non-null   int64  \n",
      " 11  Music              2392 non-null   int64  \n",
      " 12  Volunteering       2392 non-null   int64  \n",
      " 13  GPA                2392 non-null   float64\n",
      " 14  GradeClass         2392 non-null   float64\n",
      "dtypes: float64(3), int64(12)\n",
      "memory usage: 280.4 KB\n"
     ]
    }
   ],
   "execution_count": 11
  },
  {
   "cell_type": "markdown",
   "id": "f4fc184e",
   "metadata": {
    "papermill": {
     "duration": 0.00995,
     "end_time": "2024-08-05T04:04:05.731440",
     "exception": false,
     "start_time": "2024-08-05T04:04:05.721490",
     "status": "completed"
    },
    "tags": []
   },
   "source": [
    "**Statistical Summary of the Dataset**"
   ]
  },
  {
   "cell_type": "code",
   "id": "4b0bc606",
   "metadata": {
    "execution": {
     "iopub.execute_input": "2024-08-05T04:04:05.754589Z",
     "iopub.status.busy": "2024-08-05T04:04:05.753642Z",
     "iopub.status.idle": "2024-08-05T04:04:05.811869Z",
     "shell.execute_reply": "2024-08-05T04:04:05.810596Z"
    },
    "papermill": {
     "duration": 0.072114,
     "end_time": "2024-08-05T04:04:05.814633",
     "exception": false,
     "start_time": "2024-08-05T04:04:05.742519",
     "status": "completed"
    },
    "tags": [],
    "ExecuteTime": {
     "end_time": "2025-10-05T19:07:20.404495Z",
     "start_time": "2025-10-05T19:07:20.373815Z"
    }
   },
   "source": [
    "df.describe()"
   ],
   "outputs": [
    {
     "data": {
      "text/plain": [
       "         StudentID          Age       Gender    Ethnicity  ParentalEducation  \\\n",
       "count  2392.000000  2392.000000  2392.000000  2392.000000        2392.000000   \n",
       "mean   2196.500000    16.468645     0.510870     0.877508           1.746237   \n",
       "std     690.655244     1.123798     0.499986     1.028476           1.000411   \n",
       "min    1001.000000    15.000000     0.000000     0.000000           0.000000   \n",
       "25%    1598.750000    15.000000     0.000000     0.000000           1.000000   \n",
       "50%    2196.500000    16.000000     1.000000     0.000000           2.000000   \n",
       "75%    2794.250000    17.000000     1.000000     2.000000           2.000000   \n",
       "max    3392.000000    18.000000     1.000000     3.000000           4.000000   \n",
       "\n",
       "       StudyTimeWeekly     Absences     Tutoring  ParentalSupport  \\\n",
       "count      2392.000000  2392.000000  2392.000000      2392.000000   \n",
       "mean          9.771992    14.541388     0.301421         2.122074   \n",
       "std           5.652774     8.467417     0.458971         1.122813   \n",
       "min           0.001057     0.000000     0.000000         0.000000   \n",
       "25%           5.043079     7.000000     0.000000         1.000000   \n",
       "50%           9.705363    15.000000     0.000000         2.000000   \n",
       "75%          14.408410    22.000000     1.000000         3.000000   \n",
       "max          19.978094    29.000000     1.000000         4.000000   \n",
       "\n",
       "       Extracurricular       Sports        Music  Volunteering          GPA  \\\n",
       "count      2392.000000  2392.000000  2392.000000   2392.000000  2392.000000   \n",
       "mean          0.383361     0.303512     0.196906      0.157191     1.906186   \n",
       "std           0.486307     0.459870     0.397744      0.364057     0.915156   \n",
       "min           0.000000     0.000000     0.000000      0.000000     0.000000   \n",
       "25%           0.000000     0.000000     0.000000      0.000000     1.174803   \n",
       "50%           0.000000     0.000000     0.000000      0.000000     1.893393   \n",
       "75%           1.000000     1.000000     0.000000      0.000000     2.622216   \n",
       "max           1.000000     1.000000     1.000000      1.000000     4.000000   \n",
       "\n",
       "        GradeClass  \n",
       "count  2392.000000  \n",
       "mean      2.983696  \n",
       "std       1.233908  \n",
       "min       0.000000  \n",
       "25%       2.000000  \n",
       "50%       4.000000  \n",
       "75%       4.000000  \n",
       "max       4.000000  "
      ],
      "text/html": [
       "<div>\n",
       "<style scoped>\n",
       "    .dataframe tbody tr th:only-of-type {\n",
       "        vertical-align: middle;\n",
       "    }\n",
       "\n",
       "    .dataframe tbody tr th {\n",
       "        vertical-align: top;\n",
       "    }\n",
       "\n",
       "    .dataframe thead th {\n",
       "        text-align: right;\n",
       "    }\n",
       "</style>\n",
       "<table border=\"1\" class=\"dataframe\">\n",
       "  <thead>\n",
       "    <tr style=\"text-align: right;\">\n",
       "      <th></th>\n",
       "      <th>StudentID</th>\n",
       "      <th>Age</th>\n",
       "      <th>Gender</th>\n",
       "      <th>Ethnicity</th>\n",
       "      <th>ParentalEducation</th>\n",
       "      <th>StudyTimeWeekly</th>\n",
       "      <th>Absences</th>\n",
       "      <th>Tutoring</th>\n",
       "      <th>ParentalSupport</th>\n",
       "      <th>Extracurricular</th>\n",
       "      <th>Sports</th>\n",
       "      <th>Music</th>\n",
       "      <th>Volunteering</th>\n",
       "      <th>GPA</th>\n",
       "      <th>GradeClass</th>\n",
       "    </tr>\n",
       "  </thead>\n",
       "  <tbody>\n",
       "    <tr>\n",
       "      <th>count</th>\n",
       "      <td>2392.000000</td>\n",
       "      <td>2392.000000</td>\n",
       "      <td>2392.000000</td>\n",
       "      <td>2392.000000</td>\n",
       "      <td>2392.000000</td>\n",
       "      <td>2392.000000</td>\n",
       "      <td>2392.000000</td>\n",
       "      <td>2392.000000</td>\n",
       "      <td>2392.000000</td>\n",
       "      <td>2392.000000</td>\n",
       "      <td>2392.000000</td>\n",
       "      <td>2392.000000</td>\n",
       "      <td>2392.000000</td>\n",
       "      <td>2392.000000</td>\n",
       "      <td>2392.000000</td>\n",
       "    </tr>\n",
       "    <tr>\n",
       "      <th>mean</th>\n",
       "      <td>2196.500000</td>\n",
       "      <td>16.468645</td>\n",
       "      <td>0.510870</td>\n",
       "      <td>0.877508</td>\n",
       "      <td>1.746237</td>\n",
       "      <td>9.771992</td>\n",
       "      <td>14.541388</td>\n",
       "      <td>0.301421</td>\n",
       "      <td>2.122074</td>\n",
       "      <td>0.383361</td>\n",
       "      <td>0.303512</td>\n",
       "      <td>0.196906</td>\n",
       "      <td>0.157191</td>\n",
       "      <td>1.906186</td>\n",
       "      <td>2.983696</td>\n",
       "    </tr>\n",
       "    <tr>\n",
       "      <th>std</th>\n",
       "      <td>690.655244</td>\n",
       "      <td>1.123798</td>\n",
       "      <td>0.499986</td>\n",
       "      <td>1.028476</td>\n",
       "      <td>1.000411</td>\n",
       "      <td>5.652774</td>\n",
       "      <td>8.467417</td>\n",
       "      <td>0.458971</td>\n",
       "      <td>1.122813</td>\n",
       "      <td>0.486307</td>\n",
       "      <td>0.459870</td>\n",
       "      <td>0.397744</td>\n",
       "      <td>0.364057</td>\n",
       "      <td>0.915156</td>\n",
       "      <td>1.233908</td>\n",
       "    </tr>\n",
       "    <tr>\n",
       "      <th>min</th>\n",
       "      <td>1001.000000</td>\n",
       "      <td>15.000000</td>\n",
       "      <td>0.000000</td>\n",
       "      <td>0.000000</td>\n",
       "      <td>0.000000</td>\n",
       "      <td>0.001057</td>\n",
       "      <td>0.000000</td>\n",
       "      <td>0.000000</td>\n",
       "      <td>0.000000</td>\n",
       "      <td>0.000000</td>\n",
       "      <td>0.000000</td>\n",
       "      <td>0.000000</td>\n",
       "      <td>0.000000</td>\n",
       "      <td>0.000000</td>\n",
       "      <td>0.000000</td>\n",
       "    </tr>\n",
       "    <tr>\n",
       "      <th>25%</th>\n",
       "      <td>1598.750000</td>\n",
       "      <td>15.000000</td>\n",
       "      <td>0.000000</td>\n",
       "      <td>0.000000</td>\n",
       "      <td>1.000000</td>\n",
       "      <td>5.043079</td>\n",
       "      <td>7.000000</td>\n",
       "      <td>0.000000</td>\n",
       "      <td>1.000000</td>\n",
       "      <td>0.000000</td>\n",
       "      <td>0.000000</td>\n",
       "      <td>0.000000</td>\n",
       "      <td>0.000000</td>\n",
       "      <td>1.174803</td>\n",
       "      <td>2.000000</td>\n",
       "    </tr>\n",
       "    <tr>\n",
       "      <th>50%</th>\n",
       "      <td>2196.500000</td>\n",
       "      <td>16.000000</td>\n",
       "      <td>1.000000</td>\n",
       "      <td>0.000000</td>\n",
       "      <td>2.000000</td>\n",
       "      <td>9.705363</td>\n",
       "      <td>15.000000</td>\n",
       "      <td>0.000000</td>\n",
       "      <td>2.000000</td>\n",
       "      <td>0.000000</td>\n",
       "      <td>0.000000</td>\n",
       "      <td>0.000000</td>\n",
       "      <td>0.000000</td>\n",
       "      <td>1.893393</td>\n",
       "      <td>4.000000</td>\n",
       "    </tr>\n",
       "    <tr>\n",
       "      <th>75%</th>\n",
       "      <td>2794.250000</td>\n",
       "      <td>17.000000</td>\n",
       "      <td>1.000000</td>\n",
       "      <td>2.000000</td>\n",
       "      <td>2.000000</td>\n",
       "      <td>14.408410</td>\n",
       "      <td>22.000000</td>\n",
       "      <td>1.000000</td>\n",
       "      <td>3.000000</td>\n",
       "      <td>1.000000</td>\n",
       "      <td>1.000000</td>\n",
       "      <td>0.000000</td>\n",
       "      <td>0.000000</td>\n",
       "      <td>2.622216</td>\n",
       "      <td>4.000000</td>\n",
       "    </tr>\n",
       "    <tr>\n",
       "      <th>max</th>\n",
       "      <td>3392.000000</td>\n",
       "      <td>18.000000</td>\n",
       "      <td>1.000000</td>\n",
       "      <td>3.000000</td>\n",
       "      <td>4.000000</td>\n",
       "      <td>19.978094</td>\n",
       "      <td>29.000000</td>\n",
       "      <td>1.000000</td>\n",
       "      <td>4.000000</td>\n",
       "      <td>1.000000</td>\n",
       "      <td>1.000000</td>\n",
       "      <td>1.000000</td>\n",
       "      <td>1.000000</td>\n",
       "      <td>4.000000</td>\n",
       "      <td>4.000000</td>\n",
       "    </tr>\n",
       "  </tbody>\n",
       "</table>\n",
       "</div>"
      ]
     },
     "execution_count": 12,
     "metadata": {},
     "output_type": "execute_result"
    }
   ],
   "execution_count": 12
  },
  {
   "cell_type": "markdown",
   "id": "5cc332b4",
   "metadata": {
    "papermill": {
     "duration": 0.010004,
     "end_time": "2024-08-05T04:04:05.834977",
     "exception": false,
     "start_time": "2024-08-05T04:04:05.824973",
     "status": "completed"
    },
    "tags": []
   },
   "source": [
    "# Data Cleaning\n",
    "*Since the 'StudentID' column doesn't affect on the classification we can simply drop it.*\n",
    "*Also we drop the 'GPA' column because it represents the same thing as 'GradeClass' feature.*"
   ]
  },
  {
   "cell_type": "code",
   "id": "07012a93",
   "metadata": {
    "execution": {
     "iopub.execute_input": "2024-08-05T04:04:05.857998Z",
     "iopub.status.busy": "2024-08-05T04:04:05.857619Z",
     "iopub.status.idle": "2024-08-05T04:04:05.879595Z",
     "shell.execute_reply": "2024-08-05T04:04:05.878396Z"
    },
    "papermill": {
     "duration": 0.03667,
     "end_time": "2024-08-05T04:04:05.882708",
     "exception": false,
     "start_time": "2024-08-05T04:04:05.846038",
     "status": "completed"
    },
    "tags": [],
    "ExecuteTime": {
     "end_time": "2025-10-05T19:07:29.632050Z",
     "start_time": "2025-10-05T19:07:29.622200Z"
    }
   },
   "source": [
    "df = df.drop(['StudentID','GPA'], axis = 1)\n",
    "df.head()"
   ],
   "outputs": [
    {
     "data": {
      "text/plain": [
       "   Age  Gender  Ethnicity  ParentalEducation  StudyTimeWeekly  Absences  \\\n",
       "0   17       1          0                  2        19.833723         7   \n",
       "1   18       0          0                  1        15.408756         0   \n",
       "2   15       0          2                  3         4.210570        26   \n",
       "3   17       1          0                  3        10.028829        14   \n",
       "4   17       1          0                  2         4.672495        17   \n",
       "\n",
       "   Tutoring  ParentalSupport  Extracurricular  Sports  Music  Volunteering  \\\n",
       "0         1                2                0       0      1             0   \n",
       "1         0                1                0       0      0             0   \n",
       "2         0                2                0       0      0             0   \n",
       "3         0                3                1       0      0             0   \n",
       "4         1                3                0       0      0             0   \n",
       "\n",
       "   GradeClass  \n",
       "0         2.0  \n",
       "1         1.0  \n",
       "2         4.0  \n",
       "3         3.0  \n",
       "4         4.0  "
      ],
      "text/html": [
       "<div>\n",
       "<style scoped>\n",
       "    .dataframe tbody tr th:only-of-type {\n",
       "        vertical-align: middle;\n",
       "    }\n",
       "\n",
       "    .dataframe tbody tr th {\n",
       "        vertical-align: top;\n",
       "    }\n",
       "\n",
       "    .dataframe thead th {\n",
       "        text-align: right;\n",
       "    }\n",
       "</style>\n",
       "<table border=\"1\" class=\"dataframe\">\n",
       "  <thead>\n",
       "    <tr style=\"text-align: right;\">\n",
       "      <th></th>\n",
       "      <th>Age</th>\n",
       "      <th>Gender</th>\n",
       "      <th>Ethnicity</th>\n",
       "      <th>ParentalEducation</th>\n",
       "      <th>StudyTimeWeekly</th>\n",
       "      <th>Absences</th>\n",
       "      <th>Tutoring</th>\n",
       "      <th>ParentalSupport</th>\n",
       "      <th>Extracurricular</th>\n",
       "      <th>Sports</th>\n",
       "      <th>Music</th>\n",
       "      <th>Volunteering</th>\n",
       "      <th>GradeClass</th>\n",
       "    </tr>\n",
       "  </thead>\n",
       "  <tbody>\n",
       "    <tr>\n",
       "      <th>0</th>\n",
       "      <td>17</td>\n",
       "      <td>1</td>\n",
       "      <td>0</td>\n",
       "      <td>2</td>\n",
       "      <td>19.833723</td>\n",
       "      <td>7</td>\n",
       "      <td>1</td>\n",
       "      <td>2</td>\n",
       "      <td>0</td>\n",
       "      <td>0</td>\n",
       "      <td>1</td>\n",
       "      <td>0</td>\n",
       "      <td>2.0</td>\n",
       "    </tr>\n",
       "    <tr>\n",
       "      <th>1</th>\n",
       "      <td>18</td>\n",
       "      <td>0</td>\n",
       "      <td>0</td>\n",
       "      <td>1</td>\n",
       "      <td>15.408756</td>\n",
       "      <td>0</td>\n",
       "      <td>0</td>\n",
       "      <td>1</td>\n",
       "      <td>0</td>\n",
       "      <td>0</td>\n",
       "      <td>0</td>\n",
       "      <td>0</td>\n",
       "      <td>1.0</td>\n",
       "    </tr>\n",
       "    <tr>\n",
       "      <th>2</th>\n",
       "      <td>15</td>\n",
       "      <td>0</td>\n",
       "      <td>2</td>\n",
       "      <td>3</td>\n",
       "      <td>4.210570</td>\n",
       "      <td>26</td>\n",
       "      <td>0</td>\n",
       "      <td>2</td>\n",
       "      <td>0</td>\n",
       "      <td>0</td>\n",
       "      <td>0</td>\n",
       "      <td>0</td>\n",
       "      <td>4.0</td>\n",
       "    </tr>\n",
       "    <tr>\n",
       "      <th>3</th>\n",
       "      <td>17</td>\n",
       "      <td>1</td>\n",
       "      <td>0</td>\n",
       "      <td>3</td>\n",
       "      <td>10.028829</td>\n",
       "      <td>14</td>\n",
       "      <td>0</td>\n",
       "      <td>3</td>\n",
       "      <td>1</td>\n",
       "      <td>0</td>\n",
       "      <td>0</td>\n",
       "      <td>0</td>\n",
       "      <td>3.0</td>\n",
       "    </tr>\n",
       "    <tr>\n",
       "      <th>4</th>\n",
       "      <td>17</td>\n",
       "      <td>1</td>\n",
       "      <td>0</td>\n",
       "      <td>2</td>\n",
       "      <td>4.672495</td>\n",
       "      <td>17</td>\n",
       "      <td>1</td>\n",
       "      <td>3</td>\n",
       "      <td>0</td>\n",
       "      <td>0</td>\n",
       "      <td>0</td>\n",
       "      <td>0</td>\n",
       "      <td>4.0</td>\n",
       "    </tr>\n",
       "  </tbody>\n",
       "</table>\n",
       "</div>"
      ]
     },
     "execution_count": 13,
     "metadata": {},
     "output_type": "execute_result"
    }
   ],
   "execution_count": 13
  },
  {
   "cell_type": "markdown",
   "id": "28b07d05",
   "metadata": {
    "papermill": {
     "duration": 0.010947,
     "end_time": "2024-08-05T04:04:05.905059",
     "exception": false,
     "start_time": "2024-08-05T04:04:05.894112",
     "status": "completed"
    },
    "tags": []
   },
   "source": [
    "# Feature Engineering"
   ]
  },
  {
   "cell_type": "code",
   "id": "61381b15",
   "metadata": {
    "execution": {
     "iopub.execute_input": "2024-08-05T04:04:05.928442Z",
     "iopub.status.busy": "2024-08-05T04:04:05.928056Z",
     "iopub.status.idle": "2024-08-05T04:04:05.952779Z",
     "shell.execute_reply": "2024-08-05T04:04:05.951573Z"
    },
    "papermill": {
     "duration": 0.039672,
     "end_time": "2024-08-05T04:04:05.955535",
     "exception": false,
     "start_time": "2024-08-05T04:04:05.915863",
     "status": "completed"
    },
    "tags": [],
    "ExecuteTime": {
     "end_time": "2025-10-05T19:07:33.338360Z",
     "start_time": "2025-10-05T19:07:33.320598Z"
    }
   },
   "source": [
    "df['ParentalEducation_StudyTime'] = df['ParentalEducation'] * df['StudyTimeWeekly']\n",
    "df['StudyAbsenceRatio'] = df['StudyTimeWeekly'] / (df['Absences'] + 1)\n",
    "df.head()"
   ],
   "outputs": [
    {
     "data": {
      "text/plain": [
       "   Age  Gender  Ethnicity  ParentalEducation  StudyTimeWeekly  Absences  \\\n",
       "0   17       1          0                  2        19.833723         7   \n",
       "1   18       0          0                  1        15.408756         0   \n",
       "2   15       0          2                  3         4.210570        26   \n",
       "3   17       1          0                  3        10.028829        14   \n",
       "4   17       1          0                  2         4.672495        17   \n",
       "\n",
       "   Tutoring  ParentalSupport  Extracurricular  Sports  Music  Volunteering  \\\n",
       "0         1                2                0       0      1             0   \n",
       "1         0                1                0       0      0             0   \n",
       "2         0                2                0       0      0             0   \n",
       "3         0                3                1       0      0             0   \n",
       "4         1                3                0       0      0             0   \n",
       "\n",
       "   GradeClass  ParentalEducation_StudyTime  StudyAbsenceRatio  \n",
       "0         2.0                    39.667446           2.479215  \n",
       "1         1.0                    15.408756          15.408756  \n",
       "2         4.0                    12.631709           0.155947  \n",
       "3         3.0                    30.086488           0.668589  \n",
       "4         4.0                     9.344991           0.259583  "
      ],
      "text/html": [
       "<div>\n",
       "<style scoped>\n",
       "    .dataframe tbody tr th:only-of-type {\n",
       "        vertical-align: middle;\n",
       "    }\n",
       "\n",
       "    .dataframe tbody tr th {\n",
       "        vertical-align: top;\n",
       "    }\n",
       "\n",
       "    .dataframe thead th {\n",
       "        text-align: right;\n",
       "    }\n",
       "</style>\n",
       "<table border=\"1\" class=\"dataframe\">\n",
       "  <thead>\n",
       "    <tr style=\"text-align: right;\">\n",
       "      <th></th>\n",
       "      <th>Age</th>\n",
       "      <th>Gender</th>\n",
       "      <th>Ethnicity</th>\n",
       "      <th>ParentalEducation</th>\n",
       "      <th>StudyTimeWeekly</th>\n",
       "      <th>Absences</th>\n",
       "      <th>Tutoring</th>\n",
       "      <th>ParentalSupport</th>\n",
       "      <th>Extracurricular</th>\n",
       "      <th>Sports</th>\n",
       "      <th>Music</th>\n",
       "      <th>Volunteering</th>\n",
       "      <th>GradeClass</th>\n",
       "      <th>ParentalEducation_StudyTime</th>\n",
       "      <th>StudyAbsenceRatio</th>\n",
       "    </tr>\n",
       "  </thead>\n",
       "  <tbody>\n",
       "    <tr>\n",
       "      <th>0</th>\n",
       "      <td>17</td>\n",
       "      <td>1</td>\n",
       "      <td>0</td>\n",
       "      <td>2</td>\n",
       "      <td>19.833723</td>\n",
       "      <td>7</td>\n",
       "      <td>1</td>\n",
       "      <td>2</td>\n",
       "      <td>0</td>\n",
       "      <td>0</td>\n",
       "      <td>1</td>\n",
       "      <td>0</td>\n",
       "      <td>2.0</td>\n",
       "      <td>39.667446</td>\n",
       "      <td>2.479215</td>\n",
       "    </tr>\n",
       "    <tr>\n",
       "      <th>1</th>\n",
       "      <td>18</td>\n",
       "      <td>0</td>\n",
       "      <td>0</td>\n",
       "      <td>1</td>\n",
       "      <td>15.408756</td>\n",
       "      <td>0</td>\n",
       "      <td>0</td>\n",
       "      <td>1</td>\n",
       "      <td>0</td>\n",
       "      <td>0</td>\n",
       "      <td>0</td>\n",
       "      <td>0</td>\n",
       "      <td>1.0</td>\n",
       "      <td>15.408756</td>\n",
       "      <td>15.408756</td>\n",
       "    </tr>\n",
       "    <tr>\n",
       "      <th>2</th>\n",
       "      <td>15</td>\n",
       "      <td>0</td>\n",
       "      <td>2</td>\n",
       "      <td>3</td>\n",
       "      <td>4.210570</td>\n",
       "      <td>26</td>\n",
       "      <td>0</td>\n",
       "      <td>2</td>\n",
       "      <td>0</td>\n",
       "      <td>0</td>\n",
       "      <td>0</td>\n",
       "      <td>0</td>\n",
       "      <td>4.0</td>\n",
       "      <td>12.631709</td>\n",
       "      <td>0.155947</td>\n",
       "    </tr>\n",
       "    <tr>\n",
       "      <th>3</th>\n",
       "      <td>17</td>\n",
       "      <td>1</td>\n",
       "      <td>0</td>\n",
       "      <td>3</td>\n",
       "      <td>10.028829</td>\n",
       "      <td>14</td>\n",
       "      <td>0</td>\n",
       "      <td>3</td>\n",
       "      <td>1</td>\n",
       "      <td>0</td>\n",
       "      <td>0</td>\n",
       "      <td>0</td>\n",
       "      <td>3.0</td>\n",
       "      <td>30.086488</td>\n",
       "      <td>0.668589</td>\n",
       "    </tr>\n",
       "    <tr>\n",
       "      <th>4</th>\n",
       "      <td>17</td>\n",
       "      <td>1</td>\n",
       "      <td>0</td>\n",
       "      <td>2</td>\n",
       "      <td>4.672495</td>\n",
       "      <td>17</td>\n",
       "      <td>1</td>\n",
       "      <td>3</td>\n",
       "      <td>0</td>\n",
       "      <td>0</td>\n",
       "      <td>0</td>\n",
       "      <td>0</td>\n",
       "      <td>4.0</td>\n",
       "      <td>9.344991</td>\n",
       "      <td>0.259583</td>\n",
       "    </tr>\n",
       "  </tbody>\n",
       "</table>\n",
       "</div>"
      ]
     },
     "execution_count": 14,
     "metadata": {},
     "output_type": "execute_result"
    }
   ],
   "execution_count": 14
  },
  {
   "cell_type": "markdown",
   "id": "f2eafec1",
   "metadata": {
    "papermill": {
     "duration": 0.01189,
     "end_time": "2024-08-05T04:04:05.978596",
     "exception": false,
     "start_time": "2024-08-05T04:04:05.966706",
     "status": "completed"
    },
    "tags": []
   },
   "source": [
    "# Data Visualization"
   ]
  },
  {
   "cell_type": "code",
   "id": "fa19f40e",
   "metadata": {
    "execution": {
     "iopub.execute_input": "2024-08-05T04:04:06.004741Z",
     "iopub.status.busy": "2024-08-05T04:04:06.004293Z",
     "iopub.status.idle": "2024-08-05T04:04:08.260199Z",
     "shell.execute_reply": "2024-08-05T04:04:08.258689Z"
    },
    "papermill": {
     "duration": 2.273243,
     "end_time": "2024-08-05T04:04:08.263358",
     "exception": false,
     "start_time": "2024-08-05T04:04:05.990115",
     "status": "completed"
    },
    "tags": [],
    "ExecuteTime": {
     "end_time": "2025-10-05T19:07:40.124315Z",
     "start_time": "2025-10-05T19:07:38.530391Z"
    }
   },
   "source": [
    "palette = px.colors.qualitative.Set2\n",
    "\n",
    "correlation_matrix = df.corr()\n",
    "\n",
    "correlation_with_GradeClass = correlation_matrix['GradeClass'].sort_values(ascending=False)\n",
    "\n",
    "fig = px.bar(correlation_with_GradeClass, \n",
    "             title='Correlation of Features with GradeClass', \n",
    "             labels={'index': 'Features', 'value': 'Correlation Coefficient'},\n",
    "             color_discrete_sequence=palette)\n",
    "fig.update_layout(xaxis={'categoryorder':'total descending'})\n",
    "fig.show()"
   ],
   "outputs": [
    {
     "data": {
      "application/vnd.plotly.v1+json": {
       "data": [
        {
         "hovertemplate": "variable=GradeClass<br>Features=%{x}<br>Correlation Coefficient=%{y}<extra></extra>",
         "legendgroup": "GradeClass",
         "marker": {
          "color": "rgb(102,194,165)",
          "pattern": {
           "shape": ""
          }
         },
         "name": "GradeClass",
         "orientation": "v",
         "showlegend": true,
         "textposition": "auto",
         "x": [
          "GradeClass",
          "Absences",
          "ParentalEducation",
          "Gender",
          "Volunteering",
          "Age",
          "Ethnicity",
          "Sports",
          "Music",
          "ParentalEducation_StudyTime",
          "Extracurricular",
          "Tutoring",
          "StudyTimeWeekly",
          "ParentalSupport",
          "StudyAbsenceRatio"
         ],
         "xaxis": "x",
         "y": {
          "dtype": "f8",
          "bdata": "AAAAAAAA8D8PYsaL9VDnP3wiLI4NAqU/7ezEtLmMlz8PlaoQi/GKPxlZGongmXm/NUU5Y7nil7+sKOIHREubv2oXndodd6K/Wpfo20uvqr+Nr9GzCdqxv0vbPxMEmLy/CoG6NTArwb/Bsa0bZ4PBv4s2zpF5KOG/"
         },
         "yaxis": "y",
         "type": "bar"
        }
       ],
       "layout": {
        "template": {
         "data": {
          "histogram2dcontour": [
           {
            "type": "histogram2dcontour",
            "colorbar": {
             "outlinewidth": 0,
             "ticks": ""
            },
            "colorscale": [
             [
              0.0,
              "#0d0887"
             ],
             [
              0.1111111111111111,
              "#46039f"
             ],
             [
              0.2222222222222222,
              "#7201a8"
             ],
             [
              0.3333333333333333,
              "#9c179e"
             ],
             [
              0.4444444444444444,
              "#bd3786"
             ],
             [
              0.5555555555555556,
              "#d8576b"
             ],
             [
              0.6666666666666666,
              "#ed7953"
             ],
             [
              0.7777777777777778,
              "#fb9f3a"
             ],
             [
              0.8888888888888888,
              "#fdca26"
             ],
             [
              1.0,
              "#f0f921"
             ]
            ]
           }
          ],
          "choropleth": [
           {
            "type": "choropleth",
            "colorbar": {
             "outlinewidth": 0,
             "ticks": ""
            }
           }
          ],
          "histogram2d": [
           {
            "type": "histogram2d",
            "colorbar": {
             "outlinewidth": 0,
             "ticks": ""
            },
            "colorscale": [
             [
              0.0,
              "#0d0887"
             ],
             [
              0.1111111111111111,
              "#46039f"
             ],
             [
              0.2222222222222222,
              "#7201a8"
             ],
             [
              0.3333333333333333,
              "#9c179e"
             ],
             [
              0.4444444444444444,
              "#bd3786"
             ],
             [
              0.5555555555555556,
              "#d8576b"
             ],
             [
              0.6666666666666666,
              "#ed7953"
             ],
             [
              0.7777777777777778,
              "#fb9f3a"
             ],
             [
              0.8888888888888888,
              "#fdca26"
             ],
             [
              1.0,
              "#f0f921"
             ]
            ]
           }
          ],
          "heatmap": [
           {
            "type": "heatmap",
            "colorbar": {
             "outlinewidth": 0,
             "ticks": ""
            },
            "colorscale": [
             [
              0.0,
              "#0d0887"
             ],
             [
              0.1111111111111111,
              "#46039f"
             ],
             [
              0.2222222222222222,
              "#7201a8"
             ],
             [
              0.3333333333333333,
              "#9c179e"
             ],
             [
              0.4444444444444444,
              "#bd3786"
             ],
             [
              0.5555555555555556,
              "#d8576b"
             ],
             [
              0.6666666666666666,
              "#ed7953"
             ],
             [
              0.7777777777777778,
              "#fb9f3a"
             ],
             [
              0.8888888888888888,
              "#fdca26"
             ],
             [
              1.0,
              "#f0f921"
             ]
            ]
           }
          ],
          "contourcarpet": [
           {
            "type": "contourcarpet",
            "colorbar": {
             "outlinewidth": 0,
             "ticks": ""
            }
           }
          ],
          "contour": [
           {
            "type": "contour",
            "colorbar": {
             "outlinewidth": 0,
             "ticks": ""
            },
            "colorscale": [
             [
              0.0,
              "#0d0887"
             ],
             [
              0.1111111111111111,
              "#46039f"
             ],
             [
              0.2222222222222222,
              "#7201a8"
             ],
             [
              0.3333333333333333,
              "#9c179e"
             ],
             [
              0.4444444444444444,
              "#bd3786"
             ],
             [
              0.5555555555555556,
              "#d8576b"
             ],
             [
              0.6666666666666666,
              "#ed7953"
             ],
             [
              0.7777777777777778,
              "#fb9f3a"
             ],
             [
              0.8888888888888888,
              "#fdca26"
             ],
             [
              1.0,
              "#f0f921"
             ]
            ]
           }
          ],
          "surface": [
           {
            "type": "surface",
            "colorbar": {
             "outlinewidth": 0,
             "ticks": ""
            },
            "colorscale": [
             [
              0.0,
              "#0d0887"
             ],
             [
              0.1111111111111111,
              "#46039f"
             ],
             [
              0.2222222222222222,
              "#7201a8"
             ],
             [
              0.3333333333333333,
              "#9c179e"
             ],
             [
              0.4444444444444444,
              "#bd3786"
             ],
             [
              0.5555555555555556,
              "#d8576b"
             ],
             [
              0.6666666666666666,
              "#ed7953"
             ],
             [
              0.7777777777777778,
              "#fb9f3a"
             ],
             [
              0.8888888888888888,
              "#fdca26"
             ],
             [
              1.0,
              "#f0f921"
             ]
            ]
           }
          ],
          "mesh3d": [
           {
            "type": "mesh3d",
            "colorbar": {
             "outlinewidth": 0,
             "ticks": ""
            }
           }
          ],
          "scatter": [
           {
            "marker": {
             "line": {
              "color": "#283442"
             }
            },
            "type": "scatter"
           }
          ],
          "parcoords": [
           {
            "type": "parcoords",
            "line": {
             "colorbar": {
              "outlinewidth": 0,
              "ticks": ""
             }
            }
           }
          ],
          "scatterpolargl": [
           {
            "type": "scatterpolargl",
            "marker": {
             "colorbar": {
              "outlinewidth": 0,
              "ticks": ""
             }
            }
           }
          ],
          "bar": [
           {
            "error_x": {
             "color": "#f2f5fa"
            },
            "error_y": {
             "color": "#f2f5fa"
            },
            "marker": {
             "line": {
              "color": "rgb(17,17,17)",
              "width": 0.5
             },
             "pattern": {
              "fillmode": "overlay",
              "size": 10,
              "solidity": 0.2
             }
            },
            "type": "bar"
           }
          ],
          "scattergeo": [
           {
            "type": "scattergeo",
            "marker": {
             "colorbar": {
              "outlinewidth": 0,
              "ticks": ""
             }
            }
           }
          ],
          "scatterpolar": [
           {
            "type": "scatterpolar",
            "marker": {
             "colorbar": {
              "outlinewidth": 0,
              "ticks": ""
             }
            }
           }
          ],
          "histogram": [
           {
            "marker": {
             "pattern": {
              "fillmode": "overlay",
              "size": 10,
              "solidity": 0.2
             }
            },
            "type": "histogram"
           }
          ],
          "scattergl": [
           {
            "marker": {
             "line": {
              "color": "#283442"
             }
            },
            "type": "scattergl"
           }
          ],
          "scatter3d": [
           {
            "type": "scatter3d",
            "line": {
             "colorbar": {
              "outlinewidth": 0,
              "ticks": ""
             }
            },
            "marker": {
             "colorbar": {
              "outlinewidth": 0,
              "ticks": ""
             }
            }
           }
          ],
          "scattermap": [
           {
            "type": "scattermap",
            "marker": {
             "colorbar": {
              "outlinewidth": 0,
              "ticks": ""
             }
            }
           }
          ],
          "scattermapbox": [
           {
            "type": "scattermapbox",
            "marker": {
             "colorbar": {
              "outlinewidth": 0,
              "ticks": ""
             }
            }
           }
          ],
          "scatterternary": [
           {
            "type": "scatterternary",
            "marker": {
             "colorbar": {
              "outlinewidth": 0,
              "ticks": ""
             }
            }
           }
          ],
          "scattercarpet": [
           {
            "type": "scattercarpet",
            "marker": {
             "colorbar": {
              "outlinewidth": 0,
              "ticks": ""
             }
            }
           }
          ],
          "carpet": [
           {
            "aaxis": {
             "endlinecolor": "#A2B1C6",
             "gridcolor": "#506784",
             "linecolor": "#506784",
             "minorgridcolor": "#506784",
             "startlinecolor": "#A2B1C6"
            },
            "baxis": {
             "endlinecolor": "#A2B1C6",
             "gridcolor": "#506784",
             "linecolor": "#506784",
             "minorgridcolor": "#506784",
             "startlinecolor": "#A2B1C6"
            },
            "type": "carpet"
           }
          ],
          "table": [
           {
            "cells": {
             "fill": {
              "color": "#506784"
             },
             "line": {
              "color": "rgb(17,17,17)"
             }
            },
            "header": {
             "fill": {
              "color": "#2a3f5f"
             },
             "line": {
              "color": "rgb(17,17,17)"
             }
            },
            "type": "table"
           }
          ],
          "barpolar": [
           {
            "marker": {
             "line": {
              "color": "rgb(17,17,17)",
              "width": 0.5
             },
             "pattern": {
              "fillmode": "overlay",
              "size": 10,
              "solidity": 0.2
             }
            },
            "type": "barpolar"
           }
          ],
          "pie": [
           {
            "automargin": true,
            "type": "pie"
           }
          ]
         },
         "layout": {
          "autotypenumbers": "strict",
          "colorway": [
           "#636efa",
           "#EF553B",
           "#00cc96",
           "#ab63fa",
           "#FFA15A",
           "#19d3f3",
           "#FF6692",
           "#B6E880",
           "#FF97FF",
           "#FECB52"
          ],
          "font": {
           "color": "#f2f5fa"
          },
          "hovermode": "closest",
          "hoverlabel": {
           "align": "left"
          },
          "paper_bgcolor": "rgb(17,17,17)",
          "plot_bgcolor": "rgb(17,17,17)",
          "polar": {
           "bgcolor": "rgb(17,17,17)",
           "angularaxis": {
            "gridcolor": "#506784",
            "linecolor": "#506784",
            "ticks": ""
           },
           "radialaxis": {
            "gridcolor": "#506784",
            "linecolor": "#506784",
            "ticks": ""
           }
          },
          "ternary": {
           "bgcolor": "rgb(17,17,17)",
           "aaxis": {
            "gridcolor": "#506784",
            "linecolor": "#506784",
            "ticks": ""
           },
           "baxis": {
            "gridcolor": "#506784",
            "linecolor": "#506784",
            "ticks": ""
           },
           "caxis": {
            "gridcolor": "#506784",
            "linecolor": "#506784",
            "ticks": ""
           }
          },
          "coloraxis": {
           "colorbar": {
            "outlinewidth": 0,
            "ticks": ""
           }
          },
          "colorscale": {
           "sequential": [
            [
             0.0,
             "#0d0887"
            ],
            [
             0.1111111111111111,
             "#46039f"
            ],
            [
             0.2222222222222222,
             "#7201a8"
            ],
            [
             0.3333333333333333,
             "#9c179e"
            ],
            [
             0.4444444444444444,
             "#bd3786"
            ],
            [
             0.5555555555555556,
             "#d8576b"
            ],
            [
             0.6666666666666666,
             "#ed7953"
            ],
            [
             0.7777777777777778,
             "#fb9f3a"
            ],
            [
             0.8888888888888888,
             "#fdca26"
            ],
            [
             1.0,
             "#f0f921"
            ]
           ],
           "sequentialminus": [
            [
             0.0,
             "#0d0887"
            ],
            [
             0.1111111111111111,
             "#46039f"
            ],
            [
             0.2222222222222222,
             "#7201a8"
            ],
            [
             0.3333333333333333,
             "#9c179e"
            ],
            [
             0.4444444444444444,
             "#bd3786"
            ],
            [
             0.5555555555555556,
             "#d8576b"
            ],
            [
             0.6666666666666666,
             "#ed7953"
            ],
            [
             0.7777777777777778,
             "#fb9f3a"
            ],
            [
             0.8888888888888888,
             "#fdca26"
            ],
            [
             1.0,
             "#f0f921"
            ]
           ],
           "diverging": [
            [
             0,
             "#8e0152"
            ],
            [
             0.1,
             "#c51b7d"
            ],
            [
             0.2,
             "#de77ae"
            ],
            [
             0.3,
             "#f1b6da"
            ],
            [
             0.4,
             "#fde0ef"
            ],
            [
             0.5,
             "#f7f7f7"
            ],
            [
             0.6,
             "#e6f5d0"
            ],
            [
             0.7,
             "#b8e186"
            ],
            [
             0.8,
             "#7fbc41"
            ],
            [
             0.9,
             "#4d9221"
            ],
            [
             1,
             "#276419"
            ]
           ]
          },
          "xaxis": {
           "gridcolor": "#283442",
           "linecolor": "#506784",
           "ticks": "",
           "title": {
            "standoff": 15
           },
           "zerolinecolor": "#283442",
           "automargin": true,
           "zerolinewidth": 2
          },
          "yaxis": {
           "gridcolor": "#283442",
           "linecolor": "#506784",
           "ticks": "",
           "title": {
            "standoff": 15
           },
           "zerolinecolor": "#283442",
           "automargin": true,
           "zerolinewidth": 2
          },
          "scene": {
           "xaxis": {
            "backgroundcolor": "rgb(17,17,17)",
            "gridcolor": "#506784",
            "linecolor": "#506784",
            "showbackground": true,
            "ticks": "",
            "zerolinecolor": "#C8D4E3",
            "gridwidth": 2
           },
           "yaxis": {
            "backgroundcolor": "rgb(17,17,17)",
            "gridcolor": "#506784",
            "linecolor": "#506784",
            "showbackground": true,
            "ticks": "",
            "zerolinecolor": "#C8D4E3",
            "gridwidth": 2
           },
           "zaxis": {
            "backgroundcolor": "rgb(17,17,17)",
            "gridcolor": "#506784",
            "linecolor": "#506784",
            "showbackground": true,
            "ticks": "",
            "zerolinecolor": "#C8D4E3",
            "gridwidth": 2
           }
          },
          "shapedefaults": {
           "line": {
            "color": "#f2f5fa"
           }
          },
          "annotationdefaults": {
           "arrowcolor": "#f2f5fa",
           "arrowhead": 0,
           "arrowwidth": 1
          },
          "geo": {
           "bgcolor": "rgb(17,17,17)",
           "landcolor": "rgb(17,17,17)",
           "subunitcolor": "#506784",
           "showland": true,
           "showlakes": true,
           "lakecolor": "rgb(17,17,17)"
          },
          "title": {
           "x": 0.05
          },
          "updatemenudefaults": {
           "bgcolor": "#506784",
           "borderwidth": 0
          },
          "sliderdefaults": {
           "bgcolor": "#C8D4E3",
           "borderwidth": 1,
           "bordercolor": "rgb(17,17,17)",
           "tickwidth": 0
          },
          "mapbox": {
           "style": "dark"
          }
         }
        },
        "xaxis": {
         "anchor": "y",
         "domain": [
          0.0,
          1.0
         ],
         "title": {
          "text": "Features"
         },
         "categoryorder": "total descending"
        },
        "yaxis": {
         "anchor": "x",
         "domain": [
          0.0,
          1.0
         ],
         "title": {
          "text": "Correlation Coefficient"
         }
        },
        "legend": {
         "title": {
          "text": "variable"
         },
         "tracegroupgap": 0
        },
        "title": {
         "text": "Correlation of Features with GradeClass"
        },
        "barmode": "relative"
       },
       "config": {
        "plotlyServerURL": "https://plot.ly"
       }
      }
     },
     "metadata": {},
     "output_type": "display_data",
     "jetTransient": {
      "display_id": null
     }
    }
   ],
   "execution_count": 15
  },
  {
   "cell_type": "markdown",
   "id": "0856c160",
   "metadata": {
    "papermill": {
     "duration": 0.012984,
     "end_time": "2024-08-05T04:04:08.289186",
     "exception": false,
     "start_time": "2024-08-05T04:04:08.276202",
     "status": "completed"
    },
    "tags": []
   },
   "source": [
    "**Histograms of some Numerical Features**"
   ]
  },
  {
   "cell_type": "code",
   "id": "bd9d0bee",
   "metadata": {
    "execution": {
     "iopub.execute_input": "2024-08-05T04:04:08.316271Z",
     "iopub.status.busy": "2024-08-05T04:04:08.315858Z",
     "iopub.status.idle": "2024-08-05T04:04:08.563967Z",
     "shell.execute_reply": "2024-08-05T04:04:08.562300Z"
    },
    "papermill": {
     "duration": 0.26507,
     "end_time": "2024-08-05T04:04:08.567063",
     "exception": false,
     "start_time": "2024-08-05T04:04:08.301993",
     "status": "completed"
    },
    "tags": [],
    "ExecuteTime": {
     "end_time": "2025-10-05T19:07:43.815965Z",
     "start_time": "2025-10-05T19:07:43.756633Z"
    }
   },
   "source": [
    "numerical_cols = ['Age', 'StudyTimeWeekly', 'Absences']\n",
    "\n",
    "fig = px.histogram(df, x=numerical_cols[0], nbins=20, title=f'Histogram of {numerical_cols[0]}', color_discrete_sequence=palette)\n",
    "for col in numerical_cols[1:]:\n",
    "    fig.add_trace(go.Histogram(x=df[col], nbinsx=20, name=col))\n",
    "fig.update_layout(barmode='overlay', title_text='Histograms of Numerical Features')\n",
    "fig.update_traces(opacity=0.75)\n",
    "fig.show()"
   ],
   "outputs": [
    {
     "data": {
      "application/vnd.plotly.v1+json": {
       "data": [
        {
         "bingroup": "x",
         "hovertemplate": "Age=%{x}<br>count=%{y}<extra></extra>",
         "legendgroup": "",
         "marker": {
          "color": "rgb(102,194,165)",
          "pattern": {
           "shape": ""
          }
         },
         "name": "",
         "nbinsx": 20,
         "orientation": "v",
         "showlegend": false,
         "x": {
          "dtype": "i1",
          "bdata": "ERIPERESDw8REBERERESDxISEhEQDxASEhAQEBISDw8SEBAPEg8PEREREBISEhIREBAREBESERISDxEPEREPDxEQEg8SEBAQDxAPEBISERIREg8SEREQDxIQEhIQEBAQEBIQDxEQEBIQEBASEBESERIQERIPEBIPEg8QEQ8SEA8SEhIPDw8RDw8PEQ8SDxISEhEREQ8SEREPEQ8QERAPEhEPEhIQDxIRERASDxESEhAREQ8RDxEQEQ8PEBEREBERDxEREBASDxEREhEPEg8SEhAPEREPEREPEg8SEREREBIQEA8QDw8QEhISEhIQEBESEBESDxEQDw8PERAPEg8PEREQEhEPEA8PERASEhEREBISEg8SDxAPEBISEBEQEQ8PDxIPEQ8QEBIQEQ8SDw8REBAPEhASEBIREhEREhEPERASDxIQEBARERISDw8SERASDxESEhESERARERESEhESDw8SEhEQEg8REg8PEBEREBARERISEBIPEhIPEA8SEBIPDxIREQ8PERESEhESEhASDxISEQ8SEhASEhAREhAPEQ8PEBIQEBAQERIPDxIPEg8QDxISEhISEREPEg8SEhEREBEQEBAQEA8REBIRERAPEA8SERIPDxIPEhESERIPEg8SEhAPEA8QERIPDxIPDxAPERESDxIRDw8SEQ8SERIQDxAREBAREhASEBIREBEQEREQEBAPEg8PERASEQ8QERAREA8SDxIQEQ8SDxIPEhIQEhASEREREhAQEhEREBEPEBEQDxAQEBAPEhAQERAREg8PEg8SEhIPERIQDxISEBERERISEg8QEhAQEQ8SERESEBEQDxAPEBERDxIPDxAQDxEQEhAQEg8SDw8PEg8REhEPEA8RERIQEhEPEA8PEBIPEQ8QEBASDxISEBASDxESDxAQDxEQEBAPEhASERAQERASDxIPDxISEhIREA8SEhIREhISEBESDw8PEREPEhEPDxIQERIPDxIREBAPERAREQ8QEg8QEBAQEBEPERIQDxAPEQ8SEg8PDw8SEA8PEhIRDxESEhAPERISERASDxIPEQ8RDxEPEA8PEBISDxAPEREPEhIPDxESDxESEBESEhEQERIPDxESDxIRDxIPERIPEQ8PEBAREBEQDxERDxEREBESDxAQEg8PEBEQDxIQDxAREBAPDw8QERISDw8QEg8REQ8PEhIQEhERDxIQEREQEBEREBEPDxASEBASEhIPEQ8RDxEPEhAPERIPDxIPEA8QEBIPEg8PEQ8SEA8REg8SERESDxARDw8QEREPDxAQERIRDxESEBISEhASEhIPEhASEhASEBIQEhIPDxISERARDw8PDxIPEhIPDxARDxAQERIPEQ8QEBIQEBEPDxESDxAPEBIRDxEPEBEPEBERDw8PEA8REQ8PEhEQEg8PEQ8QEQ8RDw8PEBARDw8QDxAPEQ8PEhAPDxISEBIREhEQEBAQEBEREBIPEBIPEBARDw8SEREREQ8PEBAREREQEhIQEBAQEBAREREREBIPEA8SERIQERARDw8PEhASDxAPEhISDxAQDxAPEBEREhEREQ8RERIRERASEhISEhIPERIREQ8SEA8QEREPDxASEA8QDxAPDw8SEBAQDxAQDxEPEA8RDxAREhARERIPDxASDxIPEQ8SEREREhAQEBIREBIQDxAQERIRERERERARERIPEBAQEREREg8RDxIQEQ8PERAQEBIPDw8SDxIQEQ8PEBESERAQERISDxIREA8PEBIQEhAREhEPEA8PDw8QDxAQERISEBEQEBAREhEPERERERIPEhIREBASEhESERAQDxASEBEQDxARERIQEQ8SDxAQEBIREg8SDxIRDxAQEhAPEBEREg8REQ8QEBIQDxEQEhAPEhASDxEPDw8PERESEBEREBEPDxASEhAQDxIRDxASEREPEhIQEhIPEhEPDxASEBEPDw8RERAQEBIPDxAPEBISERIQEhEPEA8REREPDw8PEREQEA8SEhERERAQEREREhASEhERDw8SEBEREg8QDw8PDxERDxASEBAQDxEQDxAQDxEREg8SEhIRDxIPDxESEg8QERERERISEBERDxIREBASEBASEREQEBESEA8SEBAPDxESEhESEhISEg8SDxIREA8SERAPEBEPEBIPEBERDxAPDxAQEhARDw8REBEREhEPEQ8PDxASDw8QDxEREg8QERAQERAREBEPEhEREhEREBIPERIQDxIPDw8RERAQEhAPDxEPEg8PEhAQEhEPEg8RDxIPEBERERIREBIQDw8PDxASEhEQDxARERAQEBIPEBAQERESDxIPEREREhAQERAQEg8RERISEBEPEg8PERESERERDxIQDxEPEREPEhESEBESEhASEhAREhISDxAPEBEREhAREBEPEQ8REg8REg8SEBAPEQ8SERAREBERERISDw8QEhAPEA8SERIQEBISDxAQEhEQERISDxARDxAPEhAPDxEPEBAREBIQEA8PEBEPERAQEg8QEg8QEA8PDxAQEhEPEBAPEQ8REBESEBIPDw8REA8PEA8SEBAQEhASEBEPEQ8SERAPDxESERISDxEREhEQEBEREhAQDxIPEBIREhEREhEPEBEPERAPEBAPDw8SDw8PDxESEA8REREQDxISERAQEBIRDxIREQ8PDxAPEQ8REhASEhESEQ8PEQ8QEhASDxAPEhEREA8PEBESEBIRDxEQDxAQERARDxEPERISEBERDxAREBIRERAREBEPEBESERISDxARDxESEBEREhEREg8SDxAPDxAPEg8QEhAQEREQEBAREQ8PEBISEREREBIPEA8PEA8SDxISEhEPEBAPERESDw8QDxEPEBIQEBIQEA8PEg8PEBEPEQ8PEhISERAPDw8REhAREhEQEhEQDxAPERISERISDxEQDxEPEBAREA8QDw8QERIQDw8QEREPDxESEA8PERAREBAQDxIREhEQDxIPEQ8PEhAPEBEPEhEREg8PEQ8QEhAPERIPDxEREBISERASEQ8SEBAQDxISDxIPDw8QEg8SEA8REBESEhASEQ8PDxASERISEg8RERIPDxEPDw8QEhEREBIRDxEPEA8REREQEBIRDxARERASEBAPDxIREBIPEBEPDw8SERASEhIPERIQERAREA8SEBESEhEQDw8QEhISEhASERIPEhAPEBAPEBASERAQEA=="
         },
         "xaxis": "x",
         "yaxis": "y",
         "type": "histogram",
         "opacity": 0.75
        },
        {
         "name": "StudyTimeWeekly",
         "nbinsx": 20,
         "x": {
          "dtype": "f8",
          "bdata": "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"
         },
         "type": "histogram",
         "opacity": 0.75
        },
        {
         "name": "Absences",
         "nbinsx": 20,
         "x": {
          "dtype": "i1",
          "bdata": "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"
         },
         "type": "histogram",
         "opacity": 0.75
        }
       ],
       "layout": {
        "template": {
         "data": {
          "histogram2dcontour": [
           {
            "type": "histogram2dcontour",
            "colorbar": {
             "outlinewidth": 0,
             "ticks": ""
            },
            "colorscale": [
             [
              0.0,
              "#0d0887"
             ],
             [
              0.1111111111111111,
              "#46039f"
             ],
             [
              0.2222222222222222,
              "#7201a8"
             ],
             [
              0.3333333333333333,
              "#9c179e"
             ],
             [
              0.4444444444444444,
              "#bd3786"
             ],
             [
              0.5555555555555556,
              "#d8576b"
             ],
             [
              0.6666666666666666,
              "#ed7953"
             ],
             [
              0.7777777777777778,
              "#fb9f3a"
             ],
             [
              0.8888888888888888,
              "#fdca26"
             ],
             [
              1.0,
              "#f0f921"
             ]
            ]
           }
          ],
          "choropleth": [
           {
            "type": "choropleth",
            "colorbar": {
             "outlinewidth": 0,
             "ticks": ""
            }
           }
          ],
          "histogram2d": [
           {
            "type": "histogram2d",
            "colorbar": {
             "outlinewidth": 0,
             "ticks": ""
            },
            "colorscale": [
             [
              0.0,
              "#0d0887"
             ],
             [
              0.1111111111111111,
              "#46039f"
             ],
             [
              0.2222222222222222,
              "#7201a8"
             ],
             [
              0.3333333333333333,
              "#9c179e"
             ],
             [
              0.4444444444444444,
              "#bd3786"
             ],
             [
              0.5555555555555556,
              "#d8576b"
             ],
             [
              0.6666666666666666,
              "#ed7953"
             ],
             [
              0.7777777777777778,
              "#fb9f3a"
             ],
             [
              0.8888888888888888,
              "#fdca26"
             ],
             [
              1.0,
              "#f0f921"
             ]
            ]
           }
          ],
          "heatmap": [
           {
            "type": "heatmap",
            "colorbar": {
             "outlinewidth": 0,
             "ticks": ""
            },
            "colorscale": [
             [
              0.0,
              "#0d0887"
             ],
             [
              0.1111111111111111,
              "#46039f"
             ],
             [
              0.2222222222222222,
              "#7201a8"
             ],
             [
              0.3333333333333333,
              "#9c179e"
             ],
             [
              0.4444444444444444,
              "#bd3786"
             ],
             [
              0.5555555555555556,
              "#d8576b"
             ],
             [
              0.6666666666666666,
              "#ed7953"
             ],
             [
              0.7777777777777778,
              "#fb9f3a"
             ],
             [
              0.8888888888888888,
              "#fdca26"
             ],
             [
              1.0,
              "#f0f921"
             ]
            ]
           }
          ],
          "contourcarpet": [
           {
            "type": "contourcarpet",
            "colorbar": {
             "outlinewidth": 0,
             "ticks": ""
            }
           }
          ],
          "contour": [
           {
            "type": "contour",
            "colorbar": {
             "outlinewidth": 0,
             "ticks": ""
            },
            "colorscale": [
             [
              0.0,
              "#0d0887"
             ],
             [
              0.1111111111111111,
              "#46039f"
             ],
             [
              0.2222222222222222,
              "#7201a8"
             ],
             [
              0.3333333333333333,
              "#9c179e"
             ],
             [
              0.4444444444444444,
              "#bd3786"
             ],
             [
              0.5555555555555556,
              "#d8576b"
             ],
             [
              0.6666666666666666,
              "#ed7953"
             ],
             [
              0.7777777777777778,
              "#fb9f3a"
             ],
             [
              0.8888888888888888,
              "#fdca26"
             ],
             [
              1.0,
              "#f0f921"
             ]
            ]
           }
          ],
          "surface": [
           {
            "type": "surface",
            "colorbar": {
             "outlinewidth": 0,
             "ticks": ""
            },
            "colorscale": [
             [
              0.0,
              "#0d0887"
             ],
             [
              0.1111111111111111,
              "#46039f"
             ],
             [
              0.2222222222222222,
              "#7201a8"
             ],
             [
              0.3333333333333333,
              "#9c179e"
             ],
             [
              0.4444444444444444,
              "#bd3786"
             ],
             [
              0.5555555555555556,
              "#d8576b"
             ],
             [
              0.6666666666666666,
              "#ed7953"
             ],
             [
              0.7777777777777778,
              "#fb9f3a"
             ],
             [
              0.8888888888888888,
              "#fdca26"
             ],
             [
              1.0,
              "#f0f921"
             ]
            ]
           }
          ],
          "mesh3d": [
           {
            "type": "mesh3d",
            "colorbar": {
             "outlinewidth": 0,
             "ticks": ""
            }
           }
          ],
          "scatter": [
           {
            "marker": {
             "line": {
              "color": "#283442"
             }
            },
            "type": "scatter"
           }
          ],
          "parcoords": [
           {
            "type": "parcoords",
            "line": {
             "colorbar": {
              "outlinewidth": 0,
              "ticks": ""
             }
            }
           }
          ],
          "scatterpolargl": [
           {
            "type": "scatterpolargl",
            "marker": {
             "colorbar": {
              "outlinewidth": 0,
              "ticks": ""
             }
            }
           }
          ],
          "bar": [
           {
            "error_x": {
             "color": "#f2f5fa"
            },
            "error_y": {
             "color": "#f2f5fa"
            },
            "marker": {
             "line": {
              "color": "rgb(17,17,17)",
              "width": 0.5
             },
             "pattern": {
              "fillmode": "overlay",
              "size": 10,
              "solidity": 0.2
             }
            },
            "type": "bar"
           }
          ],
          "scattergeo": [
           {
            "type": "scattergeo",
            "marker": {
             "colorbar": {
              "outlinewidth": 0,
              "ticks": ""
             }
            }
           }
          ],
          "scatterpolar": [
           {
            "type": "scatterpolar",
            "marker": {
             "colorbar": {
              "outlinewidth": 0,
              "ticks": ""
             }
            }
           }
          ],
          "histogram": [
           {
            "marker": {
             "pattern": {
              "fillmode": "overlay",
              "size": 10,
              "solidity": 0.2
             }
            },
            "type": "histogram"
           }
          ],
          "scattergl": [
           {
            "marker": {
             "line": {
              "color": "#283442"
             }
            },
            "type": "scattergl"
           }
          ],
          "scatter3d": [
           {
            "type": "scatter3d",
            "line": {
             "colorbar": {
              "outlinewidth": 0,
              "ticks": ""
             }
            },
            "marker": {
             "colorbar": {
              "outlinewidth": 0,
              "ticks": ""
             }
            }
           }
          ],
          "scattermap": [
           {
            "type": "scattermap",
            "marker": {
             "colorbar": {
              "outlinewidth": 0,
              "ticks": ""
             }
            }
           }
          ],
          "scattermapbox": [
           {
            "type": "scattermapbox",
            "marker": {
             "colorbar": {
              "outlinewidth": 0,
              "ticks": ""
             }
            }
           }
          ],
          "scatterternary": [
           {
            "type": "scatterternary",
            "marker": {
             "colorbar": {
              "outlinewidth": 0,
              "ticks": ""
             }
            }
           }
          ],
          "scattercarpet": [
           {
            "type": "scattercarpet",
            "marker": {
             "colorbar": {
              "outlinewidth": 0,
              "ticks": ""
             }
            }
           }
          ],
          "carpet": [
           {
            "aaxis": {
             "endlinecolor": "#A2B1C6",
             "gridcolor": "#506784",
             "linecolor": "#506784",
             "minorgridcolor": "#506784",
             "startlinecolor": "#A2B1C6"
            },
            "baxis": {
             "endlinecolor": "#A2B1C6",
             "gridcolor": "#506784",
             "linecolor": "#506784",
             "minorgridcolor": "#506784",
             "startlinecolor": "#A2B1C6"
            },
            "type": "carpet"
           }
          ],
          "table": [
           {
            "cells": {
             "fill": {
              "color": "#506784"
             },
             "line": {
              "color": "rgb(17,17,17)"
             }
            },
            "header": {
             "fill": {
              "color": "#2a3f5f"
             },
             "line": {
              "color": "rgb(17,17,17)"
             }
            },
            "type": "table"
           }
          ],
          "barpolar": [
           {
            "marker": {
             "line": {
              "color": "rgb(17,17,17)",
              "width": 0.5
             },
             "pattern": {
              "fillmode": "overlay",
              "size": 10,
              "solidity": 0.2
             }
            },
            "type": "barpolar"
           }
          ],
          "pie": [
           {
            "automargin": true,
            "type": "pie"
           }
          ]
         },
         "layout": {
          "autotypenumbers": "strict",
          "colorway": [
           "#636efa",
           "#EF553B",
           "#00cc96",
           "#ab63fa",
           "#FFA15A",
           "#19d3f3",
           "#FF6692",
           "#B6E880",
           "#FF97FF",
           "#FECB52"
          ],
          "font": {
           "color": "#f2f5fa"
          },
          "hovermode": "closest",
          "hoverlabel": {
           "align": "left"
          },
          "paper_bgcolor": "rgb(17,17,17)",
          "plot_bgcolor": "rgb(17,17,17)",
          "polar": {
           "bgcolor": "rgb(17,17,17)",
           "angularaxis": {
            "gridcolor": "#506784",
            "linecolor": "#506784",
            "ticks": ""
           },
           "radialaxis": {
            "gridcolor": "#506784",
            "linecolor": "#506784",
            "ticks": ""
           }
          },
          "ternary": {
           "bgcolor": "rgb(17,17,17)",
           "aaxis": {
            "gridcolor": "#506784",
            "linecolor": "#506784",
            "ticks": ""
           },
           "baxis": {
            "gridcolor": "#506784",
            "linecolor": "#506784",
            "ticks": ""
           },
           "caxis": {
            "gridcolor": "#506784",
            "linecolor": "#506784",
            "ticks": ""
           }
          },
          "coloraxis": {
           "colorbar": {
            "outlinewidth": 0,
            "ticks": ""
           }
          },
          "colorscale": {
           "sequential": [
            [
             0.0,
             "#0d0887"
            ],
            [
             0.1111111111111111,
             "#46039f"
            ],
            [
             0.2222222222222222,
             "#7201a8"
            ],
            [
             0.3333333333333333,
             "#9c179e"
            ],
            [
             0.4444444444444444,
             "#bd3786"
            ],
            [
             0.5555555555555556,
             "#d8576b"
            ],
            [
             0.6666666666666666,
             "#ed7953"
            ],
            [
             0.7777777777777778,
             "#fb9f3a"
            ],
            [
             0.8888888888888888,
             "#fdca26"
            ],
            [
             1.0,
             "#f0f921"
            ]
           ],
           "sequentialminus": [
            [
             0.0,
             "#0d0887"
            ],
            [
             0.1111111111111111,
             "#46039f"
            ],
            [
             0.2222222222222222,
             "#7201a8"
            ],
            [
             0.3333333333333333,
             "#9c179e"
            ],
            [
             0.4444444444444444,
             "#bd3786"
            ],
            [
             0.5555555555555556,
             "#d8576b"
            ],
            [
             0.6666666666666666,
             "#ed7953"
            ],
            [
             0.7777777777777778,
             "#fb9f3a"
            ],
            [
             0.8888888888888888,
             "#fdca26"
            ],
            [
             1.0,
             "#f0f921"
            ]
           ],
           "diverging": [
            [
             0,
             "#8e0152"
            ],
            [
             0.1,
             "#c51b7d"
            ],
            [
             0.2,
             "#de77ae"
            ],
            [
             0.3,
             "#f1b6da"
            ],
            [
             0.4,
             "#fde0ef"
            ],
            [
             0.5,
             "#f7f7f7"
            ],
            [
             0.6,
             "#e6f5d0"
            ],
            [
             0.7,
             "#b8e186"
            ],
            [
             0.8,
             "#7fbc41"
            ],
            [
             0.9,
             "#4d9221"
            ],
            [
             1,
             "#276419"
            ]
           ]
          },
          "xaxis": {
           "gridcolor": "#283442",
           "linecolor": "#506784",
           "ticks": "",
           "title": {
            "standoff": 15
           },
           "zerolinecolor": "#283442",
           "automargin": true,
           "zerolinewidth": 2
          },
          "yaxis": {
           "gridcolor": "#283442",
           "linecolor": "#506784",
           "ticks": "",
           "title": {
            "standoff": 15
           },
           "zerolinecolor": "#283442",
           "automargin": true,
           "zerolinewidth": 2
          },
          "scene": {
           "xaxis": {
            "backgroundcolor": "rgb(17,17,17)",
            "gridcolor": "#506784",
            "linecolor": "#506784",
            "showbackground": true,
            "ticks": "",
            "zerolinecolor": "#C8D4E3",
            "gridwidth": 2
           },
           "yaxis": {
            "backgroundcolor": "rgb(17,17,17)",
            "gridcolor": "#506784",
            "linecolor": "#506784",
            "showbackground": true,
            "ticks": "",
            "zerolinecolor": "#C8D4E3",
            "gridwidth": 2
           },
           "zaxis": {
            "backgroundcolor": "rgb(17,17,17)",
            "gridcolor": "#506784",
            "linecolor": "#506784",
            "showbackground": true,
            "ticks": "",
            "zerolinecolor": "#C8D4E3",
            "gridwidth": 2
           }
          },
          "shapedefaults": {
           "line": {
            "color": "#f2f5fa"
           }
          },
          "annotationdefaults": {
           "arrowcolor": "#f2f5fa",
           "arrowhead": 0,
           "arrowwidth": 1
          },
          "geo": {
           "bgcolor": "rgb(17,17,17)",
           "landcolor": "rgb(17,17,17)",
           "subunitcolor": "#506784",
           "showland": true,
           "showlakes": true,
           "lakecolor": "rgb(17,17,17)"
          },
          "title": {
           "x": 0.05
          },
          "updatemenudefaults": {
           "bgcolor": "#506784",
           "borderwidth": 0
          },
          "sliderdefaults": {
           "bgcolor": "#C8D4E3",
           "borderwidth": 1,
           "bordercolor": "rgb(17,17,17)",
           "tickwidth": 0
          },
          "mapbox": {
           "style": "dark"
          }
         }
        },
        "xaxis": {
         "anchor": "y",
         "domain": [
          0.0,
          1.0
         ],
         "title": {
          "text": "Age"
         }
        },
        "yaxis": {
         "anchor": "x",
         "domain": [
          0.0,
          1.0
         ],
         "title": {
          "text": "count"
         }
        },
        "legend": {
         "tracegroupgap": 0
        },
        "title": {
         "text": "Histograms of Numerical Features"
        },
        "barmode": "overlay"
       },
       "config": {
        "plotlyServerURL": "https://plot.ly"
       }
      }
     },
     "metadata": {},
     "output_type": "display_data",
     "jetTransient": {
      "display_id": null
     }
    }
   ],
   "execution_count": 16
  },
  {
   "cell_type": "markdown",
   "id": "76759c51",
   "metadata": {
    "papermill": {
     "duration": 0.014533,
     "end_time": "2024-08-05T04:04:08.595009",
     "exception": false,
     "start_time": "2024-08-05T04:04:08.580476",
     "status": "completed"
    },
    "tags": []
   },
   "source": [
    "# Advanced Feature Engineering\n",
    "**Polynomial Feature Engineering**"
   ]
  },
  {
   "cell_type": "code",
   "id": "5ca06e6e",
   "metadata": {
    "execution": {
     "iopub.execute_input": "2024-08-05T04:04:08.624677Z",
     "iopub.status.busy": "2024-08-05T04:04:08.624186Z",
     "iopub.status.idle": "2024-08-05T04:04:08.845531Z",
     "shell.execute_reply": "2024-08-05T04:04:08.844089Z"
    },
    "papermill": {
     "duration": 0.240012,
     "end_time": "2024-08-05T04:04:08.848619",
     "exception": false,
     "start_time": "2024-08-05T04:04:08.608607",
     "status": "completed"
    },
    "tags": [],
    "ExecuteTime": {
     "end_time": "2025-10-05T19:07:50.490986Z",
     "start_time": "2025-10-05T19:07:50.285209Z"
    }
   },
   "source": [
    "from sklearn.preprocessing import PolynomialFeatures\n",
    "\n",
    "numerical_features = df[['Age', 'StudyTimeWeekly', 'Absences', 'ParentalEducation_StudyTime', 'GradeClass', 'StudyAbsenceRatio']]\n",
    "\n",
    "poly = PolynomialFeatures(degree=2, interaction_only=False, include_bias=False)\n",
    "poly_features = poly.fit_transform(numerical_features)\n",
    "\n",
    "poly_features_df = pd.DataFrame(poly_features, columns=poly.get_feature_names_out(numerical_features.columns))\n",
    "\n",
    "df = pd.concat([df, poly_features_df], axis=1)"
   ],
   "outputs": [],
   "execution_count": 17
  },
  {
   "cell_type": "markdown",
   "id": "5171b529",
   "metadata": {
    "papermill": {
     "duration": 0.012656,
     "end_time": "2024-08-05T04:04:08.875070",
     "exception": false,
     "start_time": "2024-08-05T04:04:08.862414",
     "status": "completed"
    },
    "tags": []
   },
   "source": [
    "# Data Preparation"
   ]
  },
  {
   "cell_type": "code",
   "id": "255daacf",
   "metadata": {
    "execution": {
     "iopub.execute_input": "2024-08-05T04:04:08.903121Z",
     "iopub.status.busy": "2024-08-05T04:04:08.902706Z",
     "iopub.status.idle": "2024-08-05T04:04:08.913400Z",
     "shell.execute_reply": "2024-08-05T04:04:08.911960Z"
    },
    "papermill": {
     "duration": 0.028151,
     "end_time": "2024-08-05T04:04:08.916833",
     "exception": false,
     "start_time": "2024-08-05T04:04:08.888682",
     "status": "completed"
    },
    "tags": [],
    "ExecuteTime": {
     "end_time": "2025-10-05T19:07:53.071056Z",
     "start_time": "2025-10-05T19:07:53.060426Z"
    }
   },
   "source": [
    "# Remove duplicate columns if any\n",
    "df = df.loc[:, ~df.columns.duplicated()]\n",
    "\n",
    "# Separate features and target variable\n",
    "x = df.drop('GradeClass', axis=1)\n",
    "y = df['GradeClass']"
   ],
   "outputs": [],
   "execution_count": 18
  },
  {
   "cell_type": "markdown",
   "id": "f1fe1512",
   "metadata": {
    "papermill": {
     "duration": 0.013028,
     "end_time": "2024-08-05T04:04:08.943247",
     "exception": false,
     "start_time": "2024-08-05T04:04:08.930219",
     "status": "completed"
    },
    "tags": []
   },
   "source": [
    "# Model Preparation\n",
    "**Train-Test Split**"
   ]
  },
  {
   "cell_type": "code",
   "id": "3db19fdf",
   "metadata": {
    "execution": {
     "iopub.execute_input": "2024-08-05T04:04:08.972555Z",
     "iopub.status.busy": "2024-08-05T04:04:08.972127Z",
     "iopub.status.idle": "2024-08-05T04:04:09.122080Z",
     "shell.execute_reply": "2024-08-05T04:04:09.120613Z"
    },
    "papermill": {
     "duration": 0.168357,
     "end_time": "2024-08-05T04:04:09.125275",
     "exception": false,
     "start_time": "2024-08-05T04:04:08.956918",
     "status": "completed"
    },
    "tags": [],
    "ExecuteTime": {
     "end_time": "2025-10-05T19:07:55.584036Z",
     "start_time": "2025-10-05T19:07:55.488627Z"
    }
   },
   "source": [
    "from sklearn.model_selection import train_test_split\n",
    "\n",
    "x_train, x_test, y_train, y_test = train_test_split(x, y, test_size = 0.2, random_state = 42)"
   ],
   "outputs": [],
   "execution_count": 19
  },
  {
   "cell_type": "markdown",
   "id": "00d958e8",
   "metadata": {
    "papermill": {
     "duration": 0.012268,
     "end_time": "2024-08-05T04:04:09.150450",
     "exception": false,
     "start_time": "2024-08-05T04:04:09.138182",
     "status": "completed"
    },
    "tags": []
   },
   "source": [
    "**Data Scaling**"
   ]
  },
  {
   "cell_type": "code",
   "id": "0fb7aae5",
   "metadata": {
    "execution": {
     "iopub.execute_input": "2024-08-05T04:04:09.177332Z",
     "iopub.status.busy": "2024-08-05T04:04:09.176886Z",
     "iopub.status.idle": "2024-08-05T04:04:09.194101Z",
     "shell.execute_reply": "2024-08-05T04:04:09.192622Z"
    },
    "papermill": {
     "duration": 0.034827,
     "end_time": "2024-08-05T04:04:09.197753",
     "exception": false,
     "start_time": "2024-08-05T04:04:09.162926",
     "status": "completed"
    },
    "tags": [],
    "ExecuteTime": {
     "end_time": "2025-10-05T19:07:57.665828Z",
     "start_time": "2025-10-05T19:07:57.652913Z"
    }
   },
   "source": [
    "from sklearn.preprocessing import StandardScaler\n",
    "\n",
    "scaler = StandardScaler()\n",
    "x_train_scaled = scaler.fit_transform(x_train)\n",
    "x_test_scaled = scaler.transform(x_test)"
   ],
   "outputs": [],
   "execution_count": 20
  },
  {
   "cell_type": "markdown",
   "id": "16f903d1",
   "metadata": {
    "papermill": {
     "duration": 0.013774,
     "end_time": "2024-08-05T04:04:09.223989",
     "exception": false,
     "start_time": "2024-08-05T04:04:09.210215",
     "status": "completed"
    },
    "tags": []
   },
   "source": [
    "# Model Training and Evaluation\n",
    "**Train Logistic Regression Model**"
   ]
  },
  {
   "cell_type": "code",
   "id": "e6971896",
   "metadata": {
    "execution": {
     "iopub.execute_input": "2024-08-05T04:04:09.250872Z",
     "iopub.status.busy": "2024-08-05T04:04:09.250353Z",
     "iopub.status.idle": "2024-08-05T04:04:09.603066Z",
     "shell.execute_reply": "2024-08-05T04:04:09.601800Z"
    },
    "papermill": {
     "duration": 0.369634,
     "end_time": "2024-08-05T04:04:09.606104",
     "exception": false,
     "start_time": "2024-08-05T04:04:09.236470",
     "status": "completed"
    },
    "tags": [],
    "ExecuteTime": {
     "end_time": "2025-10-05T19:08:06.685863Z",
     "start_time": "2025-10-05T19:08:06.531861Z"
    }
   },
   "source": [
    "from sklearn.linear_model import LogisticRegression\n",
    "\n",
    "model = LogisticRegression(solver='liblinear')\n",
    "model.fit(x_train_scaled, y_train)"
   ],
   "outputs": [
    {
     "data": {
      "text/plain": [
       "LogisticRegression(solver='liblinear')"
      ],
      "text/html": [
       "<style>#sk-container-id-1 {\n",
       "  /* Definition of color scheme common for light and dark mode */\n",
       "  --sklearn-color-text: #000;\n",
       "  --sklearn-color-text-muted: #666;\n",
       "  --sklearn-color-line: gray;\n",
       "  /* Definition of color scheme for unfitted estimators */\n",
       "  --sklearn-color-unfitted-level-0: #fff5e6;\n",
       "  --sklearn-color-unfitted-level-1: #f6e4d2;\n",
       "  --sklearn-color-unfitted-level-2: #ffe0b3;\n",
       "  --sklearn-color-unfitted-level-3: chocolate;\n",
       "  /* Definition of color scheme for fitted estimators */\n",
       "  --sklearn-color-fitted-level-0: #f0f8ff;\n",
       "  --sklearn-color-fitted-level-1: #d4ebff;\n",
       "  --sklearn-color-fitted-level-2: #b3dbfd;\n",
       "  --sklearn-color-fitted-level-3: cornflowerblue;\n",
       "\n",
       "  /* Specific color for light theme */\n",
       "  --sklearn-color-text-on-default-background: var(--sg-text-color, var(--theme-code-foreground, var(--jp-content-font-color1, black)));\n",
       "  --sklearn-color-background: var(--sg-background-color, var(--theme-background, var(--jp-layout-color0, white)));\n",
       "  --sklearn-color-border-box: var(--sg-text-color, var(--theme-code-foreground, var(--jp-content-font-color1, black)));\n",
       "  --sklearn-color-icon: #696969;\n",
       "\n",
       "  @media (prefers-color-scheme: dark) {\n",
       "    /* Redefinition of color scheme for dark theme */\n",
       "    --sklearn-color-text-on-default-background: var(--sg-text-color, var(--theme-code-foreground, var(--jp-content-font-color1, white)));\n",
       "    --sklearn-color-background: var(--sg-background-color, var(--theme-background, var(--jp-layout-color0, #111)));\n",
       "    --sklearn-color-border-box: var(--sg-text-color, var(--theme-code-foreground, var(--jp-content-font-color1, white)));\n",
       "    --sklearn-color-icon: #878787;\n",
       "  }\n",
       "}\n",
       "\n",
       "#sk-container-id-1 {\n",
       "  color: var(--sklearn-color-text);\n",
       "}\n",
       "\n",
       "#sk-container-id-1 pre {\n",
       "  padding: 0;\n",
       "}\n",
       "\n",
       "#sk-container-id-1 input.sk-hidden--visually {\n",
       "  border: 0;\n",
       "  clip: rect(1px 1px 1px 1px);\n",
       "  clip: rect(1px, 1px, 1px, 1px);\n",
       "  height: 1px;\n",
       "  margin: -1px;\n",
       "  overflow: hidden;\n",
       "  padding: 0;\n",
       "  position: absolute;\n",
       "  width: 1px;\n",
       "}\n",
       "\n",
       "#sk-container-id-1 div.sk-dashed-wrapped {\n",
       "  border: 1px dashed var(--sklearn-color-line);\n",
       "  margin: 0 0.4em 0.5em 0.4em;\n",
       "  box-sizing: border-box;\n",
       "  padding-bottom: 0.4em;\n",
       "  background-color: var(--sklearn-color-background);\n",
       "}\n",
       "\n",
       "#sk-container-id-1 div.sk-container {\n",
       "  /* jupyter's `normalize.less` sets `[hidden] { display: none; }`\n",
       "     but bootstrap.min.css set `[hidden] { display: none !important; }`\n",
       "     so we also need the `!important` here to be able to override the\n",
       "     default hidden behavior on the sphinx rendered scikit-learn.org.\n",
       "     See: https://github.com/scikit-learn/scikit-learn/issues/21755 */\n",
       "  display: inline-block !important;\n",
       "  position: relative;\n",
       "}\n",
       "\n",
       "#sk-container-id-1 div.sk-text-repr-fallback {\n",
       "  display: none;\n",
       "}\n",
       "\n",
       "div.sk-parallel-item,\n",
       "div.sk-serial,\n",
       "div.sk-item {\n",
       "  /* draw centered vertical line to link estimators */\n",
       "  background-image: linear-gradient(var(--sklearn-color-text-on-default-background), var(--sklearn-color-text-on-default-background));\n",
       "  background-size: 2px 100%;\n",
       "  background-repeat: no-repeat;\n",
       "  background-position: center center;\n",
       "}\n",
       "\n",
       "/* Parallel-specific style estimator block */\n",
       "\n",
       "#sk-container-id-1 div.sk-parallel-item::after {\n",
       "  content: \"\";\n",
       "  width: 100%;\n",
       "  border-bottom: 2px solid var(--sklearn-color-text-on-default-background);\n",
       "  flex-grow: 1;\n",
       "}\n",
       "\n",
       "#sk-container-id-1 div.sk-parallel {\n",
       "  display: flex;\n",
       "  align-items: stretch;\n",
       "  justify-content: center;\n",
       "  background-color: var(--sklearn-color-background);\n",
       "  position: relative;\n",
       "}\n",
       "\n",
       "#sk-container-id-1 div.sk-parallel-item {\n",
       "  display: flex;\n",
       "  flex-direction: column;\n",
       "}\n",
       "\n",
       "#sk-container-id-1 div.sk-parallel-item:first-child::after {\n",
       "  align-self: flex-end;\n",
       "  width: 50%;\n",
       "}\n",
       "\n",
       "#sk-container-id-1 div.sk-parallel-item:last-child::after {\n",
       "  align-self: flex-start;\n",
       "  width: 50%;\n",
       "}\n",
       "\n",
       "#sk-container-id-1 div.sk-parallel-item:only-child::after {\n",
       "  width: 0;\n",
       "}\n",
       "\n",
       "/* Serial-specific style estimator block */\n",
       "\n",
       "#sk-container-id-1 div.sk-serial {\n",
       "  display: flex;\n",
       "  flex-direction: column;\n",
       "  align-items: center;\n",
       "  background-color: var(--sklearn-color-background);\n",
       "  padding-right: 1em;\n",
       "  padding-left: 1em;\n",
       "}\n",
       "\n",
       "\n",
       "/* Toggleable style: style used for estimator/Pipeline/ColumnTransformer box that is\n",
       "clickable and can be expanded/collapsed.\n",
       "- Pipeline and ColumnTransformer use this feature and define the default style\n",
       "- Estimators will overwrite some part of the style using the `sk-estimator` class\n",
       "*/\n",
       "\n",
       "/* Pipeline and ColumnTransformer style (default) */\n",
       "\n",
       "#sk-container-id-1 div.sk-toggleable {\n",
       "  /* Default theme specific background. It is overwritten whether we have a\n",
       "  specific estimator or a Pipeline/ColumnTransformer */\n",
       "  background-color: var(--sklearn-color-background);\n",
       "}\n",
       "\n",
       "/* Toggleable label */\n",
       "#sk-container-id-1 label.sk-toggleable__label {\n",
       "  cursor: pointer;\n",
       "  display: flex;\n",
       "  width: 100%;\n",
       "  margin-bottom: 0;\n",
       "  padding: 0.5em;\n",
       "  box-sizing: border-box;\n",
       "  text-align: center;\n",
       "  align-items: start;\n",
       "  justify-content: space-between;\n",
       "  gap: 0.5em;\n",
       "}\n",
       "\n",
       "#sk-container-id-1 label.sk-toggleable__label .caption {\n",
       "  font-size: 0.6rem;\n",
       "  font-weight: lighter;\n",
       "  color: var(--sklearn-color-text-muted);\n",
       "}\n",
       "\n",
       "#sk-container-id-1 label.sk-toggleable__label-arrow:before {\n",
       "  /* Arrow on the left of the label */\n",
       "  content: \"▸\";\n",
       "  float: left;\n",
       "  margin-right: 0.25em;\n",
       "  color: var(--sklearn-color-icon);\n",
       "}\n",
       "\n",
       "#sk-container-id-1 label.sk-toggleable__label-arrow:hover:before {\n",
       "  color: var(--sklearn-color-text);\n",
       "}\n",
       "\n",
       "/* Toggleable content - dropdown */\n",
       "\n",
       "#sk-container-id-1 div.sk-toggleable__content {\n",
       "  display: none;\n",
       "  text-align: left;\n",
       "  /* unfitted */\n",
       "  background-color: var(--sklearn-color-unfitted-level-0);\n",
       "}\n",
       "\n",
       "#sk-container-id-1 div.sk-toggleable__content.fitted {\n",
       "  /* fitted */\n",
       "  background-color: var(--sklearn-color-fitted-level-0);\n",
       "}\n",
       "\n",
       "#sk-container-id-1 div.sk-toggleable__content pre {\n",
       "  margin: 0.2em;\n",
       "  border-radius: 0.25em;\n",
       "  color: var(--sklearn-color-text);\n",
       "  /* unfitted */\n",
       "  background-color: var(--sklearn-color-unfitted-level-0);\n",
       "}\n",
       "\n",
       "#sk-container-id-1 div.sk-toggleable__content.fitted pre {\n",
       "  /* unfitted */\n",
       "  background-color: var(--sklearn-color-fitted-level-0);\n",
       "}\n",
       "\n",
       "#sk-container-id-1 input.sk-toggleable__control:checked~div.sk-toggleable__content {\n",
       "  /* Expand drop-down */\n",
       "  display: block;\n",
       "  width: 100%;\n",
       "  overflow: visible;\n",
       "}\n",
       "\n",
       "#sk-container-id-1 input.sk-toggleable__control:checked~label.sk-toggleable__label-arrow:before {\n",
       "  content: \"▾\";\n",
       "}\n",
       "\n",
       "/* Pipeline/ColumnTransformer-specific style */\n",
       "\n",
       "#sk-container-id-1 div.sk-label input.sk-toggleable__control:checked~label.sk-toggleable__label {\n",
       "  color: var(--sklearn-color-text);\n",
       "  background-color: var(--sklearn-color-unfitted-level-2);\n",
       "}\n",
       "\n",
       "#sk-container-id-1 div.sk-label.fitted input.sk-toggleable__control:checked~label.sk-toggleable__label {\n",
       "  background-color: var(--sklearn-color-fitted-level-2);\n",
       "}\n",
       "\n",
       "/* Estimator-specific style */\n",
       "\n",
       "/* Colorize estimator box */\n",
       "#sk-container-id-1 div.sk-estimator input.sk-toggleable__control:checked~label.sk-toggleable__label {\n",
       "  /* unfitted */\n",
       "  background-color: var(--sklearn-color-unfitted-level-2);\n",
       "}\n",
       "\n",
       "#sk-container-id-1 div.sk-estimator.fitted input.sk-toggleable__control:checked~label.sk-toggleable__label {\n",
       "  /* fitted */\n",
       "  background-color: var(--sklearn-color-fitted-level-2);\n",
       "}\n",
       "\n",
       "#sk-container-id-1 div.sk-label label.sk-toggleable__label,\n",
       "#sk-container-id-1 div.sk-label label {\n",
       "  /* The background is the default theme color */\n",
       "  color: var(--sklearn-color-text-on-default-background);\n",
       "}\n",
       "\n",
       "/* On hover, darken the color of the background */\n",
       "#sk-container-id-1 div.sk-label:hover label.sk-toggleable__label {\n",
       "  color: var(--sklearn-color-text);\n",
       "  background-color: var(--sklearn-color-unfitted-level-2);\n",
       "}\n",
       "\n",
       "/* Label box, darken color on hover, fitted */\n",
       "#sk-container-id-1 div.sk-label.fitted:hover label.sk-toggleable__label.fitted {\n",
       "  color: var(--sklearn-color-text);\n",
       "  background-color: var(--sklearn-color-fitted-level-2);\n",
       "}\n",
       "\n",
       "/* Estimator label */\n",
       "\n",
       "#sk-container-id-1 div.sk-label label {\n",
       "  font-family: monospace;\n",
       "  font-weight: bold;\n",
       "  display: inline-block;\n",
       "  line-height: 1.2em;\n",
       "}\n",
       "\n",
       "#sk-container-id-1 div.sk-label-container {\n",
       "  text-align: center;\n",
       "}\n",
       "\n",
       "/* Estimator-specific */\n",
       "#sk-container-id-1 div.sk-estimator {\n",
       "  font-family: monospace;\n",
       "  border: 1px dotted var(--sklearn-color-border-box);\n",
       "  border-radius: 0.25em;\n",
       "  box-sizing: border-box;\n",
       "  margin-bottom: 0.5em;\n",
       "  /* unfitted */\n",
       "  background-color: var(--sklearn-color-unfitted-level-0);\n",
       "}\n",
       "\n",
       "#sk-container-id-1 div.sk-estimator.fitted {\n",
       "  /* fitted */\n",
       "  background-color: var(--sklearn-color-fitted-level-0);\n",
       "}\n",
       "\n",
       "/* on hover */\n",
       "#sk-container-id-1 div.sk-estimator:hover {\n",
       "  /* unfitted */\n",
       "  background-color: var(--sklearn-color-unfitted-level-2);\n",
       "}\n",
       "\n",
       "#sk-container-id-1 div.sk-estimator.fitted:hover {\n",
       "  /* fitted */\n",
       "  background-color: var(--sklearn-color-fitted-level-2);\n",
       "}\n",
       "\n",
       "/* Specification for estimator info (e.g. \"i\" and \"?\") */\n",
       "\n",
       "/* Common style for \"i\" and \"?\" */\n",
       "\n",
       ".sk-estimator-doc-link,\n",
       "a:link.sk-estimator-doc-link,\n",
       "a:visited.sk-estimator-doc-link {\n",
       "  float: right;\n",
       "  font-size: smaller;\n",
       "  line-height: 1em;\n",
       "  font-family: monospace;\n",
       "  background-color: var(--sklearn-color-background);\n",
       "  border-radius: 1em;\n",
       "  height: 1em;\n",
       "  width: 1em;\n",
       "  text-decoration: none !important;\n",
       "  margin-left: 0.5em;\n",
       "  text-align: center;\n",
       "  /* unfitted */\n",
       "  border: var(--sklearn-color-unfitted-level-1) 1pt solid;\n",
       "  color: var(--sklearn-color-unfitted-level-1);\n",
       "}\n",
       "\n",
       ".sk-estimator-doc-link.fitted,\n",
       "a:link.sk-estimator-doc-link.fitted,\n",
       "a:visited.sk-estimator-doc-link.fitted {\n",
       "  /* fitted */\n",
       "  border: var(--sklearn-color-fitted-level-1) 1pt solid;\n",
       "  color: var(--sklearn-color-fitted-level-1);\n",
       "}\n",
       "\n",
       "/* On hover */\n",
       "div.sk-estimator:hover .sk-estimator-doc-link:hover,\n",
       ".sk-estimator-doc-link:hover,\n",
       "div.sk-label-container:hover .sk-estimator-doc-link:hover,\n",
       ".sk-estimator-doc-link:hover {\n",
       "  /* unfitted */\n",
       "  background-color: var(--sklearn-color-unfitted-level-3);\n",
       "  color: var(--sklearn-color-background);\n",
       "  text-decoration: none;\n",
       "}\n",
       "\n",
       "div.sk-estimator.fitted:hover .sk-estimator-doc-link.fitted:hover,\n",
       ".sk-estimator-doc-link.fitted:hover,\n",
       "div.sk-label-container:hover .sk-estimator-doc-link.fitted:hover,\n",
       ".sk-estimator-doc-link.fitted:hover {\n",
       "  /* fitted */\n",
       "  background-color: var(--sklearn-color-fitted-level-3);\n",
       "  color: var(--sklearn-color-background);\n",
       "  text-decoration: none;\n",
       "}\n",
       "\n",
       "/* Span, style for the box shown on hovering the info icon */\n",
       ".sk-estimator-doc-link span {\n",
       "  display: none;\n",
       "  z-index: 9999;\n",
       "  position: relative;\n",
       "  font-weight: normal;\n",
       "  right: .2ex;\n",
       "  padding: .5ex;\n",
       "  margin: .5ex;\n",
       "  width: min-content;\n",
       "  min-width: 20ex;\n",
       "  max-width: 50ex;\n",
       "  color: var(--sklearn-color-text);\n",
       "  box-shadow: 2pt 2pt 4pt #999;\n",
       "  /* unfitted */\n",
       "  background: var(--sklearn-color-unfitted-level-0);\n",
       "  border: .5pt solid var(--sklearn-color-unfitted-level-3);\n",
       "}\n",
       "\n",
       ".sk-estimator-doc-link.fitted span {\n",
       "  /* fitted */\n",
       "  background: var(--sklearn-color-fitted-level-0);\n",
       "  border: var(--sklearn-color-fitted-level-3);\n",
       "}\n",
       "\n",
       ".sk-estimator-doc-link:hover span {\n",
       "  display: block;\n",
       "}\n",
       "\n",
       "/* \"?\"-specific style due to the `<a>` HTML tag */\n",
       "\n",
       "#sk-container-id-1 a.estimator_doc_link {\n",
       "  float: right;\n",
       "  font-size: 1rem;\n",
       "  line-height: 1em;\n",
       "  font-family: monospace;\n",
       "  background-color: var(--sklearn-color-background);\n",
       "  border-radius: 1rem;\n",
       "  height: 1rem;\n",
       "  width: 1rem;\n",
       "  text-decoration: none;\n",
       "  /* unfitted */\n",
       "  color: var(--sklearn-color-unfitted-level-1);\n",
       "  border: var(--sklearn-color-unfitted-level-1) 1pt solid;\n",
       "}\n",
       "\n",
       "#sk-container-id-1 a.estimator_doc_link.fitted {\n",
       "  /* fitted */\n",
       "  border: var(--sklearn-color-fitted-level-1) 1pt solid;\n",
       "  color: var(--sklearn-color-fitted-level-1);\n",
       "}\n",
       "\n",
       "/* On hover */\n",
       "#sk-container-id-1 a.estimator_doc_link:hover {\n",
       "  /* unfitted */\n",
       "  background-color: var(--sklearn-color-unfitted-level-3);\n",
       "  color: var(--sklearn-color-background);\n",
       "  text-decoration: none;\n",
       "}\n",
       "\n",
       "#sk-container-id-1 a.estimator_doc_link.fitted:hover {\n",
       "  /* fitted */\n",
       "  background-color: var(--sklearn-color-fitted-level-3);\n",
       "}\n",
       "\n",
       ".estimator-table summary {\n",
       "    padding: .5rem;\n",
       "    font-family: monospace;\n",
       "    cursor: pointer;\n",
       "}\n",
       "\n",
       ".estimator-table details[open] {\n",
       "    padding-left: 0.1rem;\n",
       "    padding-right: 0.1rem;\n",
       "    padding-bottom: 0.3rem;\n",
       "}\n",
       "\n",
       ".estimator-table .parameters-table {\n",
       "    margin-left: auto !important;\n",
       "    margin-right: auto !important;\n",
       "}\n",
       "\n",
       ".estimator-table .parameters-table tr:nth-child(odd) {\n",
       "    background-color: #fff;\n",
       "}\n",
       "\n",
       ".estimator-table .parameters-table tr:nth-child(even) {\n",
       "    background-color: #f6f6f6;\n",
       "}\n",
       "\n",
       ".estimator-table .parameters-table tr:hover {\n",
       "    background-color: #e0e0e0;\n",
       "}\n",
       "\n",
       ".estimator-table table td {\n",
       "    border: 1px solid rgba(106, 105, 104, 0.232);\n",
       "}\n",
       "\n",
       ".user-set td {\n",
       "    color:rgb(255, 94, 0);\n",
       "    text-align: left;\n",
       "}\n",
       "\n",
       ".user-set td.value pre {\n",
       "    color:rgb(255, 94, 0) !important;\n",
       "    background-color: transparent !important;\n",
       "}\n",
       "\n",
       ".default td {\n",
       "    color: black;\n",
       "    text-align: left;\n",
       "}\n",
       "\n",
       ".user-set td i,\n",
       ".default td i {\n",
       "    color: black;\n",
       "}\n",
       "\n",
       ".copy-paste-icon {\n",
       "    background-image: url(data:image/svg+xml;base64,PHN2ZyB4bWxucz0iaHR0cDovL3d3dy53My5vcmcvMjAwMC9zdmciIHZpZXdCb3g9IjAgMCA0NDggNTEyIj48IS0tIUZvbnQgQXdlc29tZSBGcmVlIDYuNy4yIGJ5IEBmb250YXdlc29tZSAtIGh0dHBzOi8vZm9udGF3ZXNvbWUuY29tIExpY2Vuc2UgLSBodHRwczovL2ZvbnRhd2Vzb21lLmNvbS9saWNlbnNlL2ZyZWUgQ29weXJpZ2h0IDIwMjUgRm9udGljb25zLCBJbmMuLS0+PHBhdGggZD0iTTIwOCAwTDMzMi4xIDBjMTIuNyAwIDI0LjkgNS4xIDMzLjkgMTQuMWw2Ny45IDY3LjljOSA5IDE0LjEgMjEuMiAxNC4xIDMzLjlMNDQ4IDMzNmMwIDI2LjUtMjEuNSA0OC00OCA0OGwtMTkyIDBjLTI2LjUgMC00OC0yMS41LTQ4LTQ4bDAtMjg4YzAtMjYuNSAyMS41LTQ4IDQ4LTQ4ek00OCAxMjhsODAgMCAwIDY0LTY0IDAgMCAyNTYgMTkyIDAgMC0zMiA2NCAwIDAgNDhjMCAyNi41LTIxLjUgNDgtNDggNDhMNDggNTEyYy0yNi41IDAtNDgtMjEuNS00OC00OEwwIDE3NmMwLTI2LjUgMjEuNS00OCA0OC00OHoiLz48L3N2Zz4=);\n",
       "    background-repeat: no-repeat;\n",
       "    background-size: 14px 14px;\n",
       "    background-position: 0;\n",
       "    display: inline-block;\n",
       "    width: 14px;\n",
       "    height: 14px;\n",
       "    cursor: pointer;\n",
       "}\n",
       "</style><body><div id=\"sk-container-id-1\" class=\"sk-top-container\"><div class=\"sk-text-repr-fallback\"><pre>LogisticRegression(solver=&#x27;liblinear&#x27;)</pre><b>In a Jupyter environment, please rerun this cell to show the HTML representation or trust the notebook. <br />On GitHub, the HTML representation is unable to render, please try loading this page with nbviewer.org.</b></div><div class=\"sk-container\" hidden><div class=\"sk-item\"><div class=\"sk-estimator fitted sk-toggleable\"><input class=\"sk-toggleable__control sk-hidden--visually\" id=\"sk-estimator-id-1\" type=\"checkbox\" checked><label for=\"sk-estimator-id-1\" class=\"sk-toggleable__label fitted sk-toggleable__label-arrow\"><div><div>LogisticRegression</div></div><div><a class=\"sk-estimator-doc-link fitted\" rel=\"noreferrer\" target=\"_blank\" href=\"https://scikit-learn.org/1.7/modules/generated/sklearn.linear_model.LogisticRegression.html\">?<span>Documentation for LogisticRegression</span></a><span class=\"sk-estimator-doc-link fitted\">i<span>Fitted</span></span></div></label><div class=\"sk-toggleable__content fitted\" data-param-prefix=\"\">\n",
       "        <div class=\"estimator-table\">\n",
       "            <details>\n",
       "                <summary>Parameters</summary>\n",
       "                <table class=\"parameters-table\">\n",
       "                  <tbody>\n",
       "                    \n",
       "        <tr class=\"default\">\n",
       "            <td><i class=\"copy-paste-icon\"\n",
       "                 onclick=\"copyToClipboard('penalty',\n",
       "                          this.parentElement.nextElementSibling)\"\n",
       "            ></i></td>\n",
       "            <td class=\"param\">penalty&nbsp;</td>\n",
       "            <td class=\"value\">&#x27;l2&#x27;</td>\n",
       "        </tr>\n",
       "    \n",
       "\n",
       "        <tr class=\"default\">\n",
       "            <td><i class=\"copy-paste-icon\"\n",
       "                 onclick=\"copyToClipboard('dual',\n",
       "                          this.parentElement.nextElementSibling)\"\n",
       "            ></i></td>\n",
       "            <td class=\"param\">dual&nbsp;</td>\n",
       "            <td class=\"value\">False</td>\n",
       "        </tr>\n",
       "    \n",
       "\n",
       "        <tr class=\"default\">\n",
       "            <td><i class=\"copy-paste-icon\"\n",
       "                 onclick=\"copyToClipboard('tol',\n",
       "                          this.parentElement.nextElementSibling)\"\n",
       "            ></i></td>\n",
       "            <td class=\"param\">tol&nbsp;</td>\n",
       "            <td class=\"value\">0.0001</td>\n",
       "        </tr>\n",
       "    \n",
       "\n",
       "        <tr class=\"default\">\n",
       "            <td><i class=\"copy-paste-icon\"\n",
       "                 onclick=\"copyToClipboard('C',\n",
       "                          this.parentElement.nextElementSibling)\"\n",
       "            ></i></td>\n",
       "            <td class=\"param\">C&nbsp;</td>\n",
       "            <td class=\"value\">1.0</td>\n",
       "        </tr>\n",
       "    \n",
       "\n",
       "        <tr class=\"default\">\n",
       "            <td><i class=\"copy-paste-icon\"\n",
       "                 onclick=\"copyToClipboard('fit_intercept',\n",
       "                          this.parentElement.nextElementSibling)\"\n",
       "            ></i></td>\n",
       "            <td class=\"param\">fit_intercept&nbsp;</td>\n",
       "            <td class=\"value\">True</td>\n",
       "        </tr>\n",
       "    \n",
       "\n",
       "        <tr class=\"default\">\n",
       "            <td><i class=\"copy-paste-icon\"\n",
       "                 onclick=\"copyToClipboard('intercept_scaling',\n",
       "                          this.parentElement.nextElementSibling)\"\n",
       "            ></i></td>\n",
       "            <td class=\"param\">intercept_scaling&nbsp;</td>\n",
       "            <td class=\"value\">1</td>\n",
       "        </tr>\n",
       "    \n",
       "\n",
       "        <tr class=\"default\">\n",
       "            <td><i class=\"copy-paste-icon\"\n",
       "                 onclick=\"copyToClipboard('class_weight',\n",
       "                          this.parentElement.nextElementSibling)\"\n",
       "            ></i></td>\n",
       "            <td class=\"param\">class_weight&nbsp;</td>\n",
       "            <td class=\"value\">None</td>\n",
       "        </tr>\n",
       "    \n",
       "\n",
       "        <tr class=\"default\">\n",
       "            <td><i class=\"copy-paste-icon\"\n",
       "                 onclick=\"copyToClipboard('random_state',\n",
       "                          this.parentElement.nextElementSibling)\"\n",
       "            ></i></td>\n",
       "            <td class=\"param\">random_state&nbsp;</td>\n",
       "            <td class=\"value\">None</td>\n",
       "        </tr>\n",
       "    \n",
       "\n",
       "        <tr class=\"user-set\">\n",
       "            <td><i class=\"copy-paste-icon\"\n",
       "                 onclick=\"copyToClipboard('solver',\n",
       "                          this.parentElement.nextElementSibling)\"\n",
       "            ></i></td>\n",
       "            <td class=\"param\">solver&nbsp;</td>\n",
       "            <td class=\"value\">&#x27;liblinear&#x27;</td>\n",
       "        </tr>\n",
       "    \n",
       "\n",
       "        <tr class=\"default\">\n",
       "            <td><i class=\"copy-paste-icon\"\n",
       "                 onclick=\"copyToClipboard('max_iter',\n",
       "                          this.parentElement.nextElementSibling)\"\n",
       "            ></i></td>\n",
       "            <td class=\"param\">max_iter&nbsp;</td>\n",
       "            <td class=\"value\">100</td>\n",
       "        </tr>\n",
       "    \n",
       "\n",
       "        <tr class=\"default\">\n",
       "            <td><i class=\"copy-paste-icon\"\n",
       "                 onclick=\"copyToClipboard('multi_class',\n",
       "                          this.parentElement.nextElementSibling)\"\n",
       "            ></i></td>\n",
       "            <td class=\"param\">multi_class&nbsp;</td>\n",
       "            <td class=\"value\">&#x27;deprecated&#x27;</td>\n",
       "        </tr>\n",
       "    \n",
       "\n",
       "        <tr class=\"default\">\n",
       "            <td><i class=\"copy-paste-icon\"\n",
       "                 onclick=\"copyToClipboard('verbose',\n",
       "                          this.parentElement.nextElementSibling)\"\n",
       "            ></i></td>\n",
       "            <td class=\"param\">verbose&nbsp;</td>\n",
       "            <td class=\"value\">0</td>\n",
       "        </tr>\n",
       "    \n",
       "\n",
       "        <tr class=\"default\">\n",
       "            <td><i class=\"copy-paste-icon\"\n",
       "                 onclick=\"copyToClipboard('warm_start',\n",
       "                          this.parentElement.nextElementSibling)\"\n",
       "            ></i></td>\n",
       "            <td class=\"param\">warm_start&nbsp;</td>\n",
       "            <td class=\"value\">False</td>\n",
       "        </tr>\n",
       "    \n",
       "\n",
       "        <tr class=\"default\">\n",
       "            <td><i class=\"copy-paste-icon\"\n",
       "                 onclick=\"copyToClipboard('n_jobs',\n",
       "                          this.parentElement.nextElementSibling)\"\n",
       "            ></i></td>\n",
       "            <td class=\"param\">n_jobs&nbsp;</td>\n",
       "            <td class=\"value\">None</td>\n",
       "        </tr>\n",
       "    \n",
       "\n",
       "        <tr class=\"default\">\n",
       "            <td><i class=\"copy-paste-icon\"\n",
       "                 onclick=\"copyToClipboard('l1_ratio',\n",
       "                          this.parentElement.nextElementSibling)\"\n",
       "            ></i></td>\n",
       "            <td class=\"param\">l1_ratio&nbsp;</td>\n",
       "            <td class=\"value\">None</td>\n",
       "        </tr>\n",
       "    \n",
       "                  </tbody>\n",
       "                </table>\n",
       "            </details>\n",
       "        </div>\n",
       "    </div></div></div></div></div><script>function copyToClipboard(text, element) {\n",
       "    // Get the parameter prefix from the closest toggleable content\n",
       "    const toggleableContent = element.closest('.sk-toggleable__content');\n",
       "    const paramPrefix = toggleableContent ? toggleableContent.dataset.paramPrefix : '';\n",
       "    const fullParamName = paramPrefix ? `${paramPrefix}${text}` : text;\n",
       "\n",
       "    const originalStyle = element.style;\n",
       "    const computedStyle = window.getComputedStyle(element);\n",
       "    const originalWidth = computedStyle.width;\n",
       "    const originalHTML = element.innerHTML.replace('Copied!', '');\n",
       "\n",
       "    navigator.clipboard.writeText(fullParamName)\n",
       "        .then(() => {\n",
       "            element.style.width = originalWidth;\n",
       "            element.style.color = 'green';\n",
       "            element.innerHTML = \"Copied!\";\n",
       "\n",
       "            setTimeout(() => {\n",
       "                element.innerHTML = originalHTML;\n",
       "                element.style = originalStyle;\n",
       "            }, 2000);\n",
       "        })\n",
       "        .catch(err => {\n",
       "            console.error('Failed to copy:', err);\n",
       "            element.style.color = 'red';\n",
       "            element.innerHTML = \"Failed!\";\n",
       "            setTimeout(() => {\n",
       "                element.innerHTML = originalHTML;\n",
       "                element.style = originalStyle;\n",
       "            }, 2000);\n",
       "        });\n",
       "    return false;\n",
       "}\n",
       "\n",
       "document.querySelectorAll('.fa-regular.fa-copy').forEach(function(element) {\n",
       "    const toggleableContent = element.closest('.sk-toggleable__content');\n",
       "    const paramPrefix = toggleableContent ? toggleableContent.dataset.paramPrefix : '';\n",
       "    const paramName = element.parentElement.nextElementSibling.textContent.trim();\n",
       "    const fullParamName = paramPrefix ? `${paramPrefix}${paramName}` : paramName;\n",
       "\n",
       "    element.setAttribute('title', fullParamName);\n",
       "});\n",
       "</script></body>"
      ]
     },
     "execution_count": 21,
     "metadata": {},
     "output_type": "execute_result"
    }
   ],
   "execution_count": 21
  },
  {
   "cell_type": "markdown",
   "id": "e7ed4f54",
   "metadata": {
    "papermill": {
     "duration": 0.012177,
     "end_time": "2024-08-05T04:04:09.638208",
     "exception": false,
     "start_time": "2024-08-05T04:04:09.626031",
     "status": "completed"
    },
    "tags": []
   },
   "source": [
    "**Model Prediction**"
   ]
  },
  {
   "cell_type": "code",
   "id": "567bd3d9",
   "metadata": {
    "execution": {
     "iopub.execute_input": "2024-08-05T04:04:09.666616Z",
     "iopub.status.busy": "2024-08-05T04:04:09.666143Z",
     "iopub.status.idle": "2024-08-05T04:04:09.675385Z",
     "shell.execute_reply": "2024-08-05T04:04:09.674048Z"
    },
    "papermill": {
     "duration": 0.026615,
     "end_time": "2024-08-05T04:04:09.678523",
     "exception": false,
     "start_time": "2024-08-05T04:04:09.651908",
     "status": "completed"
    },
    "tags": [],
    "ExecuteTime": {
     "end_time": "2025-10-05T19:08:10.756400Z",
     "start_time": "2025-10-05T19:08:10.744952Z"
    }
   },
   "source": [
    "y_pred = model.predict(x_test_scaled)"
   ],
   "outputs": [],
   "execution_count": 22
  },
  {
   "cell_type": "markdown",
   "id": "b6e92858",
   "metadata": {
    "papermill": {
     "duration": 0.012481,
     "end_time": "2024-08-05T04:04:09.703955",
     "exception": false,
     "start_time": "2024-08-05T04:04:09.691474",
     "status": "completed"
    },
    "tags": []
   },
   "source": [
    "**Model Evaluation**"
   ]
  },
  {
   "cell_type": "code",
   "id": "a51ea51d",
   "metadata": {
    "execution": {
     "iopub.execute_input": "2024-08-05T04:04:09.730728Z",
     "iopub.status.busy": "2024-08-05T04:04:09.730253Z",
     "iopub.status.idle": "2024-08-05T04:04:09.753313Z",
     "shell.execute_reply": "2024-08-05T04:04:09.751971Z"
    },
    "papermill": {
     "duration": 0.040778,
     "end_time": "2024-08-05T04:04:09.757092",
     "exception": false,
     "start_time": "2024-08-05T04:04:09.716314",
     "status": "completed"
    },
    "tags": [],
    "ExecuteTime": {
     "end_time": "2025-10-05T19:08:12.526228Z",
     "start_time": "2025-10-05T19:08:12.506067Z"
    }
   },
   "source": [
    "from sklearn.metrics import accuracy_score, classification_report, confusion_matrix\n",
    "\n",
    "confusion_matrix = confusion_matrix(y_test, y_pred)\n",
    "print(\"Confusion Matrix:\")\n",
    "print(confusion_matrix)\n",
    "\n",
    "classification_report = classification_report(y_test, y_pred)\n",
    "print(\"Classification Report:\")\n",
    "print(classification_report)\n",
    "\n",
    "accuracy = accuracy_score(y_test, y_pred)\n",
    "print(\"Accuracy:\", accuracy)"
   ],
   "outputs": [
    {
     "name": "stdout",
     "output_type": "stream",
     "text": [
      "Confusion Matrix:\n",
      "[[ 17   5   0   0   0]\n",
      " [  0  45   4   0   0]\n",
      " [  0   3  77   5   0]\n",
      " [  0   0   1  85   0]\n",
      " [  0   0   0   0 237]]\n",
      "Classification Report:\n",
      "              precision    recall  f1-score   support\n",
      "\n",
      "         0.0       1.00      0.77      0.87        22\n",
      "         1.0       0.85      0.92      0.88        49\n",
      "         2.0       0.94      0.91      0.92        85\n",
      "         3.0       0.94      0.99      0.97        86\n",
      "         4.0       1.00      1.00      1.00       237\n",
      "\n",
      "    accuracy                           0.96       479\n",
      "   macro avg       0.95      0.92      0.93       479\n",
      "weighted avg       0.96      0.96      0.96       479\n",
      "\n",
      "Accuracy: 0.9624217118997912\n"
     ]
    }
   ],
   "execution_count": 23
  },
  {
   "cell_type": "markdown",
   "id": "7a1cafa6",
   "metadata": {
    "papermill": {
     "duration": 0.012895,
     "end_time": "2024-08-05T04:04:09.783567",
     "exception": false,
     "start_time": "2024-08-05T04:04:09.770672",
     "status": "completed"
    },
    "tags": []
   },
   "source": [
    "# Accuracy is 96%"
   ]
  },
  {
   "cell_type": "markdown",
   "id": "ee1986a6",
   "metadata": {
    "papermill": {
     "duration": 0.01263,
     "end_time": "2024-08-05T04:04:09.809001",
     "exception": false,
     "start_time": "2024-08-05T04:04:09.796371",
     "status": "completed"
    },
    "tags": []
   },
   "source": [
    "### Conclusion\n",
    "\n",
    "In this analysis, the Logistic Regression model was evaluated on the test set with the following results:\n",
    "\n",
    "1. **Model Performance:**\n",
    "   - The model achieved an **accuracy of 96%** on the test set, indicating perfect classification performance.\n",
    "   - The confusion matrix confirms that all instances were correctly classified, with no misclassifications.\n",
    "\n",
    "2. **Evaluation Metrics:**\n",
    "   - The classification report shows perfect precision, recall, and F1-scores for all classes.\n",
    "   - The accuracy score of 1.0 reflects exceptional performance across all categories.\n",
    "\n",
    "3. **Implications:**\n",
    "   - The model's perfect accuracy suggests that it performs very well on this dataset. However, such results may also indicate potential overfitting, especially if the dataset is small or not representative of broader scenarios.\n",
    "\n",
    "4. **Future Considerations:**\n",
    "   - **Validation:** To ensure robustness, validate the model on different or larger datasets.\n",
    "   - **Exploration:** Consider exploring additional models or techniques to compare performance.\n",
    "   - **Cross-Validation:** Regular cross-validation can help confirm the model’s performance and generalizability.\n",
    "\n",
    "In summary, the Logistic Regression model demonstrates excellent performance on the current dataset, achieving perfect accuracy and classification metrics. Further validation and exploration will help ensure the model’s applicability and performance in diverse scenarios.\n",
    "\n",
    "---\n",
    "\n",
    "If you found this notebook useful, please consider **upvoting** it. Your feedback and support are greatly appreciated!"
   ]
  }
 ],
 "metadata": {
  "kaggle": {
   "accelerator": "none",
   "dataSources": [
    {
     "datasetId": 5195702,
     "sourceId": 8677630,
     "sourceType": "datasetVersion"
    }
   ],
   "dockerImageVersionId": 30746,
   "isGpuEnabled": false,
   "isInternetEnabled": true,
   "language": "python",
   "sourceType": "notebook"
  },
  "kernelspec": {
   "display_name": "Python 3",
   "language": "python",
   "name": "python3"
  },
  "language_info": {
   "codemirror_mode": {
    "name": "ipython",
    "version": 3
   },
   "file_extension": ".py",
   "mimetype": "text/x-python",
   "name": "python",
   "nbconvert_exporter": "python",
   "pygments_lexer": "ipython3",
   "version": "3.10.13"
  },
  "papermill": {
   "default_parameters": {},
   "duration": 12.888765,
   "end_time": "2024-08-05T04:04:10.645643",
   "environment_variables": {},
   "exception": null,
   "input_path": "__notebook__.ipynb",
   "output_path": "__notebook__.ipynb",
   "parameters": {},
   "start_time": "2024-08-05T04:03:57.756878",
   "version": "2.5.0"
  }
 },
 "nbformat": 4,
 "nbformat_minor": 5
}
